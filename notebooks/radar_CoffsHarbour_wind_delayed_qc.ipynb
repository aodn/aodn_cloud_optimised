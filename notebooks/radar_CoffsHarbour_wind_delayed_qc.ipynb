{
 "cells": [
  {
   "cell_type": "markdown",
   "id": "88c3eb1c37778d59",
   "metadata": {},
   "source": [
    "## Access Radar Coffsharbour Wind Delayed Qc data in Zarr\n",
    "A jupyter notebook to show how to access and plot the AODN radar_CoffsHarbour_wind_delayed_qc dataset available as a [Zarr](https://zarr.dev/) dataset on S3.\n",
    "\n",
    "More information about the dataset available [here](https://catalogue-imos.aodn.org.au/geonetwork/srv/eng/catalog.search#/metadata/ffe8f19c-de4a-4362-89be-7605b2dd6b8c).\n",
    "\n",
    "📌 The point of truth for this notebook is [on GitHub](https://github.com/aodn/aodn_cloud_optimised/tree/main/notebooks/radar_CoffsHarbour_wind_delayed_qc.ipynb)."
   ]
  },
  {
   "cell_type": "code",
   "execution_count": 1,
   "id": "db60797ca5fabcce",
   "metadata": {},
   "outputs": [],
   "source": [
    "dataset_name = \"radar_CoffsHarbour_wind_delayed_qc\""
   ]
  },
  {
   "cell_type": "markdown",
   "id": "f167c284-0324-49e7-8fcc-c57abde81ab1",
   "metadata": {},
   "source": [
    "## Install/Update packages and Load common functions"
   ]
  },
  {
   "cell_type": "code",
   "execution_count": 2,
   "id": "db6a4be5-7b34-44b1-b1cb-5bd053ba13d4",
   "metadata": {},
   "outputs": [
    {
     "name": "stderr",
     "output_type": "stream",
     "text": [
      "Using CPython 3.12.6 interpreter at: \u001b[36m/home/lbesnard/miniforge3/envs/AodnCloudOptimised/bin/python\u001b[39m\n",
      "Creating virtual environment at: \u001b[36m.venv\u001b[39m\n",
      "Activate with: \u001b[32msource .venv/bin/activate\u001b[39m\n",
      "\u001b[2mAudited \u001b[1m240 packages\u001b[0m \u001b[2min 30ms\u001b[0m\u001b[0m\n"
     ]
    },
    {
     "name": "stdout",
     "output_type": "stream",
     "text": [
      "✅ Local version 0.2.2 is up to date (remote: 0.2.2)\n"
     ]
    }
   ],
   "source": [
    "import os, requests, importlib.util\n",
    "\n",
    "open('setup.py', 'w').write(requests.get('https://raw.githubusercontent.com/aodn/aodn_cloud_optimised/main/notebooks/setup.py').text)\n",
    "\n",
    "spec = importlib.util.spec_from_file_location(\"setup\", \"setup.py\")\n",
    "setup = importlib.util.module_from_spec(spec)\n",
    "spec.loader.exec_module(setup)\n",
    "\n",
    "setup.install_requirements()\n",
    "setup.load_dataquery()"
   ]
  },
  {
   "cell_type": "code",
   "execution_count": 3,
   "id": "f97afd2652e7e52",
   "metadata": {},
   "outputs": [],
   "source": [
    "from DataQuery import GetAodn"
   ]
  },
  {
   "cell_type": "markdown",
   "id": "020e95fc-a417-457c-be0d-cbbea354977a",
   "metadata": {},
   "source": [
    "# Understanding the Dataset"
   ]
  },
  {
   "cell_type": "code",
   "execution_count": 4,
   "id": "521f88c5-01bc-4b77-88ad-2dba57457ab7",
   "metadata": {},
   "outputs": [
    {
     "name": "stdout",
     "output_type": "stream",
     "text": [
      "CPU times: user 407 ms, sys: 44.8 ms, total: 451 ms\n",
      "Wall time: 779 ms\n"
     ]
    }
   ],
   "source": [
    "aodn = GetAodn()\n",
    "dname = f'{dataset_name}.zarr'\n",
    "%time aodn_dataset = aodn.get_dataset(dname)"
   ]
  },
  {
   "cell_type": "code",
   "execution_count": 5,
   "id": "d43da808-af9a-4f36-8a20-017cce94ab43",
   "metadata": {},
   "outputs": [
    {
     "name": "stdout",
     "output_type": "stream",
     "text": [
      "xarray.Dataset {\n",
      "dimensions:\n",
      "\tLATITUDE = 167 ;\n",
      "\tLONGITUDE = 114 ;\n",
      "\tTIME = 1 ;\n",
      "\n",
      "variables:\n",
      "\tfloat64 LATITUDE(LATITUDE) ;\n",
      "\t\tLATITUDE:axis = Y ;\n",
      "\t\tLATITUDE:long_name = latitude ;\n",
      "\t\tLATITUDE:reference_datum = geographical coordinates, WGS84 datum ;\n",
      "\t\tLATITUDE:standard_name = latitude ;\n",
      "\t\tLATITUDE:units = degree_north ;\n",
      "\t\tLATITUDE:valid_max = 90.0 ;\n",
      "\t\tLATITUDE:valid_min = -90.0 ;\n",
      "\tfloat64 LONGITUDE(LONGITUDE) ;\n",
      "\t\tLONGITUDE:axis = X ;\n",
      "\t\tLONGITUDE:long_name = longitude ;\n",
      "\t\tLONGITUDE:reference_datum = geographical coordinates, WGS84 datum ;\n",
      "\t\tLONGITUDE:standard_name = longitude ;\n",
      "\t\tLONGITUDE:units = degree_east ;\n",
      "\t\tLONGITUDE:valid_max = 180.0 ;\n",
      "\t\tLONGITUDE:valid_min = -180.0 ;\n",
      "\tdatetime64[ns] TIME(TIME) ;\n",
      "\t\tTIME:axis = T ;\n",
      "\t\tTIME:comment = Given time lies at the middle of the 1 hour averaging period. ;\n",
      "\t\tTIME:local_time_zone = 8.0 ;\n",
      "\t\tTIME:long_name = time ;\n",
      "\t\tTIME:standard_name = time ;\n",
      "\t\tTIME:valid_max = 999999.0 ;\n",
      "\t\tTIME:valid_min = 0.0 ;\n",
      "\tfloat64 WDIR(TIME, LATITUDE, LONGITUDE) ;\n",
      "\t\tWDIR:ancillary_variables = WDIR_quality_control ;\n",
      "\t\tWDIR:long_name = Direction towards which the wind is blowing based on short wave direction ;\n",
      "\t\tWDIR:standard_name = wind_to_direction ;\n",
      "\t\tWDIR:units = degrees clockwise from true north ;\n",
      "\t\tWDIR:valid_max = 360.0 ;\n",
      "\t\tWDIR:valid_min = 0.0 ;\n",
      "\tfloat64 WDIR_quality_control(TIME, LATITUDE, LONGITUDE) ;\n",
      "\t\tWDIR_quality_control:flag_meanings = no_qc_performed good_data probably_good_data probably_bad_data bad_data value_changed value_below_detection value_in_excess interpolated_value missing_value uncertain_phenomenon ;\n",
      "\t\tWDIR_quality_control:flag_values = [0, 1, 2, 3, 4, 5, 6, 7, 8, 9, 10] ;\n",
      "\t\tWDIR_quality_control:long_name = quality flag for Direction towards which the wind is blowing based on short wave direction ;\n",
      "\t\tWDIR_quality_control:quality_control_conventions = IMOS standard set using the IODE flags ;\n",
      "\t\tWDIR_quality_control:quality_control_indicator = 1 ;\n",
      "\t\tWDIR_quality_control:quality_control_set = 1 ;\n",
      "\t\tWDIR_quality_control:valid_max = 10 ;\n",
      "\t\tWDIR_quality_control:valid_min = 0 ;\n",
      "\tfloat64 WWAV(TIME, LATITUDE, LONGITUDE) ;\n",
      "\t\tWWAV:ancillary_variables = WWAV_quality_control ;\n",
      "\t\tWWAV:long_name = Short wave direction towards which the wave is propagating ;\n",
      "\t\tWWAV:standard_name = sea_surface_wind_wave_to_direction ;\n",
      "\t\tWWAV:units = degrees clockwise from true north ;\n",
      "\t\tWWAV:valid_max = 360.0 ;\n",
      "\t\tWWAV:valid_min = 0.0 ;\n",
      "\tfloat64 WWAV_quality_control(TIME, LATITUDE, LONGITUDE) ;\n",
      "\t\tWWAV_quality_control:flag_meanings = no_qc_performed good_data probably_good_data probably_bad_data bad_data value_changed value_below_detection value_in_excess interpolated_value missing_value uncertain_phenomenon ;\n",
      "\t\tWWAV_quality_control:flag_values = [0, 1, 2, 3, 4, 5, 6, 7, 8, 9, 10] ;\n",
      "\t\tWWAV_quality_control:long_name = quality flag for short wave direction towards which the wave is propagating ;\n",
      "\t\tWWAV_quality_control:quality_control_conventions = IMOS standard set using the IODE flags ;\n",
      "\t\tWWAV_quality_control:quality_control_indicator = 1 ;\n",
      "\t\tWWAV_quality_control:quality_control_set = 1 ;\n",
      "\t\tWWAV_quality_control:valid_max = 10 ;\n",
      "\t\tWWAV_quality_control:valid_min = 0 ;\n",
      "\tfloat64 WWDS(TIME, LATITUDE, LONGITUDE) ;\n",
      "\t\tWWDS:ancillary_variables = WWDS_quality_control ;\n",
      "\t\tWWDS:long_name = Short wave directional spreading using Donelan model ;\n",
      "\t\tWWDS:units = degrees ;\n",
      "\t\tWWDS:valid_max = 90.0 ;\n",
      "\t\tWWDS:valid_min = 0.0 ;\n",
      "\tfloat64 WWDS_quality_control(TIME, LATITUDE, LONGITUDE) ;\n",
      "\t\tWWDS_quality_control:flag_meanings = no_qc_performed good_data probably_good_data probably_bad_data bad_data value_changed value_below_detection value_in_excess interpolated_value missing_value uncertain_phenomenon ;\n",
      "\t\tWWDS_quality_control:flag_values = [0, 1, 2, 3, 4, 5, 6, 7, 8, 9, 10] ;\n",
      "\t\tWWDS_quality_control:long_name = quality flag for short wave spread ;\n",
      "\t\tWWDS_quality_control:quality_control_conventions = IMOS standard set using the IODE flags ;\n",
      "\t\tWWDS_quality_control:quality_control_indicator = 1 ;\n",
      "\t\tWWDS_quality_control:quality_control_set = 1 ;\n",
      "\t\tWWDS_quality_control:valid_max = 10 ;\n",
      "\t\tWWDS_quality_control:valid_min = 0 ;\n",
      "\t<U49 filename(TIME) ;\n",
      "\n",
      "// global attributes:\n",
      "\t:Conventions = CF-1.5,IMOS-1.2 ;\n",
      "\t:abstract = The ACORN facility is producing NetCDF files with wind direction and short wave direction and spread  data for each site every hour. These are obtained using software supplied by Seaview Sensing Ltd which applies the method described in Wyatt et al, 1996, Maximum Likelihood estimation of the directional distribution of 0.53Hz ocean waves, Journal of Atmospheric and Oceanic Technology, 14, 591-603, 1996. Directions are all towards which the wave is propagating or the wind is blowing.  Each value has a corresponding quality control flag where a value of 0 means that the data have passed all the standard Seaview Sensing QC procedures and a values of 1 means the data have passed additional experimental Seavew Sensing QC procedures.  ;\n",
      "\t:acknowledgment = Data was sourced from the Integrated Marine Observing System (IMOS) - IMOS is supported by the Australian Government through the National Collaborative Research Infrastructure Strategy (NCRIS) and the Super Science Initiative (SSI). ;\n",
      "\t:author = Wyatt, Lucy ;\n",
      "\t:author_email = lucy.wyatt@jcu.edu.au ;\n",
      "\t:citation = The citation in a list of references is: IMOS, [year-of-data-download], [Title], [data-access-URL], accessed [date-of-access] ;\n",
      "\t:comment = This NetCDF file has been created using the IMOS NetCDF User Manual v1.2. A copy of the document is available at http://imos.org.au/facility_manuals.html ;\n",
      "\t:data_centre = eMarine Information Infrastructure (eMII) ;\n",
      "\t:data_centre_email = info@emii.org.au ;\n",
      "\t:date_created = 2014-12-02T00:00:00Z ;\n",
      "\t:distribution_statement = Data, products and services from IMOS are provided \"as is\" without any warranty as to fitness for a particular purpose ;\n",
      "\t:file_version = Level 1 - Quality Controlled data ;\n",
      "\t:file_version_quality_control = Data in this file has been through the IMOS quality control procedure (Reference Table C).  Every data point in this file has an associated quality flag ;\n",
      "\t:geospatial_lat_max = -29.363513 ;\n",
      "\t:geospatial_lat_min = -31.609578 ;\n",
      "\t:geospatial_lat_units = degrees_north ;\n",
      "\t:geospatial_lon_max = 154.775963 ;\n",
      "\t:geospatial_lon_min = 153.010561 ;\n",
      "\t:geospatial_lon_units = degrees_east ;\n",
      "\t:geospatial_vertical_max = 0.0 ;\n",
      "\t:geospatial_vertical_min = 0.0 ;\n",
      "\t:geospatial_vertical_units = m ;\n",
      "\t:institution = Australian Coastal Ocean Radar Network (ACORN) ;\n",
      "\t:institution_references = http://www.imos.org.au/acorn.html ;\n",
      "\t:instrument = WERA Oceanographic HF Radar/Helzel Messtechnik, GmbH using Seaview Sensing Ltd software ;\n",
      "\t:keywords = Oceans ;\n",
      "\t:local_time_zone = 10.0 ;\n",
      "\t:metadata_uuid = ffe8f19c-de4a-4362-89be-7605b2dd6b8c ;\n",
      "\t:naming_authority = IMOS ;\n",
      "\t:netcdf_version = 4.1.3 ;\n",
      "\t:principal_investigator = Wyatt, Lucy ;\n",
      "\t:project = Integrated Marine Observing System (IMOS) ;\n",
      "\t:quality_control_set = 1 ;\n",
      "\t:site_code = COF, Coffs Harbour ;\n",
      "\t:source = Terrestrial HF radar ;\n",
      "\t:ssr_Stations = Red Rock (RRK), NNB (NNB) ;\n",
      "\t:time_coverage_end = 2012-04-01T00:30:00Z ;\n",
      "\t:time_coverage_start = 2012-04-01T00:30:00Z ;\n",
      "\t:title =  ;\n",
      "}"
     ]
    }
   ],
   "source": [
    "ds = aodn_dataset.zarr_store\n",
    "ds.info()"
   ]
  },
  {
   "cell_type": "markdown",
   "id": "fbdae3d5-6930-4359-9424-c2fb4389d081",
   "metadata": {},
   "source": [
    "## Plot time coverage"
   ]
  },
  {
   "cell_type": "code",
   "execution_count": 6,
   "id": "63740a54-5aeb-4204-beb1-070422ad3412",
   "metadata": {},
   "outputs": [
    {
     "data": {
      "text/plain": [
       "(Timestamp('2012-04-01 00:30:00'), Timestamp('2012-04-01 00:30:00'))"
      ]
     },
     "execution_count": 6,
     "metadata": {},
     "output_type": "execute_result"
    }
   ],
   "source": [
    "aodn_dataset.get_temporal_extent()"
   ]
  },
  {
   "cell_type": "code",
   "execution_count": 7,
   "id": "4b9bff64-4a51-4709-9d62-62cda4ac4cf9",
   "metadata": {},
   "outputs": [
    {
     "data": {
      "image/png": "[encoded data removed]",
      "text/plain": [
       "<Figure size 1000x600 with 2 Axes>"
      ]
     },
     "metadata": {},
     "output_type": "display_data"
    }
   ],
   "source": [
    "aodn_dataset.plot_time_coverage()"
   ]
  },
  {
   "cell_type": "markdown",
   "id": "23a9d042-1f02-4d6c-aa91-6bea18787807",
   "metadata": {},
   "source": [
    "## Plot a gridded variable"
   ]
  },
  {
   "cell_type": "code",
   "execution_count": 8,
   "id": "900c2d3c-b212-47b8-b440-35a8eea52186",
   "metadata": {},
   "outputs": [
    {
     "name": "stderr",
     "output_type": "stream",
     "text": [
      "2025-06-12 13:20:24,852 - aodn.GetAodn - INFO - Plotting 'Direction towards which the wind is blowing based on short wave direction' for 1 time steps.\n",
      "2025-06-12 13:20:24,915 - aodn.GetAodn - WARNING - No valid data found across all selected dates and coordinates to determine color scale.\n"
     ]
    },
    {
     "name": "stdout",
     "output_type": "stream",
     "text": [
      "CPU times: user 601 ms, sys: 81.1 ms, total: 682 ms\n",
      "Wall time: 631 ms\n"
     ]
    }
   ],
   "source": [
    "%%time\n",
    "time_series_df = aodn_dataset.plot_gridded_variable(var_name='WDIR', \n",
    "                                                    date_start='2014-12-02', \n",
    "                                                    n_days=6, \n",
    "                                                    coastline_resolution=\"50m\", \n",
    "                                                    )"
   ]
  },
  {
   "cell_type": "code",
   "execution_count": null,
   "id": "c0bf0db8-42cf-4510-8f91-e62447e4b6e2",
   "metadata": {},
   "outputs": [],
   "source": []
  }
 ],
 "metadata": {
  "kernelspec": {
   "display_name": "Python 3 (ipykernel)",
   "language": "python",
   "name": "python3"
  },
  "language_info": {
   "codemirror_mode": {
    "name": "ipython",
    "version": 3
   },
   "file_extension": ".py",
   "mimetype": "text/x-python",
   "name": "python",
   "nbconvert_exporter": "python",
   "pygments_lexer": "ipython3",
   "version": "3.12.6"
  }
 },
 "nbformat": 4,
 "nbformat_minor": 5
}
