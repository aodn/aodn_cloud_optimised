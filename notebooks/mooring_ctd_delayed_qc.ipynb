{
 "cells": [
  {
   "cell_type": "markdown",
   "metadata": {},
   "source": [
    "## Access ANMN CTD Mooring NRT data in Parquet\n",
    "\n",
    "A jupyter notebook to show how to access and plot ANMN Mooring NRT data available as a [Parquet](https://parquet.apache.org) dataset on S3"
   ]
  },
  {
   "cell_type": "code",
   "execution_count": 1,
   "metadata": {},
   "outputs": [],
   "source": [
    "dataset_name = \"mooring_ctd_delayed_qc\""
   ]
  },
  {
   "cell_type": "markdown",
   "metadata": {},
   "source": [
    "## Install/Update packages and Load common functions"
   ]
  },
  {
   "cell_type": "code",
   "execution_count": 2,
   "metadata": {},
   "outputs": [
    {
     "name": "stdout",
     "output_type": "stream",
     "text": [
      "Requirement already satisfied: uv in /home/raymond/anaconda3/envs/data-access-service/lib/python3.10/site-packages (0.2.31)\n"
     ]
    },
    {
     "name": "stderr",
     "output_type": "stream",
     "text": [
      "Using Python 3.10.14 interpreter at: \u001b[36m/home/raymond/anaconda3/envs/data-access-service/bin/python3\u001b[39m\n",
      "Creating virtualenv at: \u001b[36m.venv\u001b[39m\n",
      "Activate with: \u001b[32msource .venv/bin/activate\u001b[39m\n",
      "\u001b[2mAudited \u001b[1m127 packages\u001b[0m \u001b[2min 87ms\u001b[0m\u001b[0m\n"
     ]
    }
   ],
   "source": [
    "# only run once, then restart session if needed\n",
    "!pip install uv\n",
    "\n",
    "import os\n",
    "import sys\n",
    "\n",
    "def is_colab():\n",
    "    try:\n",
    "        import google.colab\n",
    "        return True\n",
    "    except ImportError:\n",
    "        return False\n",
    "\n",
    "if is_colab():\n",
    "    os.system('uv pip install --system -r https://raw.githubusercontent.com/aodn/aodn_cloud_optimised/main/notebooks/requirements.txt')\n",
    "else:\n",
    "    os.system('uv venv')\n",
    "    os.system('uv pip install -r https://raw.githubusercontent.com/aodn/aodn_cloud_optimised/main/notebooks/requirements.txt')"
   ]
  },
  {
   "cell_type": "code",
   "execution_count": 3,
   "metadata": {},
   "outputs": [],
   "source": [
    "import requests\n",
    "import os\n",
    "if not os.path.exists('parquet_queries.py'):\n",
    "  print('Downloading parquet_queries.py')\n",
    "  url = 'https://raw.githubusercontent.com/aodn/aodn_cloud_optimised/main/aodn_cloud_optimised/lib/ParquetDataQuery.py'\n",
    "  response = requests.get(url)\n",
    "  with open('parquet_queries.py', 'w') as f:\n",
    "      f.write(response.text)"
   ]
  },
  {
   "cell_type": "code",
   "execution_count": 4,
   "metadata": {},
   "outputs": [],
   "source": [
    "from parquet_queries import create_time_filter, create_bbox_filter, query_unique_value, plot_spatial_extent, get_spatial_extent, get_temporal_extent, get_schema_metadata\n",
    "import pyarrow.parquet as pq\n",
    "import pyarrow.dataset as pds\n",
    "import pyarrow as pa\n",
    "import os\n",
    "import pandas as pd\n",
    "import pyarrow.compute as pc"
   ]
  },
  {
   "cell_type": "markdown",
   "metadata": {},
   "source": [
    "## Location of the parquet dataset"
   ]
  },
  {
   "cell_type": "code",
   "execution_count": 5,
   "metadata": {},
   "outputs": [],
   "source": [
    "BUCKET_OPTIMISED_DEFAULT=\"imos-data-lab-optimised\"\n",
    "dname = f\"s3://{BUCKET_OPTIMISED_DEFAULT}/cloud_optimised/cluster_testing/{dataset_name}.parquet/\"\n",
    "parquet_ds = pq.ParquetDataset(dname,partitioning='hive')"
   ]
  },
  {
   "cell_type": "markdown",
   "metadata": {},
   "source": [
    "# Understanding the Dataset"
   ]
  },
  {
   "cell_type": "markdown",
   "metadata": {},
   "source": [
    "## Get partition keys\n",
    "Partitioning in Parquet involves organising data files based on the values of one or more columns, known as partition keys. When data is written to Parquet files with partitioning enabled, the files are physically stored in a directory structure that reflects the partition keys. This directory structure makes it easier to retrieve and process specific subsets of data based on the partition keys."
   ]
  },
  {
   "cell_type": "code",
   "execution_count": 6,
   "metadata": {},
   "outputs": [
    {
     "name": "stdout",
     "output_type": "stream",
     "text": [
      "site_code: string\n",
      "timestamp: int32\n",
      "polygon: string\n"
     ]
    }
   ],
   "source": [
    "dataset = pds.dataset(dname, format=\"parquet\", partitioning=\"hive\")\n",
    "\n",
    "partition_keys = dataset.partitioning.schema\n",
    "print(partition_keys)"
   ]
  },
  {
   "cell_type": "markdown",
   "metadata": {},
   "source": [
    "## List unique partition values"
   ]
  },
  {
   "cell_type": "code",
   "execution_count": 7,
   "metadata": {},
   "outputs": [
    {
     "name": "stdout",
     "output_type": "stream",
     "text": [
      "['NWSBRW', 'ORS065']\n",
      "CPU times: user 11 ms, sys: 0 ns, total: 11 ms\n",
      "Wall time: 10.7 ms\n"
     ]
    }
   ],
   "source": [
    "%%time\n",
    "unique_partition_value = query_unique_value(parquet_ds, 'site_code')\n",
    "print(list(unique_partition_value)[0:2])  # showing a subset only"
   ]
  },
  {
   "cell_type": "markdown",
   "metadata": {},
   "source": [
    "## Visualise Spatial Extent of the dataset\n",
    "In this section, we're plotting the polygons where data exists. This helps then with creating a bounding box where there is data"
   ]
  },
  {
   "cell_type": "code",
   "execution_count": 8,
   "metadata": {},
   "outputs": [
    {
     "data": {
      "image/png": "[encoded data removed]",
      "text/plain": [
       "<Figure size 640x480 with 1 Axes>"
      ]
     },
     "metadata": {},
     "output_type": "display_data"
    }
   ],
   "source": [
    "plot_spatial_extent(parquet_ds)"
   ]
  },
  {
   "cell_type": "markdown",
   "metadata": {},
   "source": [
    "## Get Temporal Extent of the dataset"
   ]
  },
  {
   "cell_type": "markdown",
   "metadata": {},
   "source": [
    "Similary to the spatial extent, we're retrieving the minimum and maximum timestamp partition values of the dataset. This is not necessarely accurately representative of the TIME values, as the timestamp partition can be yearly/monthly... but is here to give an idea"
   ]
  },
  {
   "cell_type": "code",
   "execution_count": 9,
   "metadata": {},
   "outputs": [
    {
     "data": {
      "text/plain": [
       "(datetime.datetime(2008, 4, 1, 11, 0), datetime.datetime(2024, 7, 1, 10, 0))"
      ]
     },
     "execution_count": 9,
     "metadata": {},
     "output_type": "execute_result"
    }
   ],
   "source": [
    "get_temporal_extent(parquet_ds)"
   ]
  },
  {
   "cell_type": "markdown",
   "metadata": {},
   "source": [
    "## Read Metadata\n",
    "\n",
    "For all parquet dataset, we create a sidecar file in the root of the dataset named **_common_matadata**. This contains the variable attributes."
   ]
  },
  {
   "cell_type": "code",
   "execution_count": 10,
   "metadata": {},
   "outputs": [
    {
     "data": {
      "text/plain": [
       "{'TIME': {'type': 'timestamp[ns]',\n",
       "  'axis': 'T',\n",
       "  'comment': 'timeOffsetPP: TIME values and time_coverage_start/end global attributes have been applied the following offset : -10 hours.',\n",
       "  'long_name': 'time',\n",
       "  'standard_name': 'time',\n",
       "  'valid_max': 90000.0,\n",
       "  'valid_min': 0.0},\n",
       " 'TIMESERIES': {'type': 'int32',\n",
       "  'cf_role': 'timeseries_id',\n",
       "  'long_name': 'unique_identifier_for_each_timeseries_feature_instance_in_this_file'},\n",
       " 'LATITUDE': {'type': 'double',\n",
       "  'axis': 'Y',\n",
       "  'long_name': 'latitude',\n",
       "  'reference_datum': 'WGS84 geographic coordinate system',\n",
       "  'standard_name': 'latitude',\n",
       "  'units': 'degrees_north',\n",
       "  'valid_max': 90.0,\n",
       "  'valid_min': -90.0},\n",
       " 'LONGITUDE': {'type': 'double',\n",
       "  'axis': 'X',\n",
       "  'long_name': 'longitude',\n",
       "  'reference_datum': 'WGS84 geographic coordinate system',\n",
       "  'standard_name': 'longitude',\n",
       "  'units': 'degrees_east',\n",
       "  'valid_max': 180.0,\n",
       "  'valid_min': -180.0},\n",
       " 'NOMINAL_DEPTH': {'type': 'float',\n",
       "  'axis': 'Z',\n",
       "  'long_name': 'nominal depth',\n",
       "  'positive': 'down',\n",
       "  'reference_datum': 'sea surface',\n",
       "  'standard_name': 'depth',\n",
       "  'units': 'm',\n",
       "  'valid_max': 12000.0,\n",
       "  'valid_min': -5.0},\n",
       " 'CNDC': {'type': 'float',\n",
       "  'ancillary_variables': 'CNDC_quality_control',\n",
       "  'long_name': 'sea_water_electrical_conductivity',\n",
       "  'standard_name': 'sea_water_electrical_conductivity',\n",
       "  'units': 'S m-1',\n",
       "  'valid_max': 50000.0,\n",
       "  'valid_min': 0.0},\n",
       " 'CNDC_quality_control': {'type': 'float',\n",
       "  'flag_meanings': 'No_QC_performed Good_data Probably_good_data Bad_data_that_are_potentially_correctable Bad_data Value_changed Not_used Not_used Not_used Missing_value',\n",
       "  'flag_values': [0, 1, 2, 3, 4, 5, 6, 7, 8, 9],\n",
       "  'long_name': 'quality flag for sea_water_electrical_conductivity',\n",
       "  'quality_control_conventions': 'IMOS standard flags',\n",
       "  'quality_control_global': ' ',\n",
       "  'quality_control_global_conventions': 'Argo reference table 2a (see http://www.cmar.csiro.au/argo/dmqc/user_doc/QC_flags.html), applied on data in position only (between global attributes time_deployment_start and time_deployment_end)',\n",
       "  'standard_name': 'sea_water_electrical_conductivity status_flag'},\n",
       " 'TEMP': {'type': 'float',\n",
       "  'ancillary_variables': 'TEMP_quality_control',\n",
       "  'long_name': 'sea_water_temperature',\n",
       "  'standard_name': 'sea_water_temperature',\n",
       "  'units': 'degrees_Celsius',\n",
       "  'valid_max': 40.0,\n",
       "  'valid_min': -2.5},\n",
       " 'TEMP_quality_control': {'type': 'float',\n",
       "  'comment': 'Data values at TIME from 2021/04/29 01:55:01 UTC to 2021/04/29 01:55:01 UTC manually flagged as Bad_data : Instrument instability',\n",
       "  'flag_meanings': 'No_QC_performed Good_data Probably_good_data Bad_data_that_are_potentially_correctable Bad_data Value_changed Not_used Not_used Not_used Missing_value',\n",
       "  'flag_values': [0, 1, 2, 3, 4, 5, 6, 7, 8, 9],\n",
       "  'long_name': 'quality flag for sea_water_temperature',\n",
       "  'quality_control_conventions': 'IMOS standard flags',\n",
       "  'quality_control_global': 'B',\n",
       "  'quality_control_global_conventions': 'Argo reference table 2a (see http://www.cmar.csiro.au/argo/dmqc/user_doc/QC_flags.html), applied on data in position only (between global attributes time_deployment_start and time_deployment_end)',\n",
       "  'standard_name': 'sea_water_temperature status_flag'},\n",
       " 'PSAL': {'type': 'float',\n",
       "  'ancillary_variables': 'PSAL_quality_control',\n",
       "  'long_name': 'sea_water_practical_salinity',\n",
       "  'standard_name': 'sea_water_practical_salinity',\n",
       "  'units': '1',\n",
       "  'valid_max': 41.0,\n",
       "  'valid_min': 2.0},\n",
       " 'PSAL_quality_control': {'type': 'float',\n",
       "  'comment': 'Data values at TIME from 2021/05/24 03:45:01 UTC to 2021/05/24 03:45:01 UTC manually flagged as Bad_data : spike. Data values at TIME from 2021/04/29 01:55:01 UTC to 2021/04/29 01:55:01 UTC manually flagged as Bad_data : Instrument instability',\n",
       "  'flag_meanings': 'No_QC_performed Good_data Probably_good_data Bad_data_that_are_potentially_correctable Bad_data Value_changed Not_used Not_used Not_used Missing_value',\n",
       "  'flag_values': [0, 1, 2, 3, 4, 5, 6, 7, 8, 9],\n",
       "  'long_name': 'quality flag for sea_water_practical_salinity',\n",
       "  'quality_control_conventions': 'IMOS standard flags',\n",
       "  'quality_control_global': 'B',\n",
       "  'quality_control_global_conventions': 'Argo reference table 2a (see http://www.cmar.csiro.au/argo/dmqc/user_doc/QC_flags.html), applied on data in position only (between global attributes time_deployment_start and time_deployment_end)',\n",
       "  'standard_name': 'sea_water_practical_salinity status_flag'},\n",
       " 'PRES_REL': {'type': 'float',\n",
       "  'ancillary_variables': 'PRES_REL_quality_control',\n",
       "  'applied_offset': -10.135296821594238,\n",
       "  'long_name': 'sea_water_pressure_due_to_sea_water',\n",
       "  'standard_name': 'sea_water_pressure_due_to_sea_water',\n",
       "  'units': 'dbar',\n",
       "  'valid_max': 12000.0,\n",
       "  'valid_min': -15.0},\n",
       " 'PRES_REL_quality_control': {'type': 'float',\n",
       "  'flag_meanings': 'No_QC_performed Good_data Probably_good_data Bad_data_that_are_potentially_correctable Bad_data Value_changed Not_used Not_used Not_used Missing_value',\n",
       "  'flag_values': [0, 1, 2, 3, 4, 5, 6, 7, 8, 9],\n",
       "  'long_name': 'quality flag for sea_water_pressure_due_to_sea_water',\n",
       "  'quality_control_conventions': 'IMOS standard flags',\n",
       "  'quality_control_global': 'A',\n",
       "  'quality_control_global_conventions': 'Argo reference table 2a (see http://www.cmar.csiro.au/argo/dmqc/user_doc/QC_flags.html), applied on data in position only (between global attributes time_deployment_start and time_deployment_end)',\n",
       "  'standard_name': 'sea_water_pressure_due_to_sea_water status_flag'},\n",
       " 'DEPTH': {'type': 'float',\n",
       "  'ancillary_variables': 'DEPTH_quality_control',\n",
       "  'long_name': 'actual depth',\n",
       "  'positive': 'down',\n",
       "  'reference_datum': 'sea surface',\n",
       "  'standard_name': 'depth',\n",
       "  'units': 'm',\n",
       "  'valid_max': 12000.0,\n",
       "  'valid_min': -5.0},\n",
       " 'DEPTH_quality_control': {'type': 'float',\n",
       "  'flag_meanings': 'No_QC_performed Good_data Probably_good_data Bad_data_that_are_potentially_correctable Bad_data Value_changed Not_used Not_used Not_used Missing_value',\n",
       "  'flag_values': [0, 1, 2, 3, 4, 5, 6, 7, 8, 9],\n",
       "  'long_name': 'quality flag for depth',\n",
       "  'quality_control_conventions': 'IMOS standard flags',\n",
       "  'quality_control_global': 'A',\n",
       "  'quality_control_global_conventions': 'Argo reference table 2a (see http://www.cmar.csiro.au/argo/dmqc/user_doc/QC_flags.html), applied on data in position only (between global attributes time_deployment_start and time_deployment_end)',\n",
       "  'standard_name': 'depth status_flag'},\n",
       " 'DENS': {'type': 'float',\n",
       "  'ancillary_variables': 'DENS_quality_control',\n",
       "  'long_name': 'sea_water_density',\n",
       "  'standard_name': 'sea_water_density',\n",
       "  'units': 'kg m-3'},\n",
       " 'DENS_quality_control': {'type': 'float',\n",
       "  'flag_meanings': 'No_QC_performed Good_data Probably_good_data Bad_data_that_are_potentially_correctable Bad_data Value_changed Not_used Not_used Not_used Missing_value',\n",
       "  'flag_values': [0, 1, 2, 3, 4, 5, 6, 7, 8, 9],\n",
       "  'long_name': 'quality flag for sea_water_density',\n",
       "  'quality_control_conventions': 'IMOS standard flags',\n",
       "  'quality_control_global': ' ',\n",
       "  'quality_control_global_conventions': 'Argo reference table 2a (see http://www.cmar.csiro.au/argo/dmqc/user_doc/QC_flags.html), applied on data in position only (between global attributes time_deployment_start and time_deployment_end)',\n",
       "  'standard_name': 'sea_water_density status_flag'},\n",
       " 'timestamp': {'type': 'int64'},\n",
       " 'polygon': {'type': 'string'},\n",
       " 'site_code': {'type': 'string'},\n",
       " 'filename': {'type': 'string'},\n",
       " 'dataset_metadata': {'metadata_uuid': '7b901002-b1dc-46c3-89f2-b4951cedca48',\n",
       "  'title': 'ANMN CTD timeseries'}}"
      ]
     },
     "execution_count": 10,
     "metadata": {},
     "output_type": "execute_result"
    }
   ],
   "source": [
    "# parquet_meta = pa.parquet.read_schema(os.path.join(dname + '_common_metadata'))  # parquet metadata\n",
    "metadata = get_schema_metadata(dname.replace(\"s3://\", \"\"))  # schema metadata\n",
    "metadata"
   ]
  },
  {
   "cell_type": "markdown",
   "metadata": {},
   "source": [
    "# Data Query and Plot"
   ]
  },
  {
   "cell_type": "markdown",
   "metadata": {},
   "source": [
    "## Create a TIME and BoundingBox filter"
   ]
  },
  {
   "cell_type": "code",
   "execution_count": 11,
   "metadata": {},
   "outputs": [],
   "source": [
    "filter_time = create_time_filter(parquet_ds, date_start='2022-12-05', date_end='2022-12-15')\n",
    "filter_geo = create_bbox_filter(parquet_ds, lat_min=-34, lat_max=-28, lon_min=151, lon_max=160)\n",
    "\n",
    "\n",
    "filter = filter_geo & filter_time"
   ]
  },
  {
   "cell_type": "code",
   "execution_count": null,
   "metadata": {},
   "outputs": [],
   "source": [
    "%%time\n",
    "# using pandas instead of pyarrow so that filters can directly be applied to the data, and not just the partition\n",
    "df = pd.read_parquet(dname, engine='pyarrow',filters=filter)\n",
    "df.info()"
   ]
  },
  {
   "cell_type": "markdown",
   "metadata": {},
   "source": [
    "## Create a TIME and scalar/number filter"
   ]
  },
  {
   "cell_type": "code",
   "execution_count": null,
   "metadata": {},
   "outputs": [],
   "source": [
    "filter_time = create_time_filter(parquet_ds, date_start='2022-12-05', date_end='2022-12-15')\n",
    "filter_geo = create_bbox_filter(parquet_ds, lat_min=-34, lat_max=-28, lon_min=151, lon_max=160)\n",
    "\n",
    "expr_1 = pc.field('site_code') == pa.scalar(\"CH100\")\n",
    "filter = expr_1 & filter_time & filter_geo"
   ]
  },
  {
   "cell_type": "code",
   "execution_count": null,
   "metadata": {},
   "outputs": [],
   "source": [
    "%%time\n",
    "# using pandas instead of pyarrow so that filters can directly be applied to the data, and not just the partition\n",
    "df = pd.read_parquet(dname, engine='pyarrow',filters=filter)\n",
    "df.info()"
   ]
  },
  {
   "cell_type": "code",
   "execution_count": null,
   "metadata": {},
   "outputs": [],
   "source": [
    "df[df['NOMINAL_DEPTH'] == 9]['site_code'].unique()"
   ]
  },
  {
   "cell_type": "code",
   "execution_count": null,
   "metadata": {},
   "outputs": [],
   "source": [
    "df[(df['NOMINAL_DEPTH'] == 9) & (df['site_code']=='CH100')].plot.scatter(x='TEMP', y='PSAL', \n",
    "                                                                         c='DENS', marker='+', linestyle=\"None\", cmap='RdYlBu_r', \n",
    "                                                                         title='Temperature for each location',\n",
    "                                                                         ylabel=metadata['PSAL']['standard_name'],\n",
    "                                                                         xlabel=metadata['TEMP']['standard_name'])"
   ]
  },
  {
   "cell_type": "code",
   "execution_count": null,
   "metadata": {},
   "outputs": [],
   "source": [
    "df[(df['NOMINAL_DEPTH'] == 9) & (df['site_code']=='CH100')].sort_values('TIME').plot(y='TEMP', x='TIME',\n",
    "                                                                                     ylabel=metadata['TEMP']['standard_name'])"
   ]
  },
  {
   "cell_type": "markdown",
   "metadata": {},
   "source": [
    "## Plot TS diagram - compare with quality control values"
   ]
  },
  {
   "cell_type": "markdown",
   "metadata": {},
   "source": [
    "### Example A"
   ]
  },
  {
   "cell_type": "code",
   "execution_count": null,
   "metadata": {},
   "outputs": [],
   "source": [
    "df[(df['NOMINAL_DEPTH'] <= 20) ].plot.scatter(x='TEMP', y='PSAL', c='site_code', \n",
    "                                              marker='+', linestyle=\"None\", cmap='RdYlBu_r', \n",
    "                                              title='Temperature for each location',\n",
    "                                              ylabel=metadata['PSAL']['standard_name'],\n",
    "                                              xlabel=metadata['TEMP']['standard_name'])"
   ]
  },
  {
   "cell_type": "code",
   "execution_count": null,
   "metadata": {},
   "outputs": [],
   "source": [
    "df[(df['NOMINAL_DEPTH'] <= 20) & (df['PSAL_quality_control'] == 1) ].plot.scatter(x='TEMP', y='PSAL', c='site_code', \n",
    "                                                                                  marker='+', linestyle=\"None\", cmap='RdYlBu_r', \n",
    "                                                                                  alpha=0.8, title='Temperature for each location',\n",
    "                                                                                  ylabel=metadata['PSAL']['standard_name'],\n",
    "                                                                                  xlabel=metadata['TEMP']['standard_name'])"
   ]
  },
  {
   "cell_type": "markdown",
   "metadata": {},
   "source": [
    "## Example B"
   ]
  },
  {
   "cell_type": "code",
   "execution_count": null,
   "metadata": {},
   "outputs": [],
   "source": [
    "df[(df['site_code']=='CH100')].plot.scatter(x='TEMP', y='PSAL', c='NOMINAL_DEPTH', \n",
    "                                            marker='+', linestyle=\"None\", cmap='RdYlBu_r', \n",
    "                                            title='TS at CH100 at various nominal depths',\n",
    "                                              ylabel=metadata['PSAL']['standard_name'],\n",
    "                                              xlabel=metadata['TEMP']['standard_name'])"
   ]
  },
  {
   "cell_type": "code",
   "execution_count": null,
   "metadata": {},
   "outputs": [],
   "source": [
    "df[(df['site_code']=='CH100') & (df['PSAL_quality_control'] == 1)].plot.scatter(x='TEMP', y='PSAL', \n",
    "                                                                                c='NOMINAL_DEPTH', marker='+', linestyle=\"None\", \n",
    "                                                                                cmap='RdYlBu_r', \n",
    "                                                                                title='TS at CH100 at various nominal depths',\n",
    "                                                                                ylabel=metadata['PSAL']['standard_name'],\n",
    "                                                                                xlabel=metadata['TEMP']['standard_name'])"
   ]
  },
  {
   "cell_type": "code",
   "execution_count": null,
   "metadata": {},
   "outputs": [],
   "source": []
  }
 ],
 "metadata": {
  "kernelspec": {
   "display_name": "Python 3 (ipykernel)",
   "language": "python",
   "name": "python3"
  },
  "language_info": {
   "codemirror_mode": {
    "name": "ipython",
    "version": 3
   },
   "file_extension": ".py",
   "mimetype": "text/x-python",
   "name": "python",
   "nbconvert_exporter": "python",
   "pygments_lexer": "ipython3",
   "version": "3.10.14"
  }
 },
 "nbformat": 4,
 "nbformat_minor": 4
}
