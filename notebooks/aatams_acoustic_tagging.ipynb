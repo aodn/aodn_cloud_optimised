{
 "cells": [
  {
   "cell_type": "markdown",
   "metadata": {},
   "source": [
    "## Access Animal Tracking Acoustic Tagging data in Parquet\n",
    "\n",
    "A jupyter notebook to show how to access and plot Animal Tracking Acoustic Tagging data available as a [Parquet](https://parquet.apache.org) dataset on S3"
   ]
  },
  {
   "cell_type": "code",
   "execution_count": 1,
   "metadata": {},
   "outputs": [],
   "source": [
    "dataset_name = \"aatams_acoustic_tagging\""
   ]
  },
  {
   "cell_type": "code",
   "execution_count": 2,
   "metadata": {},
   "outputs": [],
   "source": [
    "from parquet_queries import create_time_filter, create_bbox_filter, query_unique_value, plot_spatial_extent, get_spatial_extent, get_temporal_extent, get_schema_metadata\n",
    "import pyarrow.parquet as pq\n",
    "import pyarrow.dataset as pds\n",
    "import pyarrow as pa\n",
    "import os\n",
    "import pandas as pd\n",
    "import pyarrow.compute as pc"
   ]
  },
  {
   "cell_type": "markdown",
   "metadata": {},
   "source": [
    "## Location of the parquet dataset"
   ]
  },
  {
   "cell_type": "code",
   "execution_count": 3,
   "metadata": {},
   "outputs": [],
   "source": [
    "BUCKET_OPTIMISED_DEFAULT=\"imos-data-lab-optimised\"\n",
    "dname = f\"s3://{BUCKET_OPTIMISED_DEFAULT}/parquet/loz_test/{dataset_name}.parquet/\"\n",
    "parquet_ds = pq.ParquetDataset(dname,partitioning='hive')"
   ]
  },
  {
   "cell_type": "markdown",
   "metadata": {},
   "source": [
    "# Understanding the Dataset"
   ]
  },
  {
   "cell_type": "markdown",
   "metadata": {},
   "source": [
    "## Get partition keys\n",
    "Partitioning in Parquet involves organising data files based on the values of one or more columns, known as partition keys. When data is written to Parquet files with partitioning enabled, the files are physically stored in a directory structure that reflects the partition keys. This directory structure makes it easier to retrieve and process specific subsets of data based on the partition keys."
   ]
  },
  {
   "cell_type": "code",
   "execution_count": 4,
   "metadata": {},
   "outputs": [
    {
     "name": "stdout",
     "output_type": "stream",
     "text": [
      "transmitter_id: string\n",
      "timestamp: int32\n",
      "polygon: string\n"
     ]
    }
   ],
   "source": [
    "dataset = pds.dataset(dname, format=\"parquet\", partitioning=\"hive\")\n",
    "\n",
    "partition_keys = dataset.partitioning.schema\n",
    "print(partition_keys)"
   ]
  },
  {
   "cell_type": "markdown",
   "metadata": {},
   "source": [
    "## List unique partition values"
   ]
  },
  {
   "cell_type": "code",
   "execution_count": 5,
   "metadata": {},
   "outputs": [
    {
     "name": "stdout",
     "output_type": "stream",
     "text": [
      "['A69-1105-12', 'A69-1105-110']\n",
      "CPU times: user 14.4 ms, sys: 768 µs, total: 15.2 ms\n",
      "Wall time: 26.4 ms\n"
     ]
    }
   ],
   "source": [
    "%%time\n",
    "unique_partition_value = query_unique_value(parquet_ds, 'transmitter_id')\n",
    "print(list(unique_partition_value)[0:2])  # showing a subset only"
   ]
  },
  {
   "cell_type": "markdown",
   "metadata": {},
   "source": [
    "## Visualise Spatial Extent of the dataset\n",
    "In this section, we're plotting the polygons where data exists. This helps then with creating a bounding box where there is data"
   ]
  },
  {
   "cell_type": "code",
   "execution_count": 6,
   "metadata": {},
   "outputs": [
    {
     "data": {
      "image/png": "[encoded data removed]",
      "text/plain": [
       "<Figure size 640x480 with 1 Axes>"
      ]
     },
     "metadata": {},
     "output_type": "display_data"
    }
   ],
   "source": [
    "plot_spatial_extent(parquet_ds)"
   ]
  },
  {
   "cell_type": "markdown",
   "metadata": {},
   "source": [
    "## Get Temporal Extent of the dataset"
   ]
  },
  {
   "cell_type": "markdown",
   "metadata": {},
   "source": [
    "Similary to the spatial extent, we're retrieving the minimum and maximum timestamp partition values of the dataset. This is not necessarely accurately representative of the TIME values, as the timestamp partition can be yearly/monthly... but is here to give an idea"
   ]
  },
  {
   "cell_type": "code",
   "execution_count": 7,
   "metadata": {},
   "outputs": [
    {
     "data": {
      "text/plain": [
       "(datetime.datetime(2008, 1, 1, 11, 0), datetime.datetime(2016, 8, 1, 10, 0))"
      ]
     },
     "execution_count": 7,
     "metadata": {},
     "output_type": "execute_result"
    }
   ],
   "source": [
    "get_temporal_extent(parquet_ds)"
   ]
  },
  {
   "cell_type": "markdown",
   "metadata": {},
   "source": [
    "## Read Metadata\n",
    "\n",
    "For all parquet dataset, we create a sidecar file in the root of the dataset named **_common_matadata**. This contains the variable attributes."
   ]
  },
  {
   "cell_type": "code",
   "execution_count": 8,
   "metadata": {},
   "outputs": [
    {
     "data": {
      "text/plain": [
       "{'detection_timestamp': {'type': 'timestamp[ns]',\n",
       "  'standard_name': 'time',\n",
       "  'long_name': '',\n",
       "  'units': 's',\n",
       "  'comments': ''},\n",
       " 'transmitter_id': {'type': 'string',\n",
       "  'standard_name': '',\n",
       "  'long_name': '',\n",
       "  'units': '',\n",
       "  'comments': ''},\n",
       " 'installation_name': {'type': 'string',\n",
       "  'standard_name': '',\n",
       "  'long_name': '',\n",
       "  'units': '',\n",
       "  'comments': ''},\n",
       " 'station_name': {'type': 'string',\n",
       "  'standard_name': '',\n",
       "  'long_name': '',\n",
       "  'units': '',\n",
       "  'comments': ''},\n",
       " 'receiver_name': {'type': 'string',\n",
       "  'standard_name': '',\n",
       "  'long_name': '',\n",
       "  'units': '',\n",
       "  'comments': ''},\n",
       " 'latitude': {'type': 'double',\n",
       "  'standard_name': '',\n",
       "  'long_name': '',\n",
       "  'units': '',\n",
       "  'comments': ''},\n",
       " 'longitude': {'type': 'double',\n",
       "  'standard_name': '',\n",
       "  'long_name': '',\n",
       "  'units': '',\n",
       "  'comments': ''},\n",
       " 'sensor_value': {'type': 'double',\n",
       "  'standard_name': '',\n",
       "  'long_name': '',\n",
       "  'units': '',\n",
       "  'comments': ''},\n",
       " 'sensor_unit': {'type': 'string',\n",
       "  'standard_name': '',\n",
       "  'long_name': '',\n",
       "  'units': '',\n",
       "  'comments': ''},\n",
       " 'FDA_QC': {'type': 'float',\n",
       "  'standard_name': '',\n",
       "  'long_name': '',\n",
       "  'units': '',\n",
       "  'comments': ''},\n",
       " 'Velocity_QC': {'type': 'float',\n",
       "  'standard_name': '',\n",
       "  'long_name': '',\n",
       "  'units': '',\n",
       "  'comments': ''},\n",
       " 'Distance_QC': {'type': 'float',\n",
       "  'standard_name': '',\n",
       "  'long_name': '',\n",
       "  'units': '',\n",
       "  'comments': ''},\n",
       " 'DetectionDistribution_QC': {'type': 'float',\n",
       "  'standard_name': '',\n",
       "  'long_name': '',\n",
       "  'units': '',\n",
       "  'comments': ''},\n",
       " 'DistanceRelease_QC': {'type': 'double',\n",
       "  'standard_name': '',\n",
       "  'long_name': '',\n",
       "  'units': '',\n",
       "  'comments': ''},\n",
       " 'ReleaseDate_QC': {'type': 'float',\n",
       "  'standard_name': '',\n",
       "  'long_name': '',\n",
       "  'units': '',\n",
       "  'comments': ''},\n",
       " 'ReleaseLocation_QC': {'type': 'float',\n",
       "  'standard_name': '',\n",
       "  'long_name': '',\n",
       "  'units': '',\n",
       "  'comments': ''},\n",
       " 'Detection_QC': {'type': 'float',\n",
       "  'standard_name': '',\n",
       "  'long_name': '',\n",
       "  'units': '',\n",
       "  'comments': ''},\n",
       " 'filename': {'type': 'string',\n",
       "  'standard_name': '',\n",
       "  'long_name': '',\n",
       "  'units': '',\n",
       "  'comments': ''},\n",
       " 'timestamp': {'type': 'int64',\n",
       "  'standard_name': '',\n",
       "  'long_name': '',\n",
       "  'units': '',\n",
       "  'comments': ''},\n",
       " 'polygon': {'type': 'string',\n",
       "  'standard_name': '',\n",
       "  'long_name': '',\n",
       "  'units': '',\n",
       "  'comments': ''},\n",
       " 'dataset_metadata': {'metadata_uuid': '4a97bd11-e821-4682-8b20-cb69201f3223',\n",
       "  'title': 'AATAMS ACOUSTIC'}}"
      ]
     },
     "execution_count": 8,
     "metadata": {},
     "output_type": "execute_result"
    }
   ],
   "source": [
    "# parquet_meta = pa.parquet.read_schema(os.path.join(dname + '_common_metadata'))  # parquet metadata\n",
    "metadata = get_schema_metadata(dname)  # schema metadata\n",
    "metadata"
   ]
  },
  {
   "cell_type": "markdown",
   "metadata": {},
   "source": [
    "# Data Query and Plot"
   ]
  },
  {
   "cell_type": "markdown",
   "metadata": {},
   "source": [
    "## Create a TIME and BoundingBox filter"
   ]
  },
  {
   "cell_type": "code",
   "execution_count": 9,
   "metadata": {},
   "outputs": [],
   "source": [
    "filter_time = create_time_filter(parquet_ds, date_start='2009-06-01', date_end='2010-01-01', time_varname='detection_timestamp')\n",
    "filter_geo = create_bbox_filter(parquet_ds, lat_min=-20, lat_max=-10, lon_min=140, lon_max=143, lat_varname='latitude', lon_varname='longitude')\n",
    "\n",
    "filter = filter_geo & filter_time"
   ]
  },
  {
   "cell_type": "code",
   "execution_count": 10,
   "metadata": {},
   "outputs": [
    {
     "name": "stdout",
     "output_type": "stream",
     "text": [
      "<class 'pandas.core.frame.DataFrame'>\n",
      "RangeIndex: 10912 entries, 0 to 10911\n",
      "Data columns (total 20 columns):\n",
      " #   Column                    Non-Null Count  Dtype         \n",
      "---  ------                    --------------  -----         \n",
      " 0   detection_timestamp       10912 non-null  datetime64[ns]\n",
      " 1   installation_name         10912 non-null  object        \n",
      " 2   station_name              10912 non-null  object        \n",
      " 3   receiver_name             10912 non-null  object        \n",
      " 4   latitude                  10912 non-null  float64       \n",
      " 5   longitude                 10912 non-null  float64       \n",
      " 6   sensor_value              10912 non-null  float64       \n",
      " 7   sensor_unit               10912 non-null  object        \n",
      " 8   FDA_QC                    10912 non-null  float32       \n",
      " 9   Velocity_QC               10912 non-null  float32       \n",
      " 10  Distance_QC               10912 non-null  float32       \n",
      " 11  DetectionDistribution_QC  10912 non-null  float32       \n",
      " 12  DistanceRelease_QC        10912 non-null  float64       \n",
      " 13  ReleaseDate_QC            10912 non-null  float32       \n",
      " 14  ReleaseLocation_QC        10912 non-null  float32       \n",
      " 15  Detection_QC              10912 non-null  float32       \n",
      " 16  filename                  10912 non-null  object        \n",
      " 17  transmitter_id            10912 non-null  category      \n",
      " 18  timestamp                 10912 non-null  category      \n",
      " 19  polygon                   10912 non-null  category      \n",
      "dtypes: category(3), datetime64[ns](1), float32(7), float64(4), object(5)\n",
      "memory usage: 1.2+ MB\n",
      "CPU times: user 1.02 s, sys: 91.4 ms, total: 1.11 s\n",
      "Wall time: 3.32 s\n"
     ]
    }
   ],
   "source": [
    "%%time\n",
    "# using pandas instead of pyarrow so that filters can directly be applied to the data, and not just the partition\n",
    "df = pd.read_parquet(dname, engine='pyarrow',filters=filter)\n",
    "df.info()"
   ]
  },
  {
   "cell_type": "code",
   "execution_count": 11,
   "metadata": {},
   "outputs": [
    {
     "data": {
      "text/plain": [
       "<Axes: xlabel='longitude', ylabel='latitude'>"
      ]
     },
     "execution_count": 11,
     "metadata": {},
     "output_type": "execute_result"
    },
    {
     "data": {
      "image/png": "[encoded data removed]",
      "text/plain": [
       "<Figure size 640x480 with 1 Axes>"
      ]
     },
     "metadata": {},
     "output_type": "display_data"
    }
   ],
   "source": [
    "df[df['installation_name']== \"Wenlock River\"].plot.scatter(x='longitude', y='latitude')"
   ]
  },
  {
   "cell_type": "markdown",
   "metadata": {},
   "source": [
    "## Create a TIME and scalar/number filter"
   ]
  },
  {
   "cell_type": "code",
   "execution_count": 12,
   "metadata": {},
   "outputs": [],
   "source": [
    "filter_time = create_time_filter(parquet_ds, date_start='2006-07-12', date_end='2023-02-05', time_varname='detection_timestamp')\n",
    "\n",
    "expr_1 = pc.field('transmitter_id') == pa.scalar('A69-1105-106')\n",
    "filter = expr_1 & filter_time"
   ]
  },
  {
   "cell_type": "code",
   "execution_count": 13,
   "metadata": {},
   "outputs": [
    {
     "name": "stdout",
     "output_type": "stream",
     "text": [
      "<class 'pandas.core.frame.DataFrame'>\n",
      "RangeIndex: 36718 entries, 0 to 36717\n",
      "Data columns (total 20 columns):\n",
      " #   Column                    Non-Null Count  Dtype         \n",
      "---  ------                    --------------  -----         \n",
      " 0   detection_timestamp       36718 non-null  datetime64[ns]\n",
      " 1   installation_name         36718 non-null  object        \n",
      " 2   station_name              36718 non-null  object        \n",
      " 3   receiver_name             36718 non-null  object        \n",
      " 4   latitude                  36718 non-null  float64       \n",
      " 5   longitude                 36718 non-null  float64       \n",
      " 6   sensor_value              36718 non-null  float64       \n",
      " 7   sensor_unit               36718 non-null  object        \n",
      " 8   FDA_QC                    36718 non-null  float32       \n",
      " 9   Velocity_QC               36718 non-null  float32       \n",
      " 10  Distance_QC               36718 non-null  float32       \n",
      " 11  DetectionDistribution_QC  36718 non-null  float32       \n",
      " 12  DistanceRelease_QC        36718 non-null  float64       \n",
      " 13  ReleaseDate_QC            36718 non-null  float32       \n",
      " 14  ReleaseLocation_QC        36718 non-null  float32       \n",
      " 15  Detection_QC              36718 non-null  float32       \n",
      " 16  filename                  36718 non-null  object        \n",
      " 17  transmitter_id            36718 non-null  category      \n",
      " 18  timestamp                 36718 non-null  category      \n",
      " 19  polygon                   36718 non-null  category      \n",
      "dtypes: category(3), datetime64[ns](1), float32(7), float64(4), object(5)\n",
      "memory usage: 3.9+ MB\n",
      "CPU times: user 803 ms, sys: 51.8 ms, total: 854 ms\n",
      "Wall time: 3.58 s\n"
     ]
    }
   ],
   "source": [
    "%%time\n",
    "# using pandas instead of pyarrow so that filters can directly be applied to the data, and not just the partition\n",
    "df = pd.read_parquet(dname, engine='pyarrow',filters=filter)\n",
    "df.info()"
   ]
  },
  {
   "cell_type": "code",
   "execution_count": 14,
   "metadata": {},
   "outputs": [
    {
     "data": {
      "text/plain": [
       "<Axes: xlabel='longitude', ylabel='latitude'>"
      ]
     },
     "execution_count": 14,
     "metadata": {},
     "output_type": "execute_result"
    },
    {
     "data": {
      "image/png": "[encoded data removed]",
      "text/plain": [
       "<Figure size 640x480 with 1 Axes>"
      ]
     },
     "metadata": {},
     "output_type": "display_data"
    }
   ],
   "source": [
    "df[df['installation_name']== \"Wenlock River\"].plot.scatter(x='longitude', y='latitude')"
   ]
  },
  {
   "cell_type": "code",
   "execution_count": null,
   "metadata": {},
   "outputs": [],
   "source": []
  }
 ],
 "metadata": {
  "kernelspec": {
   "display_name": "Python 3 (ipykernel)",
   "language": "python",
   "name": "python3"
  },
  "language_info": {
   "codemirror_mode": {
    "name": "ipython",
    "version": 3
   },
   "file_extension": ".py",
   "mimetype": "text/x-python",
   "name": "python",
   "nbconvert_exporter": "python",
   "pygments_lexer": "ipython3",
   "version": "3.10.14"
  }
 },
 "nbformat": 4,
 "nbformat_minor": 4
}
