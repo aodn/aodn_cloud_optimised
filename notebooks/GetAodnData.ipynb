{
 "cells": [
  {
   "cell_type": "markdown",
   "id": "d09a6ca1-1c50-4197-8d31-eb6276a1cc58",
   "metadata": {},
   "source": [
    "# Query AODN parquet dataset:\n",
    "\n",
    "Using a python class ```GetAodn``` to:\n",
    "- retrieve as a dictionnary all metadata from all parquet dataset available on a S3 bucket \n",
    "- search for dataset containing specific variable/attributes ....\n",
    "- retrieve data from a dataset with time, bounding box and scalar filter as a panda dataframe"
   ]
  },
  {
   "cell_type": "code",
   "execution_count": 1,
   "id": "2ceaf7d3-430a-49ba-a18b-aaf9a30f2196",
   "metadata": {},
   "source": [
    "# only run once, then restart session if needed\n",
    "!pip install uv\n",
    "\n",
    "import os\n",
    "import sys\n",
    "\n",
    "def is_colab():\n",
    "    try:\n",
    "        import google.colab\n",
    "        return True\n",
    "    except ImportError:\n",
    "        return False\n",
    "\n",
    "if is_colab():\n",
    "    os.system('uv pip install --system -r https://raw.githubusercontent.com/aodn/aodn_cloud_optimised/main/notebooks/requirements.txt')\n",
    "else:\n",
    "    os.system('uv venv')\n",
    "    os.system('uv pip install -r https://raw.githubusercontent.com/aodn/aodn_cloud_optimised/main/notebooks/requirements.txt')"
   ],
   "outputs": []
  },
  {
   "cell_type": "code",
   "execution_count": 2,
   "id": "ef9d72ac-7794-4fe0-b7ba-062f373aeec5",
   "metadata": {},
   "source": [
    "import requests\n",
    "import os\n",
    "if not os.path.exists('parquet_queries.py'):\n",
    "  print('Downloading parquet_queries.py')\n",
    "  url = 'https://raw.githubusercontent.com/aodn/aodn_cloud_optimised/main/aodn_cloud_optimised/lib/ParquetDataQuery.py'\n",
    "  response = requests.get(url)\n",
    "  with open('parquet_queries.py', 'w') as f:\n",
    "      f.write(response.text)\n"
   ],
   "outputs": []
  },
  {
   "cell_type": "code",
   "execution_count": 3,
   "id": "e724997e-375d-4cbb-949e-fd1df125c230",
   "metadata": {},
   "source": [
    "from parquet_queries import GetAodn, create_time_filter, create_bbox_filter, query_unique_value, plot_spatial_extent, get_spatial_extent, get_temporal_extent, get_schema_metadata\n",
    "import pyarrow.parquet as pq\n",
    "import pyarrow.dataset as pds\n",
    "import pyarrow as pa\n",
    "import os\n",
    "import pandas as pd\n",
    "import pyarrow.compute as pc\n",
    "import boto3\n",
    "from fuzzywuzzy import fuzz\n",
    "from botocore import UNSIGNED\n",
    "from botocore.client import Config\n",
    "from functools import lru_cache"
   ],
   "outputs": []
  },
  {
   "cell_type": "markdown",
   "id": "b6bfc878-e83b-436f-8fc6-be8ac8955e0b",
   "metadata": {},
   "source": [
    "# GetAodn Class"
   ]
  },
  {
   "cell_type": "markdown",
   "id": "2bb1b6ce-e7d5-4200-8fec-1cd63cb35a67",
   "metadata": {},
   "source": [
    "## Examples to use class"
   ]
  },
  {
   "cell_type": "code",
   "execution_count": 4,
   "id": "65eb1c8a-3239-4172-89cc-e671f462109d",
   "metadata": {},
   "source": [
    "aodn_instance = GetAodn()"
   ],
   "outputs": []
  },
  {
   "cell_type": "markdown",
   "id": "e206f4f9-3cdb-4929-8bf9-1ed7d356fb8c",
   "metadata": {},
   "source": [
    "### Retrieving all parquet dataset information"
   ]
  },
  {
   "cell_type": "code",
   "execution_count": 5,
   "id": "9f614940-49af-4bdc-ac2a-0a0afe697469",
   "metadata": {},
   "source": [
    "# Creating a subinstance to use caching capability (maybe there's a cleaner way)\n",
    "aodn_meta = aodn_instance.get_metadata()  \n",
    "aodn_meta.metadata_catalog()"
   ],
   "outputs": []
  },
  {
   "cell_type": "markdown",
   "id": "dac9760b-0393-4a23-8552-1c78a0c00f1d",
   "metadata": {},
   "source": [
    "### Find all dataset containing specific information (such as temperature)"
   ]
  },
  {
   "cell_type": "code",
   "execution_count": 6,
   "id": "e2ef859e-f136-4292-83eb-8535e5ab3cf0",
   "metadata": {},
   "source": [
    "aodn_meta.find_datasets_with_attribute('temp', target_key='standard_name' )"
   ],
   "outputs": []
  },
  {
   "cell_type": "markdown",
   "id": "450e3780-6458-462d-8904-01fbf3242d53",
   "metadata": {},
   "source": [
    "### Get SOOP XBT data"
   ]
  },
  {
   "cell_type": "code",
   "execution_count": 7,
   "id": "9191fa92-9331-45f4-89ea-260be214553d",
   "metadata": {},
   "source": [
    "aodn_instance.get_dataset('vessel_xbt_realtime_nonqc').get_temporal_extent()"
   ],
   "outputs": []
  },
  {
   "cell_type": "code",
   "execution_count": 8,
   "id": "339f2d68-f66e-49a0-824b-e477531d19d0",
   "metadata": {},
   "source": [
    "aodn_instance.get_dataset('vessel_xbt_realtime_nonqc').plot_spatial_extent()"
   ],
   "outputs": []
  },
  {
   "cell_type": "code",
   "execution_count": 9,
   "id": "a5226745-7d6b-42e3-be61-63fb7c16e126",
   "metadata": {},
   "source": [
    "df = aodn_instance.get_dataset('vessel_xbt_realtime_nonqc').get_data(date_start='2023-01-31 10:14:00', \n",
    "                                                   date_end='2024-02-01 07:50:00',\n",
    "                                                   lat_min=-34, lat_max=-32, lon_min=150, lon_max=155)"
   ],
   "outputs": []
  },
  {
   "cell_type": "code",
   "execution_count": 10,
   "id": "22998cb6-0e63-4f08-a5a5-213efd769049",
   "metadata": {},
   "source": [
    "df[df['TEMP_quality_control'] == 1].sort_values('TIME').plot.scatter(x='TEMP', y='DEPTH', c='TIME',                                                                      \n",
    "                                                                     cmap='RdYlBu_r', marker='.', linestyle=\"None\").invert_yaxis()"
   ],
   "outputs": []
  },
  {
   "cell_type": "code",
   "execution_count": 11,
   "id": "4cd74da7-53e8-4c59-8046-a2f14f500ab8",
   "metadata": {},
   "source": [
    "df"
   ],
   "outputs": []
  },
  {
   "cell_type": "markdown",
   "id": "98999665-efed-4176-b9ac-f5182a381540",
   "metadata": {},
   "source": [
    "### Get anmn hourly timeseries"
   ]
  },
  {
   "cell_type": "code",
   "execution_count": 12,
   "id": "e6f87da5-53a6-4e8b-86e1-b1b4dc212812",
   "metadata": {},
   "source": [
    "aodn_instance = GetAodn()"
   ],
   "outputs": []
  },
  {
   "cell_type": "code",
   "execution_count": 13,
   "id": "c9073ecc-0681-4a65-84d5-3d954ca48106",
   "metadata": {},
   "source": [
    "aodn_instance.get_dataset('mooring_hourly_timeseries_delayed_qc').get_temporal_extent()"
   ],
   "outputs": []
  },
  {
   "cell_type": "code",
   "execution_count": 14,
   "id": "cae822dc-18f3-4891-966b-980aa43a2746",
   "metadata": {},
   "source": [
    "aodn_instance.get_dataset('mooring_hourly_timeseries_delayed_qc').plot_spatial_extent()"
   ],
   "outputs": []
  },
  {
   "cell_type": "markdown",
   "id": "1151e184-c89b-43c4-8b83-22bdc52c38fe",
   "metadata": {},
   "source": [
    "### Filter hourly timeseries for site BMP070"
   ]
  },
  {
   "cell_type": "code",
   "execution_count": 15,
   "id": "0f5d66ac-7816-4c0d-abc8-847fd5300064",
   "metadata": {},
   "source": [
    "df = aodn_instance.get_dataset('mooring_hourly_timeseries_delayed_qc').get_data(date_start='2010-01-01 10:14:00', date_end='2024-02-01 07:50:00',\n",
    "                                                                  scalar_filter={\"site_code\": \"BMP070\"})                                               "
   ],
   "outputs": []
  },
  {
   "cell_type": "code",
   "execution_count": 16,
   "id": "46bcdaed-87a1-4c77-89b3-94c5b3fde4fc",
   "metadata": {},
   "source": [
    "df"
   ],
   "outputs": []
  },
  {
   "cell_type": "markdown",
   "id": "c4cb5b2f-ed30-437b-9006-35c047bd12c6",
   "metadata": {},
   "source": [
    "### Create a \"climatology\" for BPM070 at NOMINAL_DEPTH=52\n",
    "\n",
    "Create a new variable **TEMP_CLIMATOLOGY** which is the daily mean over the available years."
   ]
  },
  {
   "cell_type": "code",
   "execution_count": 17,
   "id": "d8ef3a7f-3c8b-435d-9958-36f58a605c6f",
   "metadata": {},
   "source": [
    "# create a new variable DAY_MONTH in order to filter the data later on..\n",
    "df['DAY_MONTH'] = df['TIME'].dt.strftime('%m-%d')\n",
    "\n",
    "# Group by day and month, calculate daily mean temperature\n",
    "daily_mean = df.groupby('DAY_MONTH')['TEMP'].mean().reset_index()\n",
    "daily_mean.columns = ['DAY_MONTH', 'TEMP_CLIMATOLOGY']\n",
    "\n",
    "# Merge back to original DataFrame on DAY_MONTH\n",
    "df = pd.merge(df, daily_mean, on='DAY_MONTH', how='left')\n",
    "\n",
    "# Drop the intermediate column 'DAY_MONTH'\n",
    "df.drop('DAY_MONTH', axis=1, inplace=True)"
   ],
   "outputs": []
  },
  {
   "cell_type": "markdown",
   "id": "7c1d24d6-98ad-45db-9db8-a063e5e04aa2",
   "metadata": {},
   "source": [
    "#### Plot the TEMP variable and TEMP_CLIMATOLOGY together"
   ]
  },
  {
   "cell_type": "markdown",
   "id": "ce57e8c7-bc63-43d9-a95d-a793162ada4a",
   "metadata": {},
   "source": [
    "#### Non-Interactive plot"
   ]
  },
  {
   "cell_type": "code",
   "execution_count": 18,
   "id": "9be83090-b4ba-4aff-af7b-8c8ff37dda3c",
   "metadata": {},
   "source": [
    "import matplotlib.pyplot as plt\n",
    "\n",
    "# Plot TEMP and TEMP_CLIMATOLOGY\n",
    "plt.figure(figsize=(10, 6))\n",
    "plt.plot(df['TIME'], df['TEMP'], label='TEMP', color='blue', alpha=0.7)\n",
    "plt.plot(df['TIME'], df['TEMP_CLIMATOLOGY'], label='TEMP_CLIMATOLOGY', color='lightcoral', alpha=0.5)\n",
    "\n",
    "# Fill between TEMP and TEMP_CLIMATOLOGY\n",
    "plt.fill_between(df['TIME'], df['TEMP'], df['TEMP_CLIMATOLOGY'], color='gray', alpha=0.3)\n",
    "\n",
    "plt.xlabel('Time')\n",
    "plt.ylabel('Temperature')\n",
    "plt.legend()\n",
    "\n",
    "# Show the plot\n",
    "plt.show()"
   ],
   "outputs": []
  },
  {
   "cell_type": "markdown",
   "id": "6a542834-2bd2-4293-8b41-cc2a1fd30841",
   "metadata": {},
   "source": [
    "#### Interactive plot with hvplot"
   ]
  },
  {
   "cell_type": "code",
   "execution_count": 19,
   "id": "5a478ce7-c5cd-40c4-974c-97bd9e9fdd0b",
   "metadata": {},
   "source": [
    "import hvplot.pandas  # Import hvplot extension for pandas DataFrame\n",
    "import holoviews as hv"
   ],
   "outputs": []
  },
  {
   "cell_type": "code",
   "execution_count": null,
   "id": "31c0d527-8924-4893-8421-17d0badef53c",
   "metadata": {},
   "source": [
    "df = df[df[\"NOMINAL_DEPTH\"] == 52].sort_values('TIME')"
   ],
   "outputs": []
  },
  {
   "cell_type": "code",
   "execution_count": null,
   "id": "c4ee2dee-acc0-401c-88b6-6d05fddfffdc",
   "metadata": {},
   "source": [
    "# Create hvplot line plots for TEMP and TEMP_CLIMATOLOGY\n",
    "temp_plot = df.hvplot.line(x='TIME', y='TEMP', label='TEMP', color='blue', ylabel='Temperature', xlabel='Time')\n",
    "climatology_plot = df.hvplot.line(x='TIME', y='TEMP_CLIMATOLOGY', label='TEMP_CLIMATOLOGY', color='lightcoral')\n",
    "\n",
    "overlay = (temp_plot * climatology_plot)\n",
    "\n",
    "# Create a shaded area between the two line plots\n",
    "filled_area = hv.Area((df['TIME'], df['TEMP'], df['TEMP_CLIMATOLOGY']), vdims=['TEMP', 'TEMP_CLIMATOLOGY']).opts(alpha=0.3, color='gray')\n",
    "\n",
    "# Combine the line plot overlay with the filled area\n",
    "combined_plot = (overlay * filled_area).opts(width=800, height=400, responsive=True)\n",
    "\n",
    "# Show the combined plot\n",
    "combined_plot"
   ],
   "outputs": []
  },
  {
   "cell_type": "code",
   "execution_count": null,
   "id": "04fcc64d-4e64-433c-aaac-4108ea42aadd",
   "metadata": {},
   "source": [],
   "outputs": []
  }
 ],
 "metadata": {
  "kernelspec": {
   "display_name": "Python 3 (ipykernel)",
   "language": "python",
   "name": "python3"
  },
  "language_info": {
   "codemirror_mode": {
    "name": "ipython",
    "version": 3
   },
   "file_extension": ".py",
   "mimetype": "text/x-python",
   "name": "python",
   "nbconvert_exporter": "python",
   "pygments_lexer": "ipython3",
   "version": "3.12.4"
  }
 },
 "nbformat": 4,
 "nbformat_minor": 5
}
