{
 "cells": [
  {
   "cell_type": "markdown",
   "metadata": {},
   "source": [
    "## Access SOOP XBT Delayed Quality Controlled data in Parquet\n",
    "\n",
    "A jupyter notebook to show how to access and plot SOOP XBT Delayed QC data available as a [Parquet](https://parquet.apache.org) dataset on S3.\n",
    "\n",
    "More information about the dataset available at [here](https://catalogue-imos.aodn.org.au/geonetwork/srv/eng/catalog.search#/metadata/911f6b96-fa33-4621-9d8c-4d1cc14d94d0).\n",
    "\n",
    "📌 The point of truth for this notebook is [on GitHub](https://github.com/aodn/aodn_cloud_optimised/tree/main/notebooks/vessel_xbt_delayed_qc.ipynb)."
   ]
  },
  {
   "cell_type": "code",
   "execution_count": 1,
   "metadata": {},
   "outputs": [],
   "source": [
    "dataset_name = \"vessel_xbt_delayed_qc\""
   ]
  },
  {
   "cell_type": "markdown",
   "metadata": {},
   "source": [
    "## Install/Update packages and Load common functions"
   ]
  },
  {
   "cell_type": "code",
   "execution_count": null,
   "metadata": {},
   "outputs": [],
   "source": [
    "# only run once, then restart session if needed\n",
    "!pip install uv\n",
    "\n",
    "import os\n",
    "import sys\n",
    "\n",
    "def is_colab():\n",
    "    try:\n",
    "        import google.colab\n",
    "        return True\n",
    "    except ImportError:\n",
    "        return False\n",
    "\n",
    "# Get the current directory of the notebook\n",
    "current_dir = os.getcwd()\n",
    "\n",
    "# Check if requirements.txt exists in the current directory\n",
    "local_requirements = os.path.join(current_dir, 'requirements.txt')\n",
    "if os.path.exists(local_requirements):\n",
    "    requirements_path = local_requirements\n",
    "else:\n",
    "    # Fall back to the online requirements.txt file\n",
    "    requirements_path = 'https://raw.githubusercontent.com/aodn/aodn_cloud_optimised/main/notebooks/requirements.txt'\n",
    "\n",
    "# Install packages using uv and the determined requirements file\n",
    "if is_colab():\n",
    "    import xarray as xr\n",
    "    xr.set_options(display_style='text')\n",
    "    os.system(f'uv pip install --system -r {requirements_path}')\n",
    "else:\n",
    "    os.system('uv venv')\n",
    "    os.system(f'uv pip install -r {requirements_path}')"
   ]
  },
  {
   "cell_type": "code",
   "execution_count": 2,
   "metadata": {},
   "outputs": [],
   "source": [
    "import requests\n",
    "import os\n",
    "if not os.path.exists('DataQuery.py'):\n",
    "  print('Downloading DataQuery.py')\n",
    "  url = 'https://raw.githubusercontent.com/aodn/aodn_cloud_optimised/main/aodn_cloud_optimised/lib/DataQuery.py'\n",
    "  response = requests.get(url)\n",
    "  with open('DataQuery.py', 'w') as f:\n",
    "      f.write(response.text)"
   ]
  },
  {
   "cell_type": "code",
   "execution_count": 2,
   "metadata": {},
   "outputs": [
    {
     "name": "stderr",
     "output_type": "stream",
     "text": [
      "/home/lbesnard/miniforge3/envs/AodnCloudOptimised/lib/python3.12/site-packages/fuzzywuzzy/fuzz.py:11: UserWarning: Using slow pure-python SequenceMatcher. Install python-Levenshtein to remove this warning\n",
      "  warnings.warn('Using slow pure-python SequenceMatcher. Install python-Levenshtein to remove this warning')\n"
     ]
    }
   ],
   "source": [
    "from DataQuery import create_time_filter, create_bbox_filter, query_unique_value, plot_spatial_extent, get_spatial_extent, get_temporal_extent, get_schema_metadata\n",
    "import pyarrow.parquet as pq\n",
    "import pyarrow.dataset as pds\n",
    "import pyarrow as pa\n",
    "import os\n",
    "import pandas as pd\n",
    "import pyarrow.compute as pc"
   ]
  },
  {
   "cell_type": "markdown",
   "metadata": {},
   "source": [
    "## Location of the parquet dataset"
   ]
  },
  {
   "cell_type": "code",
   "execution_count": 3,
   "metadata": {},
   "outputs": [],
   "source": [
    "BUCKET_OPTIMISED_DEFAULT=\"imos-data-lab-optimised\"\n",
    "dname = f\"s3://{BUCKET_OPTIMISED_DEFAULT}/cloud_optimised/cluster_testing/{dataset_name}.parquet/\"\n",
    "parquet_ds = pq.ParquetDataset(dname,partitioning='hive')"
   ]
  },
  {
   "cell_type": "markdown",
   "metadata": {},
   "source": [
    "# Understanding the Dataset"
   ]
  },
  {
   "cell_type": "markdown",
   "metadata": {},
   "source": [
    "## Get partition keys\n",
    "Partitioning in Parquet involves organising data files based on the values of one or more columns, known as partition keys. When data is written to Parquet files with partitioning enabled, the files are physically stored in a directory structure that reflects the partition keys. This directory structure makes it easier to retrieve and process specific subsets of data based on the partition keys."
   ]
  },
  {
   "cell_type": "code",
   "execution_count": 4,
   "metadata": {},
   "outputs": [
    {
     "name": "stdout",
     "output_type": "stream",
     "text": [
      "XBT_line: string\n",
      "timestamp: int32\n",
      "polygon: string\n"
     ]
    }
   ],
   "source": [
    "dataset = pds.dataset(dname, format=\"parquet\", partitioning=\"hive\")\n",
    "\n",
    "partition_keys = dataset.partitioning.schema\n",
    "print(partition_keys)"
   ]
  },
  {
   "cell_type": "markdown",
   "metadata": {},
   "source": [
    "## List unique partition values"
   ]
  },
  {
   "cell_type": "code",
   "execution_count": 5,
   "metadata": {},
   "outputs": [
    {
     "name": "stdout",
     "output_type": "stream",
     "text": [
      "['IX01']\n",
      "CPU times: user 5.29 ms, sys: 762 µs, total: 6.06 ms\n",
      "Wall time: 5.4 ms\n"
     ]
    }
   ],
   "source": [
    "%%time\n",
    "unique_partition_value = query_unique_value(parquet_ds, 'XBT_line')\n",
    "print(list(unique_partition_value)[0:2])  # showing a subset only"
   ]
  },
  {
   "cell_type": "markdown",
   "metadata": {},
   "source": [
    "## Visualise Spatial Extent of the dataset\n",
    "In this section, we're plotting the polygons where data exists. This helps then with creating a bounding box where there is data"
   ]
  },
  {
   "cell_type": "code",
   "execution_count": 6,
   "metadata": {},
   "outputs": [
    {
     "data": {
      "image/png": "[encoded data removed]",
      "text/plain": [
       "<Figure size 640x480 with 1 Axes>"
      ]
     },
     "metadata": {},
     "output_type": "display_data"
    }
   ],
   "source": [
    "plot_spatial_extent(parquet_ds)"
   ]
  },
  {
   "cell_type": "markdown",
   "metadata": {},
   "source": [
    "## Get Temporal Extent of the dataset"
   ]
  },
  {
   "cell_type": "markdown",
   "metadata": {},
   "source": [
    "Similary to the spatial extent, we're retrieving the minimum and maximum timestamp partition values of the dataset. This is not necessarely accurately representative of the TIME values, as the timestamp partition can be yearly/monthly... but is here to give an idea"
   ]
  },
  {
   "cell_type": "code",
   "execution_count": 7,
   "metadata": {},
   "outputs": [
    {
     "data": {
      "text/plain": [
       "(datetime.datetime(2016, 1, 1, 11, 0), datetime.datetime(2016, 6, 1, 10, 0))"
      ]
     },
     "execution_count": 7,
     "metadata": {},
     "output_type": "execute_result"
    }
   ],
   "source": [
    "get_temporal_extent(parquet_ds)"
   ]
  },
  {
   "cell_type": "markdown",
   "metadata": {},
   "source": [
    "## Read Metadata\n",
    "\n",
    "For all parquet dataset, we create a sidecar file in the root of the dataset named **_common_matadata**. This contains the variable attributes."
   ]
  },
  {
   "cell_type": "code",
   "execution_count": 8,
   "metadata": {},
   "outputs": [
    {
     "data": {
      "text/plain": [
       "{'TIME': {'type': 'timestamp[ns]',\n",
       "  'ancillary_variables': 'TIME_quality_control',\n",
       "  'axis': 'T',\n",
       "  'long_name': 'time',\n",
       "  'standard_name': 'time',\n",
       "  'valid_max': 90000.0,\n",
       "  'valid_min': 0.0},\n",
       " 'TIME_quality_control': {'type': 'float',\n",
       "  'flag_meanings': 'No_QC_performed Good_data Probably_good_data Bad_data_that_are_potentially_correctable Bad_data Value_changed Not_used Not_used Not_used Missing_value',\n",
       "  'flag_values': [0, 1, 2, 3, 4, 5, 6, 7, 8, 9],\n",
       "  'long_name': 'quality flags for time',\n",
       "  'quality_control_conventions': 'IMOS standard flags',\n",
       "  'standard_name': 'time status_flag',\n",
       "  'valid_max': 9,\n",
       "  'valid_min': 0},\n",
       " 'LATITUDE': {'type': 'float',\n",
       "  'ancillary_variables': 'LATITUDE_quality_control',\n",
       "  'axis': 'Y',\n",
       "  'long_name': 'latitude',\n",
       "  'reference_datum': 'geographical coordinates, WGS84 projection',\n",
       "  'standard_name': 'latitude',\n",
       "  'units': 'degrees_north',\n",
       "  'valid_max': 90.0,\n",
       "  'valid_min': -90.0},\n",
       " 'LATITUDE_quality_control': {'type': 'float',\n",
       "  'flag_meanings': 'No_QC_performed Good_data Probably_good_data Bad_data_that_are_potentially_correctable Bad_data Value_changed Not_used Not_used Not_used Missing_value',\n",
       "  'flag_values': [0, 1, 2, 3, 4, 5, 6, 7, 8, 9],\n",
       "  'long_name': 'quality flags for latitude',\n",
       "  'quality_control_conventions': 'IMOS standard flags',\n",
       "  'standard_name': 'latitude status_flag',\n",
       "  'valid_max': 9,\n",
       "  'valid_min': 0},\n",
       " 'LONGITUDE': {'type': 'float',\n",
       "  'ancillary_variables': 'LONGITUDE_quality_control',\n",
       "  'axis': 'X',\n",
       "  'long_name': 'longitude',\n",
       "  'reference_datum': 'geographical coordinates, WGS84 projection',\n",
       "  'standard_name': 'longitude',\n",
       "  'units': 'degrees_east',\n",
       "  'valid_max': 180.0,\n",
       "  'valid_min': -180.0},\n",
       " 'LONGITUDE_quality_control': {'type': 'float',\n",
       "  'flag_meanings': 'No_QC_performed Good_data Probably_good_data Bad_data_that_are_potentially_correctable Bad_data Value_changed Not_used Not_used Not_used Missing_value',\n",
       "  'flag_values': [0, 1, 2, 3, 4, 5, 6, 7, 8, 9],\n",
       "  'long_name': 'quality flags for longitude',\n",
       "  'quality_control_conventions': 'IMOS standard flags',\n",
       "  'standard_name': 'longitude status_flag',\n",
       "  'valid_max': 9,\n",
       "  'valid_min': 0},\n",
       " 'DEPTH_RAW': {'type': 'float',\n",
       "  'ancillary_variables': 'DEPTH_RAW_quality_control',\n",
       "  'axis': 'Z',\n",
       "  'fallrate_equation_coefficient_a': 6.691,\n",
       "  'fallrate_equation_coefficient_b': -2.25,\n",
       "  'long_name': 'depth_raw',\n",
       "  'positive': 'down',\n",
       "  'reference_datum': 'sea surface',\n",
       "  'standard_name': 'depth',\n",
       "  'units': 'm',\n",
       "  'valid_max': 12000.0,\n",
       "  'valid_min': -5.0},\n",
       " 'DEPTH_RAW_quality_control': {'type': 'int32',\n",
       "  'flag_meanings': 'No_QC_performed Good_data Probably_good_data Bad_data_that_are_potentially_correctable Bad_data Value_changed Not_used Not_used Not_used Missing_value',\n",
       "  'flag_values': [0, 1, 2, 3, 4, 5, 6, 7, 8, 9],\n",
       "  'long_name': 'quality flags for depth raw',\n",
       "  'quality_control_conventions': 'IMOS standard flags',\n",
       "  'standard_name': 'depth status_flag',\n",
       "  'valid_max': 9,\n",
       "  'valid_min': 0},\n",
       " 'DEPTH': {'type': 'float',\n",
       "  'ancillary_variables': 'DEPTH_quality_control',\n",
       "  'axis': 'Z',\n",
       "  'fallrate_equation_coefficient_a': 6.691,\n",
       "  'fallrate_equation_coefficient_b': -2.25,\n",
       "  'long_name': 'depth',\n",
       "  'longname': 'depth',\n",
       "  'positive': 'down',\n",
       "  'reference_datum': 'sea surface',\n",
       "  'standard_name': 'depth',\n",
       "  'units': 'm',\n",
       "  'valid_max': 12000.0,\n",
       "  'valid_min': -5.0},\n",
       " 'DEPTH_quality_control': {'type': 'int32',\n",
       "  'flag_meanings': 'No_QC_performed Good_data Probably_good_data Bad_data_that_are_potentially_correctable Bad_data Value_changed Not_used Not_used Not_used Missing_value',\n",
       "  'flag_values': [0, 1, 2, 3, 4, 5, 6, 7, 8, 9],\n",
       "  'long_name': 'quality flags for depth',\n",
       "  'quality_control_conventions': 'IMOS standard flags',\n",
       "  'standard_name': 'depth status_flag',\n",
       "  'valid_max': 9,\n",
       "  'valid_min': 0},\n",
       " 'TEMP_RAW': {'type': 'float',\n",
       "  'ancillary_variables': 'TEMP_RAW_quality_control',\n",
       "  'axis': 'Z',\n",
       "  'long_name': 'sea_water_temperature_raw',\n",
       "  'positive': 'down',\n",
       "  'units': 'Celsius',\n",
       "  'valid_max': 40.0,\n",
       "  'valid_min': -2.5},\n",
       " 'TEMP_RAW_quality_control': {'type': 'float',\n",
       "  'flag_meanings': 'No_QC_performed Good_data Probably_good_data Bad_data_that_are_potentially_correctable Bad_data Value_changed Not_used Not_used Not_used Missing_value',\n",
       "  'flag_values': [0, 1, 2, 3, 4, 5, 6, 7, 8, 9],\n",
       "  'long_name': 'quality flag for sea_water_temperature_raw',\n",
       "  'quality_control_conventions': 'IMOS standard flags',\n",
       "  'standard_name': 'sea_water_temperature status_flag',\n",
       "  'valid_max': 9,\n",
       "  'valid_min': 0},\n",
       " 'TEMP': {'type': 'float',\n",
       "  'ancillary_variables': 'TEMP_quality_control',\n",
       "  'axis': 'Z',\n",
       "  'long_name': 'sea_water_temperature',\n",
       "  'positive': 'down',\n",
       "  'standard_name': 'sea_water_temperature',\n",
       "  'units': 'Celsius',\n",
       "  'valid_max': 40.0,\n",
       "  'valid_min': -2.5},\n",
       " 'TEMP_quality_control': {'type': 'float',\n",
       "  'flag_meanings': 'No_QC_performed Good_data Probably_good_data Bad_data_that_are_potentially_correctable Bad_data Value_changed Not_used Not_used Not_used Missing_value',\n",
       "  'flag_values': [0, 1, 2, 3, 4, 5, 6, 7, 8, 9],\n",
       "  'long_name': 'quality flag for sea_water_temperature',\n",
       "  'quality_control_conventions': 'IMOS standard flags',\n",
       "  'standard_name': 'sea_water_temperature status_flag',\n",
       "  'valid_max': 9,\n",
       "  'valid_min': 0},\n",
       " 'HISTORY_INSTITUTION': {'type': 'string',\n",
       "  'Conventions': 'GTSPP IDENT_CODE table',\n",
       "  'long_name': 'Institution which performed action'},\n",
       " 'HISTORY_STEP': {'type': 'string',\n",
       "  'Conventions': 'GTSPP PRC_CODE table',\n",
       "  'long_name': 'Step in data processing'},\n",
       " 'HISTORY_SOFTWARE': {'type': 'string',\n",
       "  'Conventions': 'Institution dependent',\n",
       "  'long_name': 'Name of software which performed action'},\n",
       " 'HISTORY_SOFTWARE_RELEASE': {'type': 'string',\n",
       "  'Conventions': 'Institution dependent',\n",
       "  'long_name': 'Version/Release of software which performed action'},\n",
       " 'HISTORY_DATE': {'type': 'timestamp[ns]',\n",
       "  'axis': 'T',\n",
       "  'long_name': 'Date the history record was created'},\n",
       " 'HISTORY_PARAMETER': {'type': 'string',\n",
       "  'Conventions': 'GTSPP PC_PROF table',\n",
       "  'long_name': 'Parameter that action is performed on'},\n",
       " 'HISTORY_START_DEPTH': {'type': 'float',\n",
       "  'axis': 'Z',\n",
       "  'long_name': 'Start depth action applied to',\n",
       "  'positive': 'down',\n",
       "  'units': 'm'},\n",
       " 'HISTORY_STOP_DEPTH': {'type': 'float',\n",
       "  'axis': 'Z',\n",
       "  'long_name': 'End depth action applied to',\n",
       "  'positive': 'down',\n",
       "  'units': 'm'},\n",
       " 'HISTORY_PREVIOUS_VALUE': {'type': 'string',\n",
       "  'long_name': 'Parameter previous value before action'},\n",
       " 'HISTORY_QC_FLAG': {'type': 'string',\n",
       "  'Conventions': 'GTSPP ACT_CODE table and CSIRO XBT Cookbook',\n",
       "  'long_name': 'QC flag applied'},\n",
       " 'HISTORY_QC_FLAG_DESCRIPTION': {'type': 'string',\n",
       "  'Conventions': 'GTSPP ACT_CODE table and CSIRO XBT Cookbook',\n",
       "  'long_name': 'Description of HISTORY_QC_FLAG'},\n",
       " 'imo_number': {'type': 'int32'},\n",
       " 'timestamp': {'type': 'int64'},\n",
       " 'polygon': {'type': 'string'},\n",
       " 'XBT_line': {'type': 'string'},\n",
       " 'ship_name': {'type': 'string'},\n",
       " 'Callsign': {'type': 'string'},\n",
       " 'filename': {'type': 'string'},\n",
       " 'dataset_metadata': {'metadata_uuid': '911f6b96-fa33-4621-9d8c-4d1cc14d94d0',\n",
       "  'title': 'Upper Ocean Thermal Data collected using XBT (expendable bathythermographs)',\n",
       "  'principal_investigator': 'Cowley, Rebecca',\n",
       "  'principal_investigator_email': 'rebecca.cowley@csiro.au',\n",
       "  'featureType': 'profile'}}"
      ]
     },
     "execution_count": 8,
     "metadata": {},
     "output_type": "execute_result"
    }
   ],
   "source": [
    "# parquet_meta = pa.parquet.read_schema(os.path.join(dname + '_common_metadata'))  # parquet metadata\n",
    "metadata = get_schema_metadata(dname)  # schema metadata\n",
    "metadata"
   ]
  },
  {
   "cell_type": "markdown",
   "metadata": {},
   "source": [
    "# Data Query and Plot"
   ]
  },
  {
   "cell_type": "markdown",
   "metadata": {},
   "source": [
    "## Create a TIME and BoundingBox filter"
   ]
  },
  {
   "cell_type": "code",
   "execution_count": 12,
   "metadata": {},
   "outputs": [
    {
     "ename": "ValueError",
     "evalue": "No data for given bounding box. Amend lat/lon values ",
     "output_type": "error",
     "traceback": [
      "\u001b[0;31m---------------------------------------------------------------------------\u001b[0m",
      "\u001b[0;31mValueError\u001b[0m                                Traceback (most recent call last)",
      "\u001b[0;32m/tmp/ipykernel_1686074/2575346268.py\u001b[0m in \u001b[0;36m<cell line: 0>\u001b[0;34m()\u001b[0m\n\u001b[1;32m      1\u001b[0m \u001b[0mfilter_time\u001b[0m \u001b[0;34m=\u001b[0m \u001b[0mcreate_time_filter\u001b[0m\u001b[0;34m(\u001b[0m\u001b[0mparquet_ds\u001b[0m\u001b[0;34m,\u001b[0m \u001b[0mdate_start\u001b[0m\u001b[0;34m=\u001b[0m\u001b[0;34m'2020-01-31 10:14:00'\u001b[0m\u001b[0;34m,\u001b[0m \u001b[0mdate_end\u001b[0m\u001b[0;34m=\u001b[0m\u001b[0;34m'2024-02-01 07:50:00'\u001b[0m\u001b[0;34m)\u001b[0m\u001b[0;34m\u001b[0m\u001b[0;34m\u001b[0m\u001b[0m\n\u001b[0;32m----> 2\u001b[0;31m \u001b[0mfilter_geo\u001b[0m \u001b[0;34m=\u001b[0m \u001b[0mcreate_bbox_filter\u001b[0m\u001b[0;34m(\u001b[0m\u001b[0mparquet_ds\u001b[0m\u001b[0;34m,\u001b[0m \u001b[0mlat_min\u001b[0m\u001b[0;34m=\u001b[0m\u001b[0;34m-\u001b[0m\u001b[0;36m34\u001b[0m\u001b[0;34m,\u001b[0m \u001b[0mlat_max\u001b[0m\u001b[0;34m=\u001b[0m\u001b[0;34m-\u001b[0m\u001b[0;36m32\u001b[0m\u001b[0;34m,\u001b[0m \u001b[0mlon_min\u001b[0m\u001b[0;34m=\u001b[0m\u001b[0;36m150\u001b[0m\u001b[0;34m,\u001b[0m \u001b[0mlon_max\u001b[0m\u001b[0;34m=\u001b[0m\u001b[0;36m155\u001b[0m\u001b[0;34m)\u001b[0m\u001b[0;34m\u001b[0m\u001b[0;34m\u001b[0m\u001b[0m\n\u001b[0m\u001b[1;32m      3\u001b[0m \u001b[0;34m\u001b[0m\u001b[0m\n\u001b[1;32m      4\u001b[0m \u001b[0;34m\u001b[0m\u001b[0m\n\u001b[1;32m      5\u001b[0m \u001b[0mfilter\u001b[0m \u001b[0;34m=\u001b[0m \u001b[0mfilter_geo\u001b[0m \u001b[0;34m&\u001b[0m \u001b[0mfilter_time\u001b[0m\u001b[0;34m\u001b[0m\u001b[0;34m\u001b[0m\u001b[0m\n",
      "\u001b[0;32m~/github_repo/aodn_cloud_optimised/notebooks/DataQuery.py\u001b[0m in \u001b[0;36mcreate_bbox_filter\u001b[0;34m(parquet_ds, **kwargs)\u001b[0m\n\u001b[1;32m    162\u001b[0m \u001b[0;34m\u001b[0m\u001b[0m\n\u001b[1;32m    163\u001b[0m     \u001b[0;32mif\u001b[0m \u001b[0mintersecting_polygons\u001b[0m \u001b[0;34m==\u001b[0m \u001b[0;34m[\u001b[0m\u001b[0;34m]\u001b[0m\u001b[0;34m:\u001b[0m\u001b[0;34m\u001b[0m\u001b[0;34m\u001b[0m\u001b[0m\n\u001b[0;32m--> 164\u001b[0;31m         \u001b[0;32mraise\u001b[0m \u001b[0mValueError\u001b[0m\u001b[0;34m(\u001b[0m\u001b[0;34m\"No data for given bounding box. Amend lat/lon values \"\u001b[0m\u001b[0;34m)\u001b[0m\u001b[0;34m\u001b[0m\u001b[0;34m\u001b[0m\u001b[0m\n\u001b[0m\u001b[1;32m    165\u001b[0m \u001b[0;34m\u001b[0m\u001b[0m\n\u001b[1;32m    166\u001b[0m     \u001b[0;31m# Convert intersecting polygons to WKB hexadecimal strings\u001b[0m\u001b[0;34m\u001b[0m\u001b[0;34m\u001b[0m\u001b[0m\n",
      "\u001b[0;31mValueError\u001b[0m: No data for given bounding box. Amend lat/lon values "
     ]
    }
   ],
   "source": [
    "filter_time = create_time_filter(parquet_ds, date_start='2023-01-31 10:14:00', date_end='2024-02-01 07:50:00')\n",
    "filter_geo = create_bbox_filter(parquet_ds, lat_min=-34, lat_max=-32, lon_min=150, lon_max=155)\n",
    "\n",
    "\n",
    "filter = filter_geo & filter_time"
   ]
  },
  {
   "cell_type": "code",
   "execution_count": 10,
   "metadata": {},
   "outputs": [
    {
     "ename": "TypeError",
     "evalue": "object of type 'type' has no len()",
     "output_type": "error",
     "traceback": [
      "\u001b[0;31m---------------------------------------------------------------------------\u001b[0m",
      "\u001b[0;31mTypeError\u001b[0m                                 Traceback (most recent call last)",
      "\u001b[0;32m<timed exec>\u001b[0m in \u001b[0;36m<module>\u001b[0;34m\u001b[0m\n",
      "\u001b[0;32m~/miniforge3/envs/AodnCloudOptimised/lib/python3.12/site-packages/pandas/io/parquet.py\u001b[0m in \u001b[0;36mread_parquet\u001b[0;34m(path, engine, columns, storage_options, use_nullable_dtypes, dtype_backend, filesystem, filters, **kwargs)\u001b[0m\n\u001b[1;32m    665\u001b[0m     \u001b[0mcheck_dtype_backend\u001b[0m\u001b[0;34m(\u001b[0m\u001b[0mdtype_backend\u001b[0m\u001b[0;34m)\u001b[0m\u001b[0;34m\u001b[0m\u001b[0;34m\u001b[0m\u001b[0m\n\u001b[1;32m    666\u001b[0m \u001b[0;34m\u001b[0m\u001b[0m\n\u001b[0;32m--> 667\u001b[0;31m     return impl.read(\n\u001b[0m\u001b[1;32m    668\u001b[0m         \u001b[0mpath\u001b[0m\u001b[0;34m,\u001b[0m\u001b[0;34m\u001b[0m\u001b[0;34m\u001b[0m\u001b[0m\n\u001b[1;32m    669\u001b[0m         \u001b[0mcolumns\u001b[0m\u001b[0;34m=\u001b[0m\u001b[0mcolumns\u001b[0m\u001b[0;34m,\u001b[0m\u001b[0;34m\u001b[0m\u001b[0;34m\u001b[0m\u001b[0m\n",
      "\u001b[0;32m~/miniforge3/envs/AodnCloudOptimised/lib/python3.12/site-packages/pandas/io/parquet.py\u001b[0m in \u001b[0;36mread\u001b[0;34m(self, path, columns, filters, use_nullable_dtypes, dtype_backend, storage_options, filesystem, **kwargs)\u001b[0m\n\u001b[1;32m    272\u001b[0m         \u001b[0;34m)\u001b[0m\u001b[0;34m\u001b[0m\u001b[0;34m\u001b[0m\u001b[0m\n\u001b[1;32m    273\u001b[0m         \u001b[0;32mtry\u001b[0m\u001b[0;34m:\u001b[0m\u001b[0;34m\u001b[0m\u001b[0;34m\u001b[0m\u001b[0m\n\u001b[0;32m--> 274\u001b[0;31m             pa_table = self.api.parquet.read_table(\n\u001b[0m\u001b[1;32m    275\u001b[0m                 \u001b[0mpath_or_handle\u001b[0m\u001b[0;34m,\u001b[0m\u001b[0;34m\u001b[0m\u001b[0;34m\u001b[0m\u001b[0m\n\u001b[1;32m    276\u001b[0m                 \u001b[0mcolumns\u001b[0m\u001b[0;34m=\u001b[0m\u001b[0mcolumns\u001b[0m\u001b[0;34m,\u001b[0m\u001b[0;34m\u001b[0m\u001b[0;34m\u001b[0m\u001b[0m\n",
      "\u001b[0;32m~/miniforge3/envs/AodnCloudOptimised/lib/python3.12/site-packages/pyarrow/parquet/core.py\u001b[0m in \u001b[0;36mread_table\u001b[0;34m(source, columns, use_threads, schema, use_pandas_metadata, read_dictionary, memory_map, buffer_size, partitioning, filesystem, filters, use_legacy_dataset, ignore_prefixes, pre_buffer, coerce_int96_timestamp_unit, decryption_properties, thrift_string_size_limit, thrift_container_size_limit, page_checksum_verification)\u001b[0m\n\u001b[1;32m   1760\u001b[0m \u001b[0;34m\u001b[0m\u001b[0m\n\u001b[1;32m   1761\u001b[0m     \u001b[0;32mtry\u001b[0m\u001b[0;34m:\u001b[0m\u001b[0;34m\u001b[0m\u001b[0;34m\u001b[0m\u001b[0m\n\u001b[0;32m-> 1762\u001b[0;31m         dataset = ParquetDataset(\n\u001b[0m\u001b[1;32m   1763\u001b[0m             \u001b[0msource\u001b[0m\u001b[0;34m,\u001b[0m\u001b[0;34m\u001b[0m\u001b[0;34m\u001b[0m\u001b[0m\n\u001b[1;32m   1764\u001b[0m             \u001b[0mschema\u001b[0m\u001b[0;34m=\u001b[0m\u001b[0mschema\u001b[0m\u001b[0;34m,\u001b[0m\u001b[0;34m\u001b[0m\u001b[0;34m\u001b[0m\u001b[0m\n",
      "\u001b[0;32m~/miniforge3/envs/AodnCloudOptimised/lib/python3.12/site-packages/pyarrow/parquet/core.py\u001b[0m in \u001b[0;36m__init__\u001b[0;34m(self, path_or_paths, filesystem, schema, filters, read_dictionary, memory_map, buffer_size, partitioning, ignore_prefixes, pre_buffer, coerce_int96_timestamp_unit, decryption_properties, thrift_string_size_limit, thrift_container_size_limit, page_checksum_verification, use_legacy_dataset)\u001b[0m\n\u001b[1;32m   1277\u001b[0m         \u001b[0mself\u001b[0m\u001b[0;34m.\u001b[0m\u001b[0m_filter_expression\u001b[0m \u001b[0;34m=\u001b[0m \u001b[0;32mNone\u001b[0m\u001b[0;34m\u001b[0m\u001b[0;34m\u001b[0m\u001b[0m\n\u001b[1;32m   1278\u001b[0m         \u001b[0;32mif\u001b[0m \u001b[0mfilters\u001b[0m \u001b[0;32mis\u001b[0m \u001b[0;32mnot\u001b[0m \u001b[0;32mNone\u001b[0m\u001b[0;34m:\u001b[0m\u001b[0;34m\u001b[0m\u001b[0;34m\u001b[0m\u001b[0m\n\u001b[0;32m-> 1279\u001b[0;31m             \u001b[0mself\u001b[0m\u001b[0;34m.\u001b[0m\u001b[0m_filter_expression\u001b[0m \u001b[0;34m=\u001b[0m \u001b[0mfilters_to_expression\u001b[0m\u001b[0;34m(\u001b[0m\u001b[0mfilters\u001b[0m\u001b[0;34m)\u001b[0m\u001b[0;34m\u001b[0m\u001b[0;34m\u001b[0m\u001b[0m\n\u001b[0m\u001b[1;32m   1280\u001b[0m \u001b[0;34m\u001b[0m\u001b[0m\n\u001b[1;32m   1281\u001b[0m         \u001b[0;31m# map old filesystems to new one\u001b[0m\u001b[0;34m\u001b[0m\u001b[0;34m\u001b[0m\u001b[0m\n",
      "\u001b[0;32m~/miniforge3/envs/AodnCloudOptimised/lib/python3.12/site-packages/pyarrow/parquet/core.py\u001b[0m in \u001b[0;36mfilters_to_expression\u001b[0;34m(filters)\u001b[0m\n\u001b[1;32m    161\u001b[0m         \u001b[0;32mreturn\u001b[0m \u001b[0mfilters\u001b[0m\u001b[0;34m\u001b[0m\u001b[0;34m\u001b[0m\u001b[0m\n\u001b[1;32m    162\u001b[0m \u001b[0;34m\u001b[0m\u001b[0m\n\u001b[0;32m--> 163\u001b[0;31m     \u001b[0mfilters\u001b[0m \u001b[0;34m=\u001b[0m \u001b[0m_check_filters\u001b[0m\u001b[0;34m(\u001b[0m\u001b[0mfilters\u001b[0m\u001b[0;34m,\u001b[0m \u001b[0mcheck_null_strings\u001b[0m\u001b[0;34m=\u001b[0m\u001b[0;32mFalse\u001b[0m\u001b[0;34m)\u001b[0m\u001b[0;34m\u001b[0m\u001b[0;34m\u001b[0m\u001b[0m\n\u001b[0m\u001b[1;32m    164\u001b[0m \u001b[0;34m\u001b[0m\u001b[0m\n\u001b[1;32m    165\u001b[0m     \u001b[0;32mdef\u001b[0m \u001b[0mconvert_single_predicate\u001b[0m\u001b[0;34m(\u001b[0m\u001b[0mcol\u001b[0m\u001b[0;34m,\u001b[0m \u001b[0mop\u001b[0m\u001b[0;34m,\u001b[0m \u001b[0mval\u001b[0m\u001b[0;34m)\u001b[0m\u001b[0;34m:\u001b[0m\u001b[0;34m\u001b[0m\u001b[0;34m\u001b[0m\u001b[0m\n",
      "\u001b[0;32m~/miniforge3/envs/AodnCloudOptimised/lib/python3.12/site-packages/pyarrow/parquet/core.py\u001b[0m in \u001b[0;36m_check_filters\u001b[0;34m(filters, check_null_strings)\u001b[0m\n\u001b[1;32m     70\u001b[0m     \"\"\"\n\u001b[1;32m     71\u001b[0m     \u001b[0;32mif\u001b[0m \u001b[0mfilters\u001b[0m \u001b[0;32mis\u001b[0m \u001b[0;32mnot\u001b[0m \u001b[0;32mNone\u001b[0m\u001b[0;34m:\u001b[0m\u001b[0;34m\u001b[0m\u001b[0;34m\u001b[0m\u001b[0m\n\u001b[0;32m---> 72\u001b[0;31m         \u001b[0;32mif\u001b[0m \u001b[0mlen\u001b[0m\u001b[0;34m(\u001b[0m\u001b[0mfilters\u001b[0m\u001b[0;34m)\u001b[0m \u001b[0;34m==\u001b[0m \u001b[0;36m0\u001b[0m \u001b[0;32mor\u001b[0m \u001b[0many\u001b[0m\u001b[0;34m(\u001b[0m\u001b[0mlen\u001b[0m\u001b[0;34m(\u001b[0m\u001b[0mf\u001b[0m\u001b[0;34m)\u001b[0m \u001b[0;34m==\u001b[0m \u001b[0;36m0\u001b[0m \u001b[0;32mfor\u001b[0m \u001b[0mf\u001b[0m \u001b[0;32min\u001b[0m \u001b[0mfilters\u001b[0m\u001b[0;34m)\u001b[0m\u001b[0;34m:\u001b[0m\u001b[0;34m\u001b[0m\u001b[0;34m\u001b[0m\u001b[0m\n\u001b[0m\u001b[1;32m     73\u001b[0m             \u001b[0;32mraise\u001b[0m \u001b[0mValueError\u001b[0m\u001b[0;34m(\u001b[0m\u001b[0;34m\"Malformed filters\"\u001b[0m\u001b[0;34m)\u001b[0m\u001b[0;34m\u001b[0m\u001b[0;34m\u001b[0m\u001b[0m\n\u001b[1;32m     74\u001b[0m         \u001b[0;32mif\u001b[0m \u001b[0misinstance\u001b[0m\u001b[0;34m(\u001b[0m\u001b[0mfilters\u001b[0m\u001b[0;34m[\u001b[0m\u001b[0;36m0\u001b[0m\u001b[0;34m]\u001b[0m\u001b[0;34m[\u001b[0m\u001b[0;36m0\u001b[0m\u001b[0;34m]\u001b[0m\u001b[0;34m,\u001b[0m \u001b[0mstr\u001b[0m\u001b[0;34m)\u001b[0m\u001b[0;34m:\u001b[0m\u001b[0;34m\u001b[0m\u001b[0;34m\u001b[0m\u001b[0m\n",
      "\u001b[0;31mTypeError\u001b[0m: object of type 'type' has no len()"
     ]
    }
   ],
   "source": [
    "%%time\n",
    "# using pandas instead of pyarrow so that filters can directly be applied to the data, and not just the partition\n",
    "df = pd.read_parquet(dname, engine='pyarrow',filters=filter)\n",
    "df.info()"
   ]
  },
  {
   "cell_type": "code",
   "execution_count": null,
   "id": "5d9b182d",
   "metadata": {},
   "outputs": [],
   "source": [
    "# Download subsetted data as CSV\n",
    "df.aodn.download_as_csv()"
   ]
  },
  {
   "cell_type": "code",
   "execution_count": 11,
   "metadata": {},
   "outputs": [
    {
     "ename": "NameError",
     "evalue": "name 'df' is not defined",
     "output_type": "error",
     "traceback": [
      "\u001b[0;31m---------------------------------------------------------------------------\u001b[0m",
      "\u001b[0;31mNameError\u001b[0m                                 Traceback (most recent call last)",
      "\u001b[0;32m/tmp/ipykernel_1686074/400872420.py\u001b[0m in \u001b[0;36m<cell line: 0>\u001b[0;34m()\u001b[0m\n\u001b[0;32m----> 1\u001b[0;31m df[df['TEMP_quality_control'] == 1].sort_values('TIME').plot.scatter(x='TEMP', y='DEPTH', c='TIME', \n\u001b[0m\u001b[1;32m      2\u001b[0m                                                                      \u001b[0mxlabel\u001b[0m\u001b[0;34m=\u001b[0m\u001b[0mmetadata\u001b[0m\u001b[0;34m[\u001b[0m\u001b[0;34m'TEMP'\u001b[0m\u001b[0;34m]\u001b[0m\u001b[0;34m[\u001b[0m\u001b[0;34m'standard_name'\u001b[0m\u001b[0;34m]\u001b[0m\u001b[0;34m,\u001b[0m\u001b[0;34m\u001b[0m\u001b[0;34m\u001b[0m\u001b[0m\n\u001b[1;32m      3\u001b[0m                                                                      \u001b[0mylabel\u001b[0m\u001b[0;34m=\u001b[0m\u001b[0mmetadata\u001b[0m\u001b[0;34m[\u001b[0m\u001b[0;34m'DEPTH'\u001b[0m\u001b[0;34m]\u001b[0m\u001b[0;34m[\u001b[0m\u001b[0;34m'standard_name'\u001b[0m\u001b[0;34m]\u001b[0m\u001b[0;34m,\u001b[0m\u001b[0;34m\u001b[0m\u001b[0;34m\u001b[0m\u001b[0m\n\u001b[1;32m      4\u001b[0m                                                                      \u001b[0mcmap\u001b[0m\u001b[0;34m=\u001b[0m\u001b[0;34m'RdYlBu_r'\u001b[0m\u001b[0;34m,\u001b[0m \u001b[0mmarker\u001b[0m\u001b[0;34m=\u001b[0m\u001b[0;34m'.'\u001b[0m\u001b[0;34m,\u001b[0m \u001b[0mlinestyle\u001b[0m\u001b[0;34m=\u001b[0m\u001b[0;34m\"None\"\u001b[0m\u001b[0;34m)\u001b[0m\u001b[0;34m.\u001b[0m\u001b[0minvert_yaxis\u001b[0m\u001b[0;34m(\u001b[0m\u001b[0;34m)\u001b[0m\u001b[0;34m\u001b[0m\u001b[0;34m\u001b[0m\u001b[0m\n",
      "\u001b[0;31mNameError\u001b[0m: name 'df' is not defined"
     ]
    }
   ],
   "source": [
    "df[df['TEMP_quality_control'] == 1].sort_values('TIME').plot.scatter(x='TEMP', y='DEPTH', c='TIME', \n",
    "                                                                     xlabel=metadata['TEMP']['standard_name'],\n",
    "                                                                     ylabel=metadata['DEPTH']['standard_name'],\n",
    "                                                                     cmap='RdYlBu_r', marker='.', linestyle=\"None\").invert_yaxis()"
   ]
  },
  {
   "cell_type": "markdown",
   "metadata": {},
   "source": [
    "## Create a TIME and scalar/number filter"
   ]
  },
  {
   "cell_type": "code",
   "execution_count": 13,
   "metadata": {},
   "outputs": [],
   "source": [
    "filter_time = create_time_filter(parquet_ds, date_start='2024-01-31 10:14:00', date_end='2024-02-01 07:50:00')\n",
    "\n",
    "expr_1 = pc.field('XBT_line') == pa.scalar(\"PX34\")\n",
    "filter = expr_1 & filter_time"
   ]
  },
  {
   "cell_type": "code",
   "execution_count": 14,
   "metadata": {},
   "outputs": [
    {
     "name": "stdout",
     "output_type": "stream",
     "text": [
      "<class 'pandas.core.frame.DataFrame'>\n",
      "RangeIndex: 12616 entries, 0 to 12615\n",
      "Data columns (total 14 columns):\n",
      " #   Column                 Non-Null Count  Dtype         \n",
      "---  ------                 --------------  -----         \n",
      " 0   TIME                   12616 non-null  datetime64[ns]\n",
      " 1   LATITUDE               12616 non-null  float64       \n",
      " 2   LONGITUDE              12616 non-null  float64       \n",
      " 3   DEPTH                  12616 non-null  float64       \n",
      " 4   DEPTH_quality_control  12616 non-null  float32       \n",
      " 5   TEMP                   12616 non-null  float64       \n",
      " 6   TEMP_quality_control   12616 non-null  float32       \n",
      " 7   imo_number             12616 non-null  int32         \n",
      " 8   ship_name              12616 non-null  object        \n",
      " 9   Callsign               12616 non-null  object        \n",
      " 10  filename               12616 non-null  object        \n",
      " 11  XBT_line               12616 non-null  category      \n",
      " 12  timestamp              12616 non-null  category      \n",
      " 13  polygon                12616 non-null  category      \n",
      "dtypes: category(3), datetime64[ns](1), float32(2), float64(4), int32(1), object(3)\n",
      "memory usage: 975.9+ KB\n",
      "CPU times: user 255 ms, sys: 23.2 ms, total: 279 ms\n",
      "Wall time: 1.93 s\n"
     ]
    }
   ],
   "source": [
    "%%time\n",
    "# using pandas instead of pyarrow so that filters can directly be applied to the data, and not just the partition\n",
    "df = pd.read_parquet(dname, engine='pyarrow',filters=filter)\n",
    "df.info()"
   ]
  },
  {
   "cell_type": "code",
   "execution_count": 15,
   "metadata": {},
   "outputs": [
    {
     "data": {
      "image/png": "[encoded data removed]",
      "text/plain": [
       "<Figure size 640x480 with 1 Axes>"
      ]
     },
     "metadata": {},
     "output_type": "display_data"
    }
   ],
   "source": [
    "## Plotting only Good Quality data using QC flags\n",
    "df[df['TEMP_quality_control'] == 1].sort_values('TIME').plot.scatter(x='TEMP', y='DEPTH', c='TIME', cmap='RdYlBu_r',\n",
    "                                                                     xlabel=metadata['TEMP']['standard_name'],\n",
    "                                                                     ylabel=metadata['DEPTH']['standard_name'],\n",
    "                                                                     marker='.', linestyle=\"None\").invert_yaxis()"
   ]
  },
  {
   "cell_type": "code",
   "execution_count": null,
   "metadata": {},
   "outputs": [],
   "source": []
  },
  {
   "cell_type": "code",
   "execution_count": null,
   "metadata": {},
   "outputs": [],
   "source": []
  }
 ],
 "metadata": {
  "kernelspec": {
   "display_name": "Python 3 (ipykernel)",
   "language": "python",
   "name": "python3"
  },
  "language_info": {
   "codemirror_mode": {
    "name": "ipython",
    "version": 3
   },
   "file_extension": ".py",
   "mimetype": "text/x-python",
   "name": "python",
   "nbconvert_exporter": "python",
   "pygments_lexer": "ipython3",
   "version": "3.12.6"
  }
 },
 "nbformat": 4,
 "nbformat_minor": 4
}
