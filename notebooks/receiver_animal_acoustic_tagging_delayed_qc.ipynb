{
 "cells": [
  {
   "cell_type": "markdown",
   "metadata": {},
   "source": [
    "## Access Animal Tracking Acoustic Tagging data in Parquet\n",
    "\n",
    "A jupyter notebook to show how to access and plot Animal Tracking Acoustic Tagging data available as a [Parquet](https://parquet.apache.org) dataset on S3"
   ]
  },
  {
   "cell_type": "code",
   "execution_count": 1,
   "metadata": {},
   "outputs": [],
   "source": [
    "dataset_name = \"receiver_animal_acoustic_tagging_delayed_qc\""
   ]
  },
  {
   "cell_type": "markdown",
   "metadata": {},
   "source": [
    "## Install/Update packages and Load common functions"
   ]
  },
  {
   "cell_type": "code",
   "execution_count": 2,
   "metadata": {},
   "outputs": [
    {
     "name": "stdout",
     "output_type": "stream",
     "text": [
      "Requirement already satisfied: uv in /home/lbesnard/miniforge3/envs/AodnCloudOptimised/lib/python3.12/site-packages (0.2.31)\n"
     ]
    },
    {
     "name": "stderr",
     "output_type": "stream",
     "text": [
      "Using Python 3.12.4 interpreter at: \u001b[36m/home/lbesnard/miniforge3/envs/AodnCloudOptimised/bin/python3\u001b[39m\n",
      "Creating virtualenv at: \u001b[36m.venv\u001b[39m\n",
      "Activate with: \u001b[32msource .venv/bin/activate\u001b[39m\n",
      "\u001b[2mAudited \u001b[1m127 packages\u001b[0m \u001b[2min 99ms\u001b[0m\u001b[0m\n"
     ]
    }
   ],
   "source": [
    "# only run once, then restart session if needed\n",
    "!pip install uv\n",
    "\n",
    "import os\n",
    "import sys\n",
    "\n",
    "def is_colab():\n",
    "    try:\n",
    "        import google.colab\n",
    "        return True\n",
    "    except ImportError:\n",
    "        return False\n",
    "\n",
    "# Get the current directory of the notebook\n",
    "current_dir = os.getcwd()\n",
    "\n",
    "# Check if requirements.txt exists in the current directory\n",
    "local_requirements = os.path.join(current_dir, 'requirements.txt')\n",
    "if os.path.exists(local_requirements):\n",
    "    requirements_path = local_requirements\n",
    "else:\n",
    "    # Fall back to the online requirements.txt file\n",
    "    requirements_path = 'https://raw.githubusercontent.com/aodn/aodn_cloud_optimised/main/notebooks/requirements.txt'\n",
    "\n",
    "# Install packages using uv and the determined requirements file\n",
    "if is_colab():\n",
    "    os.system(f'uv pip install --system -r {requirements_path}')\n",
    "else:\n",
    "    os.system('uv venv')\n",
    "    os.system(f'uv pip install -r {requirements_path}')"
   ]
  },
  {
   "cell_type": "code",
   "execution_count": 3,
   "metadata": {},
   "outputs": [],
   "source": [
    "import requests\n",
    "import os\n",
    "if not os.path.exists('parquet_queries.py'):\n",
    "  print('Downloading parquet_queries.py')\n",
    "  url = 'https://raw.githubusercontent.com/aodn/aodn_cloud_optimised/main/aodn_cloud_optimised/lib/ParquetDataQuery.py'\n",
    "  response = requests.get(url)\n",
    "  with open('parquet_queries.py', 'w') as f:\n",
    "      f.write(response.text)"
   ]
  },
  {
   "cell_type": "code",
   "execution_count": 4,
   "metadata": {},
   "outputs": [],
   "source": [
    "from parquet_queries import create_time_filter, create_bbox_filter, query_unique_value, plot_spatial_extent, \\\n",
    "    get_temporal_extent, get_schema_metadata\n",
    "import pyarrow.parquet as pq\n",
    "import pyarrow.dataset as pds\n",
    "import pyarrow as pa\n",
    "import pandas as pd\n",
    "import pyarrow.compute as pc"
   ]
  },
  {
   "cell_type": "markdown",
   "metadata": {},
   "source": [
    "## Location of the parquet dataset"
   ]
  },
  {
   "cell_type": "code",
   "execution_count": 5,
   "metadata": {},
   "outputs": [],
   "source": [
    "BUCKET_OPTIMISED_DEFAULT=\"aodn-cloud-optimised\"\n",
    "dname = f\"s3://anonymous@{BUCKET_OPTIMISED_DEFAULT}/{dataset_name}.parquet/\"\n",
    "parquet_ds = pq.ParquetDataset(dname,partitioning='hive')"
   ]
  },
  {
   "cell_type": "markdown",
   "metadata": {},
   "source": [
    "# Understanding the Dataset"
   ]
  },
  {
   "cell_type": "markdown",
   "metadata": {},
   "source": [
    "## Get partition keys\n",
    "Partitioning in Parquet involves organising data files based on the values of one or more columns, known as partition keys. When data is written to Parquet files with partitioning enabled, the files are physically stored in a directory structure that reflects the partition keys. This directory structure makes it easier to retrieve and process specific subsets of data based on the partition keys."
   ]
  },
  {
   "cell_type": "code",
   "execution_count": 6,
   "metadata": {},
   "outputs": [
    {
     "name": "stdout",
     "output_type": "stream",
     "text": [
      "transmitter_id: string\n",
      "timestamp: int32\n",
      "polygon: string\n"
     ]
    }
   ],
   "source": [
    "dataset = pds.dataset(dname, format=\"parquet\", partitioning=\"hive\")\n",
    "\n",
    "partition_keys = dataset.partitioning.schema\n",
    "print(partition_keys)"
   ]
  },
  {
   "cell_type": "markdown",
   "metadata": {},
   "source": [
    "## List unique partition values"
   ]
  },
  {
   "cell_type": "code",
   "execution_count": 7,
   "metadata": {},
   "outputs": [
    {
     "name": "stdout",
     "output_type": "stream",
     "text": [
      "['A69-9002-3929', 'A69-9002-6607']\n",
      "CPU times: user 164 ms, sys: 7.24 ms, total: 172 ms\n",
      "Wall time: 170 ms\n"
     ]
    }
   ],
   "source": [
    "%%time\n",
    "unique_partition_value = query_unique_value(parquet_ds, 'transmitter_id')\n",
    "print(list(unique_partition_value)[0:2])  # showing a subset only"
   ]
  },
  {
   "cell_type": "markdown",
   "metadata": {},
   "source": [
    "## Visualise Spatial Extent of the dataset\n",
    "In this section, we're plotting the polygons where data exists. This helps then with creating a bounding box where there is data"
   ]
  },
  {
   "cell_type": "code",
   "execution_count": 8,
   "metadata": {},
   "outputs": [
    {
     "data": {
      "image/png": "[encoded data removed]",
      "text/plain": [
       "<Figure size 640x480 with 1 Axes>"
      ]
     },
     "metadata": {},
     "output_type": "display_data"
    }
   ],
   "source": [
    "plot_spatial_extent(parquet_ds)"
   ]
  },
  {
   "cell_type": "markdown",
   "metadata": {},
   "source": [
    "## Get Temporal Extent of the dataset"
   ]
  },
  {
   "cell_type": "markdown",
   "metadata": {},
   "source": [
    "Similary to the spatial extent, we're retrieving the minimum and maximum timestamp partition values of the dataset. This is not necessarely accurately representative of the TIME values, as the timestamp partition can be yearly/monthly... but is here to give an idea"
   ]
  },
  {
   "cell_type": "code",
   "execution_count": 9,
   "metadata": {},
   "outputs": [
    {
     "data": {
      "text/plain": [
       "(datetime.datetime(2007, 11, 1, 11, 0), datetime.datetime(2017, 3, 1, 11, 0))"
      ]
     },
     "execution_count": 9,
     "metadata": {},
     "output_type": "execute_result"
    }
   ],
   "source": [
    "get_temporal_extent(parquet_ds)"
   ]
  },
  {
   "cell_type": "markdown",
   "metadata": {},
   "source": [
    "## Read Metadata\n",
    "\n",
    "For all parquet dataset, we create a sidecar file in the root of the dataset named **_common_matadata**. This contains the variable attributes."
   ]
  },
  {
   "cell_type": "code",
   "execution_count": 10,
   "metadata": {},
   "outputs": [
    {
     "data": {
      "text/plain": [
       "{'detection_timestamp': {'type': 'timestamp[ns]',\n",
       "  'standard_name': 'time',\n",
       "  'long_name': '',\n",
       "  'units': 's',\n",
       "  'comments': ''},\n",
       " 'transmitter_id': {'type': 'string',\n",
       "  'standard_name': '',\n",
       "  'long_name': '',\n",
       "  'units': '',\n",
       "  'comments': ''},\n",
       " 'installation_name': {'type': 'string',\n",
       "  'standard_name': '',\n",
       "  'long_name': '',\n",
       "  'units': '',\n",
       "  'comments': ''},\n",
       " 'station_name': {'type': 'string',\n",
       "  'standard_name': '',\n",
       "  'long_name': '',\n",
       "  'units': '',\n",
       "  'comments': ''},\n",
       " 'receiver_name': {'type': 'string',\n",
       "  'standard_name': '',\n",
       "  'long_name': '',\n",
       "  'units': '',\n",
       "  'comments': ''},\n",
       " 'latitude': {'type': 'double',\n",
       "  'standard_name': '',\n",
       "  'long_name': '',\n",
       "  'units': '',\n",
       "  'comments': ''},\n",
       " 'longitude': {'type': 'double',\n",
       "  'standard_name': '',\n",
       "  'long_name': '',\n",
       "  'units': '',\n",
       "  'comments': ''},\n",
       " 'sensor_value': {'type': 'double',\n",
       "  'standard_name': '',\n",
       "  'long_name': '',\n",
       "  'units': '',\n",
       "  'comments': ''},\n",
       " 'sensor_unit': {'type': 'string',\n",
       "  'standard_name': '',\n",
       "  'long_name': '',\n",
       "  'units': '',\n",
       "  'comments': ''},\n",
       " 'FDA_QC': {'type': 'float',\n",
       "  'standard_name': '',\n",
       "  'long_name': '',\n",
       "  'units': '',\n",
       "  'comments': ''},\n",
       " 'Velocity_QC': {'type': 'float',\n",
       "  'standard_name': '',\n",
       "  'long_name': '',\n",
       "  'units': '',\n",
       "  'comments': ''},\n",
       " 'Distance_QC': {'type': 'float',\n",
       "  'standard_name': '',\n",
       "  'long_name': '',\n",
       "  'units': '',\n",
       "  'comments': ''},\n",
       " 'DetectionDistribution_QC': {'type': 'float',\n",
       "  'standard_name': '',\n",
       "  'long_name': '',\n",
       "  'units': '',\n",
       "  'comments': ''},\n",
       " 'DistanceRelease_QC': {'type': 'double',\n",
       "  'standard_name': '',\n",
       "  'long_name': '',\n",
       "  'units': '',\n",
       "  'comments': ''},\n",
       " 'ReleaseDate_QC': {'type': 'float',\n",
       "  'standard_name': '',\n",
       "  'long_name': '',\n",
       "  'units': '',\n",
       "  'comments': ''},\n",
       " 'ReleaseLocation_QC': {'type': 'float',\n",
       "  'standard_name': '',\n",
       "  'long_name': '',\n",
       "  'units': '',\n",
       "  'comments': ''},\n",
       " 'Detection_QC': {'type': 'float',\n",
       "  'standard_name': '',\n",
       "  'long_name': '',\n",
       "  'units': '',\n",
       "  'comments': ''},\n",
       " 'filename': {'type': 'string',\n",
       "  'standard_name': '',\n",
       "  'long_name': '',\n",
       "  'units': '',\n",
       "  'comments': ''},\n",
       " 'timestamp': {'type': 'int64',\n",
       "  'standard_name': '',\n",
       "  'long_name': '',\n",
       "  'units': '',\n",
       "  'comments': ''},\n",
       " 'polygon': {'type': 'string',\n",
       "  'standard_name': '',\n",
       "  'long_name': '',\n",
       "  'units': '',\n",
       "  'comments': ''},\n",
       " 'dataset_metadata': {'metadata_uuid': '541d4f15-122a-443d-ab4e-2b5feb08d6a0',\n",
       "  'title': 'AATAMS ACOUSTIC'}}"
      ]
     },
     "execution_count": 10,
     "metadata": {},
     "output_type": "execute_result"
    }
   ],
   "source": [
    "# parquet_meta = pa.parquet.read_schema(os.path.join(dname + '_common_metadata'))  # parquet metadata\n",
    "metadata = get_schema_metadata(dname)  # schema metadata\n",
    "metadata"
   ]
  },
  {
   "cell_type": "markdown",
   "metadata": {},
   "source": [
    "# Data Query and Plot"
   ]
  },
  {
   "cell_type": "markdown",
   "metadata": {},
   "source": [
    "## Create a TIME and BoundingBox filter"
   ]
  },
  {
   "cell_type": "code",
   "execution_count": 11,
   "metadata": {},
   "outputs": [],
   "source": [
    "filter_time = create_time_filter(parquet_ds, date_start='2009-06-01', date_end='2010-01-01', time_varname='detection_timestamp')\n",
    "filter_geo = create_bbox_filter(parquet_ds, lat_min=-20, lat_max=-10, lon_min=140, lon_max=143, lat_varname='latitude', lon_varname='longitude')\n",
    "\n",
    "filter = filter_geo & filter_time"
   ]
  },
  {
   "cell_type": "code",
   "execution_count": 12,
   "metadata": {},
   "outputs": [
    {
     "name": "stdout",
     "output_type": "stream",
     "text": [
      "<class 'pandas.core.frame.DataFrame'>\n",
      "RangeIndex: 92687 entries, 0 to 92686\n",
      "Data columns (total 20 columns):\n",
      " #   Column                    Non-Null Count  Dtype         \n",
      "---  ------                    --------------  -----         \n",
      " 0   detection_timestamp       92687 non-null  datetime64[ns]\n",
      " 1   installation_name         92687 non-null  object        \n",
      " 2   station_name              92687 non-null  object        \n",
      " 3   receiver_name             92687 non-null  object        \n",
      " 4   latitude                  92687 non-null  float64       \n",
      " 5   longitude                 92687 non-null  float64       \n",
      " 6   sensor_value              10913 non-null  float64       \n",
      " 7   sensor_unit               10913 non-null  object        \n",
      " 8   FDA_QC                    92687 non-null  float32       \n",
      " 9   Velocity_QC               92687 non-null  float32       \n",
      " 10  Distance_QC               92687 non-null  float32       \n",
      " 11  DetectionDistribution_QC  92687 non-null  float32       \n",
      " 12  DistanceRelease_QC        92687 non-null  float64       \n",
      " 13  ReleaseDate_QC            92687 non-null  float32       \n",
      " 14  ReleaseLocation_QC        92687 non-null  float32       \n",
      " 15  Detection_QC              92687 non-null  float32       \n",
      " 16  filename                  92687 non-null  object        \n",
      " 17  transmitter_id            92687 non-null  category      \n",
      " 18  timestamp                 92687 non-null  category      \n",
      " 19  polygon                   92687 non-null  category      \n",
      "dtypes: category(3), datetime64[ns](1), float32(7), float64(4), object(5)\n",
      "memory usage: 10.1+ MB\n",
      "CPU times: user 12.4 s, sys: 363 ms, total: 12.8 s\n",
      "Wall time: 23.2 s\n"
     ]
    }
   ],
   "source": [
    "%%time\n",
    "# using pandas instead of pyarrow so that filters can directly be applied to the data, and not just the partition\n",
    "df = pd.read_parquet(dname, engine='pyarrow',filters=filter)\n",
    "df.info()"
   ]
  },
  {
   "cell_type": "code",
   "execution_count": 13,
   "metadata": {},
   "outputs": [
    {
     "data": {
      "text/plain": [
       "<Axes: xlabel='longitude', ylabel='latitude'>"
      ]
     },
     "execution_count": 13,
     "metadata": {},
     "output_type": "execute_result"
    },
    {
     "data": {
      "image/png": "[encoded data removed]",
      "text/plain": [
       "<Figure size 640x480 with 1 Axes>"
      ]
     },
     "metadata": {},
     "output_type": "display_data"
    }
   ],
   "source": [
    "df[df['installation_name']== \"Wenlock River\"].plot.scatter(x='longitude', y='latitude')"
   ]
  },
  {
   "cell_type": "markdown",
   "metadata": {},
   "source": [
    "## Create a TIME and scalar/number filter"
   ]
  },
  {
   "cell_type": "code",
   "execution_count": 14,
   "metadata": {},
   "outputs": [],
   "source": [
    "filter_time = create_time_filter(parquet_ds, date_start='2006-07-12', date_end='2023-02-05', time_varname='detection_timestamp')\n",
    "\n",
    "expr_1 = pc.field('transmitter_id') == pa.scalar('A69-1105-106')\n",
    "filter = expr_1 & filter_time"
   ]
  },
  {
   "cell_type": "code",
   "execution_count": 15,
   "metadata": {},
   "outputs": [
    {
     "name": "stdout",
     "output_type": "stream",
     "text": [
      "<class 'pandas.core.frame.DataFrame'>\n",
      "RangeIndex: 36718 entries, 0 to 36717\n",
      "Data columns (total 20 columns):\n",
      " #   Column                    Non-Null Count  Dtype         \n",
      "---  ------                    --------------  -----         \n",
      " 0   detection_timestamp       36718 non-null  datetime64[ns]\n",
      " 1   installation_name         36718 non-null  object        \n",
      " 2   station_name              36718 non-null  object        \n",
      " 3   receiver_name             36718 non-null  object        \n",
      " 4   latitude                  36718 non-null  float64       \n",
      " 5   longitude                 36718 non-null  float64       \n",
      " 6   sensor_value              36718 non-null  float64       \n",
      " 7   sensor_unit               36718 non-null  object        \n",
      " 8   FDA_QC                    36718 non-null  float32       \n",
      " 9   Velocity_QC               36718 non-null  float32       \n",
      " 10  Distance_QC               36718 non-null  float32       \n",
      " 11  DetectionDistribution_QC  36718 non-null  float32       \n",
      " 12  DistanceRelease_QC        36718 non-null  float64       \n",
      " 13  ReleaseDate_QC            36718 non-null  float32       \n",
      " 14  ReleaseLocation_QC        36718 non-null  float32       \n",
      " 15  Detection_QC              36718 non-null  float32       \n",
      " 16  filename                  36718 non-null  object        \n",
      " 17  transmitter_id            36718 non-null  category      \n",
      " 18  timestamp                 36718 non-null  category      \n",
      " 19  polygon                   36718 non-null  category      \n",
      "dtypes: category(3), datetime64[ns](1), float32(7), float64(4), object(5)\n",
      "memory usage: 4.1+ MB\n",
      "CPU times: user 8.14 s, sys: 239 ms, total: 8.38 s\n",
      "Wall time: 20 s\n"
     ]
    }
   ],
   "source": [
    "%%time\n",
    "# using pandas instead of pyarrow so that filters can directly be applied to the data, and not just the partition\n",
    "df = pd.read_parquet(dname, engine='pyarrow',filters=filter)\n",
    "df.info()"
   ]
  },
  {
   "cell_type": "code",
   "execution_count": 16,
   "metadata": {},
   "outputs": [
    {
     "data": {
      "text/plain": [
       "<Axes: xlabel='longitude', ylabel='latitude'>"
      ]
     },
     "execution_count": 16,
     "metadata": {},
     "output_type": "execute_result"
    },
    {
     "data": {
      "image/png": "[encoded data removed]",
      "text/plain": [
       "<Figure size 640x480 with 1 Axes>"
      ]
     },
     "metadata": {},
     "output_type": "display_data"
    }
   ],
   "source": [
    "df[df['installation_name']== \"Wenlock River\"].plot.scatter(x='longitude', y='latitude')"
   ]
  },
  {
   "cell_type": "code",
   "execution_count": null,
   "metadata": {},
   "outputs": [],
   "source": []
  }
 ],
 "metadata": {
  "kernelspec": {
   "display_name": "Python 3 (ipykernel)",
   "language": "python",
   "name": "python3"
  },
  "language_info": {
   "codemirror_mode": {
    "name": "ipython",
    "version": 3
   },
   "file_extension": ".py",
   "mimetype": "text/x-python",
   "name": "python",
   "nbconvert_exporter": "python",
   "pygments_lexer": "ipython3",
   "version": "3.12.6"
  }
 },
 "nbformat": 4,
 "nbformat_minor": 4
}
