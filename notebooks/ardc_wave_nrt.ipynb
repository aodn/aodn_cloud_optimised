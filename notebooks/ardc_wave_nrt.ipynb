{
 "cells": [
  {
   "cell_type": "markdown",
   "metadata": {},
   "source": [
    "## Access ARDC Wave data in Parquet\n",
    "\n",
    "A jupyter notebook to show how to access and plot ARDC Wave data available as a [Parquet](https://parquet.apache.org) dataset on S3"
   ]
  },
  {
   "cell_type": "code",
   "execution_count": 1,
   "metadata": {},
   "outputs": [],
   "source": [
    "dataset_name = \"ardc_wave_nrt\""
   ]
  },
  {
   "cell_type": "markdown",
   "metadata": {},
   "source": [
    "## Install/Update packages and Load common functions"
   ]
  },
  {
   "cell_type": "code",
   "execution_count": null,
   "metadata": {},
   "outputs": [],
   "source": [
    "# only run once, then restart session and comment the next 3 lines\n",
    "!pip install s3fs -U\n",
    "!pip install pyarrow==16.0.0 -U\n",
    "!pip install zarr xarray[complete]\n",
    "!pip install pandas=2.2.2 -U"
   ]
  },
  {
   "cell_type": "code",
   "execution_count": null,
   "metadata": {},
   "outputs": [],
   "source": [
    "import requests\n",
    "import os\n",
    "if not os.path.exists('parquet_queries.py'):\n",
    "  print('Downloading parquet_queries.py')\n",
    "  url = 'https://raw.githubusercontent.com/aodn/aodn_cloud_optimised/main/notebooks/parquet_queries.py'\n",
    "  response = requests.get(url)\n",
    "  with open('parquet_queries.py', 'w') as f:\n",
    "      f.write(response.text)"
   ]
  },
  {
   "cell_type": "code",
   "execution_count": 2,
   "metadata": {},
   "outputs": [],
   "source": [
    "from parquet_queries import create_time_filter, create_bbox_filter, query_unique_value, plot_spatial_extent, get_spatial_extent, get_temporal_extent, get_schema_metadata\n",
    "import pyarrow.parquet as pq\n",
    "import pyarrow.dataset as pds\n",
    "import pyarrow as pa\n",
    "import os\n",
    "import pandas as pd\n",
    "import pyarrow.compute as pc"
   ]
  },
  {
   "cell_type": "markdown",
   "metadata": {},
   "source": [
    "## Location of the parquet dataset"
   ]
  },
  {
   "cell_type": "code",
   "execution_count": 3,
   "metadata": {},
   "outputs": [],
   "source": [
    "BUCKET_OPTIMISED_DEFAULT=\"imos-data-lab-optimised\"\n",
    "dname = f\"s3://{BUCKET_OPTIMISED_DEFAULT}/parquet/loz_test/{dataset_name}.parquet/\"\n",
    "parquet_ds = pq.ParquetDataset(dname,partitioning='hive')"
   ]
  },
  {
   "cell_type": "markdown",
   "metadata": {},
   "source": [
    "# Understanding the Dataset"
   ]
  },
  {
   "cell_type": "markdown",
   "metadata": {},
   "source": [
    "## Get partition keys\n",
    "Partitioning in Parquet involves organising data files based on the values of one or more columns, known as partition keys. When data is written to Parquet files with partitioning enabled, the files are physically stored in a directory structure that reflects the partition keys. This directory structure makes it easier to retrieve and process specific subsets of data based on the partition keys."
   ]
  },
  {
   "cell_type": "code",
   "execution_count": 4,
   "metadata": {},
   "outputs": [
    {
     "name": "stdout",
     "output_type": "stream",
     "text": [
      "site_name: string\n",
      "timestamp: int32\n",
      "polygon: string\n"
     ]
    }
   ],
   "source": [
    "dataset = pds.dataset(dname, format=\"parquet\", partitioning=\"hive\")\n",
    "\n",
    "partition_keys = dataset.partitioning.schema\n",
    "print(partition_keys)"
   ]
  },
  {
   "cell_type": "markdown",
   "metadata": {},
   "source": [
    "## List unique partition values"
   ]
  },
  {
   "cell_type": "code",
   "execution_count": 5,
   "metadata": {},
   "outputs": [
    {
     "name": "stdout",
     "output_type": "stream",
     "text": [
      "['Cottesloe', 'Cape%20Naturaliste']\n",
      "CPU times: user 2.65 ms, sys: 1.12 ms, total: 3.77 ms\n",
      "Wall time: 3.2 ms\n"
     ]
    }
   ],
   "source": [
    "%%time\n",
    "unique_partition_value = query_unique_value(parquet_ds, 'site_name')\n",
    "print(list(unique_partition_value)[0:2])  # showing a subset only"
   ]
  },
  {
   "cell_type": "markdown",
   "metadata": {},
   "source": [
    "## Visualise Spatial Extent of the dataset\n",
    "In this section, we're plotting the polygons where data exists. This helps then with creating a bounding box where there is data"
   ]
  },
  {
   "cell_type": "code",
   "execution_count": 6,
   "metadata": {},
   "outputs": [
    {
     "data": {
      "image/png": "[encoded data removed]",
      "text/plain": [
       "<Figure size 640x480 with 1 Axes>"
      ]
     },
     "metadata": {},
     "output_type": "display_data"
    }
   ],
   "source": [
    "plot_spatial_extent(parquet_ds)"
   ]
  },
  {
   "cell_type": "markdown",
   "metadata": {},
   "source": [
    "## Get Temporal Extent of the dataset"
   ]
  },
  {
   "cell_type": "markdown",
   "metadata": {},
   "source": [
    "Similary to the spatial extent, we're retrieving the minimum and maximum timestamp partition values of the dataset. This is not necessarely accurately representative of the TIME values, as the timestamp partition can be yearly/monthly... but is here to give an idea"
   ]
  },
  {
   "cell_type": "code",
   "execution_count": 7,
   "metadata": {},
   "outputs": [
    {
     "data": {
      "text/plain": [
       "(datetime.datetime(2022, 11, 1, 11, 0), datetime.datetime(2024, 4, 1, 11, 0))"
      ]
     },
     "execution_count": 7,
     "metadata": {},
     "output_type": "execute_result"
    }
   ],
   "source": [
    "get_temporal_extent(parquet_ds)"
   ]
  },
  {
   "cell_type": "markdown",
   "metadata": {},
   "source": [
    "## Read Metadata\n",
    "\n",
    "For all parquet dataset, we create a sidecar file in the root of the dataset named **_common_matadata**. This contains the variable attributes."
   ]
  },
  {
   "cell_type": "code",
   "execution_count": 8,
   "metadata": {},
   "outputs": [
    {
     "data": {
      "text/plain": [
       "{'timeSeries': {'type': 'int32',\n",
       "  'long_name': 'unique identifier for each feature instance',\n",
       "  'cf_role': 'timeseries_id'},\n",
       " 'TIME': {'type': 'timestamp[ns]',\n",
       "  'standard_name': 'time',\n",
       "  'long_name': 'time',\n",
       "  'axis': 'T',\n",
       "  'valid_min': 0.0,\n",
       "  'valid_max': 90000.0},\n",
       " 'LATITUDE': {'type': 'double',\n",
       "  'standard_name': 'latitude',\n",
       "  'long_name': 'latitude',\n",
       "  'units': 'degrees_north',\n",
       "  'axis': 'Y',\n",
       "  'valid_min': -90.0,\n",
       "  'valid_max': 90.0,\n",
       "  'reference_datum': 'WGS84 coordinate reference system; EPSG:4326'},\n",
       " 'LONGITUDE': {'type': 'double',\n",
       "  'standard_name': 'longitude',\n",
       "  'long_name': 'longitude',\n",
       "  'units': 'degrees_east',\n",
       "  'axis': 'X',\n",
       "  'valid_min': -180.0,\n",
       "  'valid_max': 180.0,\n",
       "  'reference_datum': 'WGS84 coordinate reference system; EPSG:4326'},\n",
       " 'WHTH': {'type': 'double',\n",
       "  'standard_name': 'sea_surface_wave_significant_height',\n",
       "  'long_name': 'sea surface wave significant height from time domain analysis',\n",
       "  'units': 'm',\n",
       "  'valid_min': 0.0,\n",
       "  'valid_max': 100.0,\n",
       "  'method': 'Time domain analysis',\n",
       "  'ancillary_variable': 'WAVE_quality_control'},\n",
       " 'WPMH': {'type': 'double',\n",
       "  'standard_name': 'sea_surface_wave_mean_period',\n",
       "  'long_name': 'sea surface wave mean period',\n",
       "  'units': 's',\n",
       "  'valid_min': 0.0,\n",
       "  'valid_max': 50.0,\n",
       "  'method': 'Time domain analysis',\n",
       "  'ancillary_variable': 'WAVE_quality_control'},\n",
       " 'WMXH': {'type': 'double',\n",
       "  'standard_name': 'sea_surface_wave_maximum_height',\n",
       "  'long_name': 'sea surface wave maximum height',\n",
       "  'units': 'm',\n",
       "  'valid_min': 0.0,\n",
       "  'valid_max': 100.0,\n",
       "  'method': 'Time domain analysis',\n",
       "  'ancillary_variable': 'WAVE_quality_control'},\n",
       " 'WPPE': {'type': 'double',\n",
       "  'standard_name': 'sea_surface_wave_period_at_variance_spectral_density_maximum',\n",
       "  'long_name': 'spectral peak wave period',\n",
       "  'units': 's',\n",
       "  'valid_min': 0.0,\n",
       "  'valid_max': 50.0,\n",
       "  'method': 'Spectral analysis method',\n",
       "  'ancillary_variable': 'WAVE_quality_control'},\n",
       " 'WPDI': {'type': 'double',\n",
       "  'standard_name': 'sea_surface_wave_from_direction_at_variance_spectral_density_maximum',\n",
       "  'long_name': 'direction of the dominant wave',\n",
       "  'units': 'degree',\n",
       "  'reference_datum': 'true north',\n",
       "  'valid_min': 0.0,\n",
       "  'valid_max': 360.0,\n",
       "  'method': 'Spectral analysis method',\n",
       "  'ancillary_variable': 'WAVE_quality_control'},\n",
       " 'WPDS': {'type': 'double',\n",
       "  'standard_name': 'sea_surface_wave_directional_spread_at_variance_spectral_density_maximum',\n",
       "  'long_name': 'directional spread of the dominant wave',\n",
       "  'units': 'degree',\n",
       "  'reference_datum': 'true north',\n",
       "  'valid_min': 0.0,\n",
       "  'valid_max': 360.0,\n",
       "  'method': 'Spectral analysis method',\n",
       "  'ancillary_variable': 'WAVE_quality_control'},\n",
       " 'WAVE_quality_control': {'type': 'float',\n",
       "  'long_name': 'primary Quality Control flag for wave variables',\n",
       "  'valid_min': 1,\n",
       "  'valid_max': 9,\n",
       "  'flag_values': [1, 2, 3, 4, 9],\n",
       "  'flag_meanings': 'good not_evaluated questionable bad missing',\n",
       "  'quality_control_convention': 'Ocean Data Standards, UNESCO 2013 - IOC Manuals and Guides, 54, Volume 3 Version 1'},\n",
       " 'WSSH': {'type': 'double',\n",
       "  'ancillary_variable': 'WAVE_quality_control',\n",
       "  'long_name': 'sea surface wave spectral significant height',\n",
       "  'method': 'Spectral analysis method',\n",
       "  'standard_name': 'sea_surface_wave_significant_height',\n",
       "  'units': 'm',\n",
       "  'valid_max': 100.0,\n",
       "  'valid_min': 0.0},\n",
       " 'WPFM': {'type': 'double',\n",
       "  'ancillary_variable': 'WAVE_quality_control',\n",
       "  'long_name': 'sea surface wave spectral mean period',\n",
       "  'method': 'Spectral analysis method',\n",
       "  'standard_name': 'sea_surface_wave_mean_period_from_variance_spectral_density_first_frequency_moment',\n",
       "  'units': 's',\n",
       "  'valid_max': 50.0,\n",
       "  'valid_min': 0.0},\n",
       " 'WMDS': {'type': 'double',\n",
       "  'ancillary_variable': 'WAVE_quality_control',\n",
       "  'long_name': 'spectral sea surface wave mean directional spread',\n",
       "  'method': 'Spectral analysis method',\n",
       "  'positive': 'clockwise',\n",
       "  'standard_name': 'sea_surface_wave_directional_spread',\n",
       "  'units': 'Degrees',\n",
       "  'valid_max': 360.0,\n",
       "  'valid_min': 0.0},\n",
       " 'SSWMD': {'type': 'double',\n",
       "  'ancillary_variable': 'WAVE_quality_control',\n",
       "  'comment': 'Direction (related to the magnetic north) from which the mean period waves are coming from',\n",
       "  'compass_correction_applied': 13,\n",
       "  'long_name': 'spectral sea surface wave mean direction',\n",
       "  'magnetic_declination': 12.86,\n",
       "  'method': 'Spectral analysis method',\n",
       "  'positive': 'clockwise',\n",
       "  'reference_datum': 'true north',\n",
       "  'standard_name': 'sea_surface_wave_from_direction',\n",
       "  'units': 'Degrees',\n",
       "  'valid_max': 360.0,\n",
       "  'valid_min': 0.0},\n",
       " 'water_depth': {'type': 'int64'},\n",
       " 'wmo_id': {'type': 'string'},\n",
       " 'timestamp': {'type': 'int64'},\n",
       " 'polygon': {'type': 'string'},\n",
       " 'site_name': {'type': 'string'},\n",
       " 'filename': {'type': 'string'},\n",
       " 'dataset_metadata': {'metadata_uuid': '2807f3aa-4db0-4924-b64b-354ae8c10b58',\n",
       "  'title': 'ARDC'}}"
      ]
     },
     "execution_count": 8,
     "metadata": {},
     "output_type": "execute_result"
    }
   ],
   "source": [
    "# parquet_meta = pa.parquet.read_schema(os.path.join(dname + '_common_metadata'))  # parquet metadata\n",
    "metadata = get_schema_metadata(dname)  # schema metadata\n",
    "metadata"
   ]
  },
  {
   "cell_type": "markdown",
   "metadata": {},
   "source": [
    "# Data Query and Plot"
   ]
  },
  {
   "cell_type": "markdown",
   "metadata": {},
   "source": [
    "## Create a TIME and BoundingBox filter"
   ]
  },
  {
   "cell_type": "code",
   "execution_count": 9,
   "metadata": {},
   "outputs": [
    {
     "ename": "ValueError",
     "evalue": "No data for given bounding box. Amend lat/lon values ",
     "output_type": "error",
     "traceback": [
      "\u001b[0;31m---------------------------------------------------------------------------\u001b[0m",
      "\u001b[0;31mValueError\u001b[0m                                Traceback (most recent call last)",
      "Cell \u001b[0;32mIn[9], line 2\u001b[0m\n\u001b[1;32m      1\u001b[0m filter_time \u001b[38;5;241m=\u001b[39m create_time_filter(parquet_ds, date_start\u001b[38;5;241m=\u001b[39m\u001b[38;5;124m'\u001b[39m\u001b[38;5;124m2022-12-01\u001b[39m\u001b[38;5;124m'\u001b[39m, date_end\u001b[38;5;241m=\u001b[39m\u001b[38;5;124m'\u001b[39m\u001b[38;5;124m2023-01-01\u001b[39m\u001b[38;5;124m'\u001b[39m)\n\u001b[0;32m----> 2\u001b[0m filter_geo \u001b[38;5;241m=\u001b[39m \u001b[43mcreate_bbox_filter\u001b[49m\u001b[43m(\u001b[49m\u001b[43mparquet_ds\u001b[49m\u001b[43m,\u001b[49m\u001b[43m \u001b[49m\u001b[43mlat_min\u001b[49m\u001b[38;5;241;43m=\u001b[39;49m\u001b[38;5;241;43m-\u001b[39;49m\u001b[38;5;241;43m40\u001b[39;49m\u001b[43m,\u001b[49m\u001b[43m \u001b[49m\u001b[43mlat_max\u001b[49m\u001b[38;5;241;43m=\u001b[39;49m\u001b[38;5;241;43m-\u001b[39;49m\u001b[38;5;241;43m20\u001b[39;49m\u001b[43m,\u001b[49m\u001b[43m \u001b[49m\u001b[43mlon_min\u001b[49m\u001b[38;5;241;43m=\u001b[39;49m\u001b[38;5;241;43m140\u001b[39;49m\u001b[43m,\u001b[49m\u001b[43m \u001b[49m\u001b[43mlon_max\u001b[49m\u001b[38;5;241;43m=\u001b[39;49m\u001b[38;5;241;43m160\u001b[39;49m\u001b[43m)\u001b[49m\n\u001b[1;32m      5\u001b[0m \u001b[38;5;28mfilter\u001b[39m \u001b[38;5;241m=\u001b[39m filter_geo \u001b[38;5;241m&\u001b[39m filter_time\n",
      "File \u001b[0;32m~/github_repo/architecturereview/cloud-optimised/cloud-optimised-team/parquet/notebooks/parquet_queries.py:145\u001b[0m, in \u001b[0;36mcreate_bbox_filter\u001b[0;34m(parquet_ds, **kwargs)\u001b[0m\n\u001b[1;32m    142\u001b[0m intersecting_polygons \u001b[38;5;241m=\u001b[39m [polygon \u001b[38;5;28;01mfor\u001b[39;00m polygon, result \u001b[38;5;129;01min\u001b[39;00m \u001b[38;5;28mzip\u001b[39m(polygon_array_partitions, results) \u001b[38;5;28;01mif\u001b[39;00m result]\n\u001b[1;32m    144\u001b[0m \u001b[38;5;28;01mif\u001b[39;00m intersecting_polygons \u001b[38;5;241m==\u001b[39m []:\n\u001b[0;32m--> 145\u001b[0m     \u001b[38;5;28;01mraise\u001b[39;00m \u001b[38;5;167;01mValueError\u001b[39;00m(\u001b[38;5;124m\"\u001b[39m\u001b[38;5;124mNo data for given bounding box. Amend lat/lon values \u001b[39m\u001b[38;5;124m\"\u001b[39m)\n\u001b[1;32m    147\u001b[0m \u001b[38;5;66;03m# Convert intersecting polygons to WKB hexadecimal strings\u001b[39;00m\n\u001b[1;32m    148\u001b[0m wkb_list \u001b[38;5;241m=\u001b[39m [polygon\u001b[38;5;241m.\u001b[39mwkb_hex \u001b[38;5;28;01mfor\u001b[39;00m polygon \u001b[38;5;129;01min\u001b[39;00m intersecting_polygons]\n",
      "\u001b[0;31mValueError\u001b[0m: No data for given bounding box. Amend lat/lon values "
     ]
    }
   ],
   "source": [
    "filter_time = create_time_filter(parquet_ds, date_start='2022-12-01', date_end='2023-01-01')\n",
    "filter_geo = create_bbox_filter(parquet_ds, lat_min=-40, lat_max=-20, lon_min=140, lon_max=160)\n",
    "\n",
    "\n",
    "filter = filter_geo & filter_time"
   ]
  },
  {
   "cell_type": "code",
   "execution_count": null,
   "metadata": {},
   "outputs": [],
   "source": [
    "%%time\n",
    "# using pandas instead of pyarrow so that filters can directly be applied to the data, and not just the partition\n",
    "df = pd.read_parquet(dname, engine='pyarrow',filters=filter)\n",
    "df.info()"
   ]
  },
  {
   "cell_type": "markdown",
   "metadata": {},
   "source": [
    "## Create a TIME and scalar/number filter"
   ]
  },
  {
   "cell_type": "code",
   "execution_count": null,
   "metadata": {},
   "outputs": [],
   "source": [
    "filter_time = create_time_filter(parquet_ds, date_start='2020-07-12', date_end='2023-02-05')\n",
    "\n",
    "expr_1 = pc.field('site_name') == pa.scalar(\"Cottesloe\")\n",
    "filter = expr_1 & filter_time"
   ]
  },
  {
   "cell_type": "code",
   "execution_count": null,
   "metadata": {},
   "outputs": [],
   "source": [
    "%%time\n",
    "# using pandas instead of pyarrow so that filters can directly be applied to the data, and not just the partition\n",
    "df = pd.read_parquet(dname, engine='pyarrow',filters=filter)\n",
    "df.info()"
   ]
  },
  {
   "cell_type": "code",
   "execution_count": null,
   "metadata": {},
   "outputs": [],
   "source": [
    "df[df['WAVE_quality_control'] == 2].sort_values('TIME').plot(x='TIME', \n",
    "                                                             y='WHTH', \n",
    "                                                             kind='line', \n",
    "                                                             ylabel=metadata['WHTH']['standard_name'])"
   ]
  },
  {
   "cell_type": "code",
   "execution_count": null,
   "metadata": {},
   "outputs": [],
   "source": []
  }
 ],
 "metadata": {
  "kernelspec": {
   "display_name": "Python 3 (ipykernel)",
   "language": "python",
   "name": "python3"
  },
  "language_info": {
   "codemirror_mode": {
    "name": "ipython",
    "version": 3
   },
   "file_extension": ".py",
   "mimetype": "text/x-python",
   "name": "python",
   "nbconvert_exporter": "python",
   "pygments_lexer": "ipython3",
   "version": "3.10.14"
  }
 },
 "nbformat": 4,
 "nbformat_minor": 4
}
