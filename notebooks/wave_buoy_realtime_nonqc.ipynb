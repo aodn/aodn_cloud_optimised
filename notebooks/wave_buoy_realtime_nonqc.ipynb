{
 "cells": [
  {
   "cell_type": "markdown",
   "metadata": {},
   "source": [
    "## Access Wave Buoy Realtime NonQc data in Parquet\n",
    "\n",
    "A jupyter notebook to show how to access and plot ARDC Wave data available as a [Parquet](https://parquet.apache.org) dataset on S3"
   ]
  },
  {
   "cell_type": "code",
   "execution_count": 1,
   "metadata": {},
   "outputs": [],
   "source": [
    "dataset_name = \"wave_buoy_realtime_nonqc\""
   ]
  },
  {
   "cell_type": "markdown",
   "metadata": {},
   "source": [
    "## Install/Update packages and Load common functions"
   ]
  },
  {
   "cell_type": "code",
   "execution_count": null,
   "metadata": {},
   "outputs": [],
   "source": [
    "# only run once, then restart session and comment the next 3 lines\n",
    "!pip install s3fs -U\n",
    "!pip install pyarrow==16.0.0 -U\n",
    "!pip install zarr xarray[complete]\n",
    "!pip install pandas==2.2.2 -U"
   ]
  },
  {
   "cell_type": "code",
   "execution_count": 2,
   "metadata": {},
   "outputs": [],
   "source": [
    "import requests\n",
    "import os\n",
    "if not os.path.exists('parquet_queries.py'):\n",
    "  print('Downloading parquet_queries.py')\n",
    "  url = 'https://raw.githubusercontent.com/aodn/aodn_cloud_optimised/main/notebooks/parquet_queries.py'\n",
    "  response = requests.get(url)\n",
    "  with open('parquet_queries.py', 'w') as f:\n",
    "      f.write(response.text)"
   ]
  },
  {
   "cell_type": "code",
   "execution_count": 3,
   "metadata": {},
   "outputs": [
    {
     "name": "stderr",
     "output_type": "stream",
     "text": [
      "/home/lbesnard/miniforge3/envs/AodnCloudOptimised/lib/python3.12/site-packages/fuzzywuzzy/fuzz.py:11: UserWarning: Using slow pure-python SequenceMatcher. Install python-Levenshtein to remove this warning\n",
      "  warnings.warn('Using slow pure-python SequenceMatcher. Install python-Levenshtein to remove this warning')\n"
     ]
    }
   ],
   "source": [
    "from parquet_queries import create_time_filter, create_bbox_filter, query_unique_value, plot_spatial_extent, get_spatial_extent, get_temporal_extent, get_schema_metadata\n",
    "import pyarrow.parquet as pq\n",
    "import pyarrow.dataset as pds\n",
    "import pyarrow as pa\n",
    "import os\n",
    "import pandas as pd\n",
    "import pyarrow.compute as pc"
   ]
  },
  {
   "cell_type": "markdown",
   "metadata": {},
   "source": [
    "## Location of the parquet dataset"
   ]
  },
  {
   "cell_type": "code",
   "execution_count": 4,
   "metadata": {},
   "outputs": [],
   "source": [
    "BUCKET_OPTIMISED_DEFAULT=\"imos-data-lab-optimised\"\n",
    "dname = f\"s3://{BUCKET_OPTIMISED_DEFAULT}/cloud_optimised/cluster_testing/{dataset_name}.parquet/\"\n",
    "parquet_ds = pq.ParquetDataset(dname,partitioning='hive')"
   ]
  },
  {
   "cell_type": "markdown",
   "metadata": {},
   "source": [
    "# Understanding the Dataset"
   ]
  },
  {
   "cell_type": "markdown",
   "metadata": {},
   "source": [
    "## Get partition keys\n",
    "Partitioning in Parquet involves organising data files based on the values of one or more columns, known as partition keys. When data is written to Parquet files with partitioning enabled, the files are physically stored in a directory structure that reflects the partition keys. This directory structure makes it easier to retrieve and process specific subsets of data based on the partition keys."
   ]
  },
  {
   "cell_type": "code",
   "execution_count": 5,
   "metadata": {},
   "outputs": [
    {
     "name": "stdout",
     "output_type": "stream",
     "text": [
      "site_name: string\n",
      "timestamp: int32\n",
      "polygon: string\n"
     ]
    }
   ],
   "source": [
    "dataset = pds.dataset(dname, format=\"parquet\", partitioning=\"hive\")\n",
    "\n",
    "partition_keys = dataset.partitioning.schema\n",
    "print(partition_keys)"
   ]
  },
  {
   "cell_type": "markdown",
   "metadata": {},
   "source": [
    "## List unique partition values"
   ]
  },
  {
   "cell_type": "code",
   "execution_count": 6,
   "metadata": {},
   "outputs": [
    {
     "name": "stdout",
     "output_type": "stream",
     "text": [
      "['Cottesloe', 'Rottnest%20Island', 'Sandringham', 'Central', 'Indented%20Head', 'Cape%20Sorell', 'Mt%20Eliza', 'Wilsons%20Prom', 'Lakes%20Entrance', 'Inverloch%20Inshore', 'Esperance', 'Cape%20Bridgewater', 'Dutton%20Way', 'Cape%20du%20Couedic', 'Werribee', 'Albany', 'Inverloch', 'Apollo%20Bay', 'Cape%20Naturaliste', 'Port%20Fairy', 'Jurien', 'Rosebud', 'Mandurah']\n",
      "CPU times: user 11.5 ms, sys: 0 ns, total: 11.5 ms\n",
      "Wall time: 11 ms\n"
     ]
    }
   ],
   "source": [
    "%%time\n",
    "unique_partition_value = query_unique_value(parquet_ds, 'site_name')\n",
    "print(list(unique_partition_value))"
   ]
  },
  {
   "cell_type": "markdown",
   "metadata": {},
   "source": [
    "## Visualise Spatial Extent of the dataset\n",
    "In this section, we're plotting the polygons where data exists. This helps then with creating a bounding box where there is data"
   ]
  },
  {
   "cell_type": "code",
   "execution_count": 7,
   "metadata": {},
   "outputs": [
    {
     "data": {
      "image/png": "[encoded data removed]",
      "text/plain": [
       "<Figure size 640x480 with 1 Axes>"
      ]
     },
     "metadata": {},
     "output_type": "display_data"
    }
   ],
   "source": [
    "plot_spatial_extent(parquet_ds)"
   ]
  },
  {
   "cell_type": "markdown",
   "metadata": {},
   "source": [
    "## Get Temporal Extent of the dataset"
   ]
  },
  {
   "cell_type": "markdown",
   "metadata": {},
   "source": [
    "Similary to the spatial extent, we're retrieving the minimum and maximum timestamp partition values of the dataset. This is not necessarely accurately representative of the TIME values, as the timestamp partition can be yearly/monthly... but is here to give an idea"
   ]
  },
  {
   "cell_type": "code",
   "execution_count": 8,
   "metadata": {},
   "outputs": [
    {
     "data": {
      "text/plain": [
       "(datetime.datetime(2022, 9, 1, 10, 0), datetime.datetime(2024, 7, 1, 10, 0))"
      ]
     },
     "execution_count": 8,
     "metadata": {},
     "output_type": "execute_result"
    }
   ],
   "source": [
    "get_temporal_extent(parquet_ds)"
   ]
  },
  {
   "cell_type": "markdown",
   "metadata": {},
   "source": [
    "## Read Metadata\n",
    "\n",
    "For all parquet dataset, we create a sidecar file in the root of the dataset named **_common_matadata**. This contains the variable attributes."
   ]
  },
  {
   "cell_type": "code",
   "execution_count": 9,
   "metadata": {},
   "outputs": [
    {
     "data": {
      "text/plain": [
       "{'timeSeries': {'type': 'int32',\n",
       "  'long_name': 'unique identifier for each feature instance',\n",
       "  'cf_role': 'timeseries_id'},\n",
       " 'TIME': {'type': 'timestamp[ns]',\n",
       "  'standard_name': 'time',\n",
       "  'long_name': 'time',\n",
       "  'axis': 'T',\n",
       "  'valid_min': 0.0,\n",
       "  'valid_max': 90000.0},\n",
       " 'LATITUDE': {'type': 'double',\n",
       "  'standard_name': 'latitude',\n",
       "  'long_name': 'latitude',\n",
       "  'units': 'degrees_north',\n",
       "  'axis': 'Y',\n",
       "  'valid_min': -90.0,\n",
       "  'valid_max': 90.0,\n",
       "  'reference_datum': 'WGS84 coordinate reference system; EPSG:4326'},\n",
       " 'LONGITUDE': {'type': 'double',\n",
       "  'standard_name': 'longitude',\n",
       "  'long_name': 'longitude',\n",
       "  'units': 'degrees_east',\n",
       "  'axis': 'X',\n",
       "  'valid_min': -180.0,\n",
       "  'valid_max': 180.0,\n",
       "  'reference_datum': 'WGS84 coordinate reference system; EPSG:4326'},\n",
       " 'WHTH': {'type': 'double',\n",
       "  'standard_name': 'sea_surface_wave_significant_height',\n",
       "  'long_name': 'sea surface wave significant height from time domain analysis',\n",
       "  'units': 'm',\n",
       "  'valid_min': 0.0,\n",
       "  'valid_max': 100.0,\n",
       "  'method': 'Time domain analysis',\n",
       "  'ancillary_variable': 'WAVE_quality_control'},\n",
       " 'WPMH': {'type': 'double',\n",
       "  'standard_name': 'sea_surface_wave_mean_period',\n",
       "  'long_name': 'sea surface wave mean period',\n",
       "  'units': 's',\n",
       "  'valid_min': 0.0,\n",
       "  'valid_max': 50.0,\n",
       "  'method': 'Time domain analysis',\n",
       "  'ancillary_variable': 'WAVE_quality_control'},\n",
       " 'WMXH': {'type': 'double',\n",
       "  'standard_name': 'sea_surface_wave_maximum_height',\n",
       "  'long_name': 'sea surface wave maximum height',\n",
       "  'units': 'm',\n",
       "  'valid_min': 0.0,\n",
       "  'valid_max': 100.0,\n",
       "  'method': 'Time domain analysis',\n",
       "  'ancillary_variable': 'WAVE_quality_control'},\n",
       " 'WPPE': {'type': 'double',\n",
       "  'standard_name': 'sea_surface_wave_period_at_variance_spectral_density_maximum',\n",
       "  'long_name': 'spectral peak wave period',\n",
       "  'units': 's',\n",
       "  'valid_min': 0.0,\n",
       "  'valid_max': 50.0,\n",
       "  'method': 'Spectral analysis method',\n",
       "  'ancillary_variable': 'WAVE_quality_control'},\n",
       " 'WPDI': {'type': 'double',\n",
       "  'standard_name': 'sea_surface_wave_from_direction_at_variance_spectral_density_maximum',\n",
       "  'long_name': 'direction of the dominant wave',\n",
       "  'units': 'degree',\n",
       "  'reference_datum': 'true north',\n",
       "  'valid_min': 0.0,\n",
       "  'valid_max': 360.0,\n",
       "  'method': 'Spectral analysis method',\n",
       "  'ancillary_variable': 'WAVE_quality_control'},\n",
       " 'WPDS': {'type': 'double',\n",
       "  'standard_name': 'sea_surface_wave_directional_spread_at_variance_spectral_density_maximum',\n",
       "  'long_name': 'directional spread of the dominant wave',\n",
       "  'units': 'degree',\n",
       "  'reference_datum': 'true north',\n",
       "  'valid_min': 0.0,\n",
       "  'valid_max': 360.0,\n",
       "  'method': 'Spectral analysis method',\n",
       "  'ancillary_variable': 'WAVE_quality_control'},\n",
       " 'WAVE_quality_control': {'type': 'float',\n",
       "  'long_name': 'primary Quality Control flag for wave variables',\n",
       "  'valid_min': 1,\n",
       "  'valid_max': 9,\n",
       "  'flag_values': [1, 2, 3, 4, 9],\n",
       "  'flag_meanings': 'good not_evaluated questionable bad missing',\n",
       "  'quality_control_convention': 'Ocean Data Standards, UNESCO 2013 - IOC Manuals and Guides, 54, Volume 3 Version 1'},\n",
       " 'WSSH': {'type': 'double',\n",
       "  'ancillary_variable': 'WAVE_quality_control',\n",
       "  'long_name': 'sea surface wave spectral significant height',\n",
       "  'method': 'Spectral analysis method',\n",
       "  'standard_name': 'sea_surface_wave_significant_height',\n",
       "  'units': 'm',\n",
       "  'valid_max': 100.0,\n",
       "  'valid_min': 0.0},\n",
       " 'WPFM': {'type': 'double',\n",
       "  'ancillary_variable': 'WAVE_quality_control',\n",
       "  'long_name': 'sea surface wave spectral mean period',\n",
       "  'method': 'Spectral analysis method',\n",
       "  'standard_name': 'sea_surface_wave_mean_period_from_variance_spectral_density_first_frequency_moment',\n",
       "  'units': 's',\n",
       "  'valid_max': 50.0,\n",
       "  'valid_min': 0.0},\n",
       " 'WMDS': {'type': 'double',\n",
       "  'ancillary_variable': 'WAVE_quality_control',\n",
       "  'long_name': 'spectral sea surface wave mean directional spread',\n",
       "  'method': 'Spectral analysis method',\n",
       "  'positive': 'clockwise',\n",
       "  'standard_name': 'sea_surface_wave_directional_spread',\n",
       "  'units': 'Degrees',\n",
       "  'valid_max': 360.0,\n",
       "  'valid_min': 0.0},\n",
       " 'SSWMD': {'type': 'double',\n",
       "  'ancillary_variable': 'WAVE_quality_control',\n",
       "  'comment': 'Direction (related to the magnetic north) from which the mean period waves are coming from',\n",
       "  'compass_correction_applied': 13,\n",
       "  'long_name': 'spectral sea surface wave mean direction',\n",
       "  'magnetic_declination': 12.86,\n",
       "  'method': 'Spectral analysis method',\n",
       "  'positive': 'clockwise',\n",
       "  'reference_datum': 'true north',\n",
       "  'standard_name': 'sea_surface_wave_from_direction',\n",
       "  'units': 'Degrees',\n",
       "  'valid_max': 360.0,\n",
       "  'valid_min': 0.0},\n",
       " 'water_depth': {'type': 'int64'},\n",
       " 'wmo_id': {'type': 'string'},\n",
       " 'timestamp': {'type': 'int64'},\n",
       " 'polygon': {'type': 'string'},\n",
       " 'site_name': {'type': 'string'},\n",
       " 'filename': {'type': 'string'},\n",
       " 'dataset_metadata': {'metadata_uuid': '2807f3aa-4db0-4924-b64b-354ae8c10b58',\n",
       "  'title': 'ARDC'}}"
      ]
     },
     "execution_count": 9,
     "metadata": {},
     "output_type": "execute_result"
    }
   ],
   "source": [
    "# parquet_meta = pa.parquet.read_schema(os.path.join(dname + '_common_metadata'))  # parquet metadata\n",
    "metadata = get_schema_metadata(dname)  # schema metadata\n",
    "metadata"
   ]
  },
  {
   "cell_type": "markdown",
   "metadata": {},
   "source": [
    "# Data Query and Plot"
   ]
  },
  {
   "cell_type": "markdown",
   "metadata": {},
   "source": [
    "## Create a TIME and BoundingBox filter"
   ]
  },
  {
   "cell_type": "code",
   "execution_count": 10,
   "metadata": {},
   "outputs": [],
   "source": [
    "filter_time = create_time_filter(parquet_ds, date_start='2022-12-01', date_end='2023-01-01')\n",
    "filter_geo = create_bbox_filter(parquet_ds, lat_min=-40, lat_max=-20, lon_min=140, lon_max=160)\n",
    "\n",
    "\n",
    "filter = filter_geo & filter_time"
   ]
  },
  {
   "cell_type": "code",
   "execution_count": 11,
   "metadata": {},
   "outputs": [
    {
     "name": "stdout",
     "output_type": "stream",
     "text": [
      "<class 'pandas.core.frame.DataFrame'>\n",
      "RangeIndex: 14835 entries, 0 to 14834\n",
      "Data columns (total 21 columns):\n",
      " #   Column                Non-Null Count  Dtype         \n",
      "---  ------                --------------  -----         \n",
      " 0   timeSeries            14835 non-null  int32         \n",
      " 1   TIME                  14835 non-null  datetime64[ns]\n",
      " 2   LATITUDE              14835 non-null  float64       \n",
      " 3   LONGITUDE             14835 non-null  float64       \n",
      " 4   WHTH                  0 non-null      float64       \n",
      " 5   WPMH                  0 non-null      float64       \n",
      " 6   WMXH                  0 non-null      float64       \n",
      " 7   WPPE                  14835 non-null  float64       \n",
      " 8   WPDI                  14835 non-null  float64       \n",
      " 9   WPDS                  14835 non-null  float64       \n",
      " 10  WAVE_quality_control  14835 non-null  float32       \n",
      " 11  water_depth           14835 non-null  int64         \n",
      " 12  wmo_id                0 non-null      object        \n",
      " 13  filename              14835 non-null  object        \n",
      " 14  WSSH                  14835 non-null  float64       \n",
      " 15  WPFM                  14835 non-null  float64       \n",
      " 16  WMDS                  14835 non-null  float64       \n",
      " 17  SSWMD                 14835 non-null  float64       \n",
      " 18  site_name             14835 non-null  category      \n",
      " 19  timestamp             14835 non-null  category      \n",
      " 20  polygon               14835 non-null  category      \n",
      "dtypes: category(3), datetime64[ns](1), float32(1), float64(12), int32(1), int64(1), object(2)\n",
      "memory usage: 2.0+ MB\n",
      "CPU times: user 299 ms, sys: 31.7 ms, total: 331 ms\n",
      "Wall time: 2.08 s\n"
     ]
    }
   ],
   "source": [
    "%%time\n",
    "# using pandas instead of pyarrow so that filters can directly be applied to the data, and not just the partition\n",
    "df = pd.read_parquet(dname, engine='pyarrow',filters=filter)\n",
    "df.info()"
   ]
  },
  {
   "cell_type": "markdown",
   "metadata": {},
   "source": [
    "## Create a TIME and scalar/number filter"
   ]
  },
  {
   "cell_type": "code",
   "execution_count": 12,
   "metadata": {},
   "outputs": [],
   "source": [
    "filter_time = create_time_filter(parquet_ds, date_start='2020-07-12', date_end='2023-02-05')\n",
    "\n",
    "expr_1 = pc.field('site_name') == pa.scalar(\"Cottesloe\")\n",
    "filter = expr_1 & filter_time"
   ]
  },
  {
   "cell_type": "code",
   "execution_count": 13,
   "metadata": {},
   "outputs": [
    {
     "name": "stdout",
     "output_type": "stream",
     "text": [
      "<class 'pandas.core.frame.DataFrame'>\n",
      "RangeIndex: 211 entries, 0 to 210\n",
      "Data columns (total 21 columns):\n",
      " #   Column                Non-Null Count  Dtype         \n",
      "---  ------                --------------  -----         \n",
      " 0   timeSeries            211 non-null    int32         \n",
      " 1   TIME                  211 non-null    datetime64[ns]\n",
      " 2   LATITUDE              211 non-null    float64       \n",
      " 3   LONGITUDE             211 non-null    float64       \n",
      " 4   WHTH                  211 non-null    float64       \n",
      " 5   WPMH                  211 non-null    float64       \n",
      " 6   WMXH                  211 non-null    float64       \n",
      " 7   WPPE                  211 non-null    float64       \n",
      " 8   WPDI                  211 non-null    float64       \n",
      " 9   WPDS                  211 non-null    float64       \n",
      " 10  WAVE_quality_control  211 non-null    float32       \n",
      " 11  water_depth           211 non-null    int64         \n",
      " 12  wmo_id                211 non-null    object        \n",
      " 13  filename              211 non-null    object        \n",
      " 14  WSSH                  0 non-null      float64       \n",
      " 15  WPFM                  0 non-null      float64       \n",
      " 16  WMDS                  0 non-null      float64       \n",
      " 17  SSWMD                 0 non-null      float64       \n",
      " 18  site_name             211 non-null    category      \n",
      " 19  timestamp             211 non-null    category      \n",
      " 20  polygon               211 non-null    category      \n",
      "dtypes: category(3), datetime64[ns](1), float32(1), float64(12), int32(1), int64(1), object(2)\n",
      "memory usage: 30.4+ KB\n",
      "CPU times: user 225 ms, sys: 43.5 ms, total: 269 ms\n",
      "Wall time: 1.62 s\n"
     ]
    }
   ],
   "source": [
    "%%time\n",
    "# using pandas instead of pyarrow so that filters can directly be applied to the data, and not just the partition\n",
    "df = pd.read_parquet(dname, engine='pyarrow',filters=filter)\n",
    "df.info()"
   ]
  },
  {
   "cell_type": "code",
   "execution_count": 14,
   "metadata": {},
   "outputs": [
    {
     "data": {
      "text/plain": [
       "<Axes: xlabel='TIME', ylabel='sea_surface_wave_significant_height'>"
      ]
     },
     "execution_count": 14,
     "metadata": {},
     "output_type": "execute_result"
    },
    {
     "data": {
      "image/png": "[encoded data removed]",
      "text/plain": [
       "<Figure size 640x480 with 1 Axes>"
      ]
     },
     "metadata": {},
     "output_type": "display_data"
    }
   ],
   "source": [
    "df[df['WAVE_quality_control'] == 2].sort_values('TIME').plot(x='TIME', \n",
    "                                                             y='WHTH', \n",
    "                                                             kind='line', \n",
    "                                                             ylabel=metadata['WHTH']['standard_name'])"
   ]
  },
  {
   "cell_type": "code",
   "execution_count": null,
   "metadata": {},
   "outputs": [],
   "source": []
  }
 ],
 "metadata": {
  "kernelspec": {
   "display_name": "Python 3 (ipykernel)",
   "language": "python",
   "name": "python3"
  },
  "language_info": {
   "codemirror_mode": {
    "name": "ipython",
    "version": 3
   },
   "file_extension": ".py",
   "mimetype": "text/x-python",
   "name": "python",
   "nbconvert_exporter": "python",
   "pygments_lexer": "ipython3",
   "version": "3.12.4"
  }
 },
 "nbformat": 4,
 "nbformat_minor": 4
}
