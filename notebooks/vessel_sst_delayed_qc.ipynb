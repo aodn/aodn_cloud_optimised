{
 "cells": [
  {
   "cell_type": "markdown",
   "metadata": {},
   "source": [
    "## Access SOOP SST data in Parquet\n",
    "\n",
    "A jupyter notebook to show how to access and plot SOOP SST data available as a [Parquet](https://parquet.apache.org) dataset on S3"
   ]
  },
  {
   "cell_type": "code",
   "execution_count": 1,
   "metadata": {},
   "outputs": [],
   "source": [
    "dataset_name = \"vessel_sst_delayed_qc\""
   ]
  },
  {
   "cell_type": "markdown",
   "metadata": {},
   "source": [
    "## Install/Update packages and Load common functions"
   ]
  },
  {
   "cell_type": "code",
   "execution_count": null,
   "metadata": {},
   "outputs": [],
   "source": [
    "# only run once, then restart session if needed\n",
    "!pip install uv\n",
    "\n",
    "import os\n",
    "import sys\n",
    "\n",
    "def is_colab():\n",
    "    try:\n",
    "        import google.colab\n",
    "        return True\n",
    "    except ImportError:\n",
    "        return False\n",
    "\n",
    "if is_colab():\n",
    "    os.system('uv pip install --system -r https://raw.githubusercontent.com/aodn/aodn_cloud_optimised/main/notebooks/requirements.txt')\n",
    "else:\n",
    "    os.system('uv venv')\n",
    "    os.system('uv pip install -r https://raw.githubusercontent.com/aodn/aodn_cloud_optimised/main/notebooks/requirements.txt')"
   ]
  },
  {
   "cell_type": "code",
   "execution_count": null,
   "metadata": {},
   "outputs": [],
   "source": [
    "import requests\n",
    "import os\n",
    "if not os.path.exists('parquet_queries.py'):\n",
    "  print('Downloading parquet_queries.py')\n",
    "  url = 'https://raw.githubusercontent.com/aodn/aodn_cloud_optimised/main/aodn_cloud_optimised/lib/ParquetDataQuery.py'\n",
    "  response = requests.get(url)\n",
    "  with open('parquet_queries.py', 'w') as f:\n",
    "      f.write(response.text)"
   ]
  },
  {
   "cell_type": "code",
   "execution_count": 2,
   "metadata": {},
   "outputs": [
    {
     "name": "stderr",
     "output_type": "stream",
     "text": [
      "/home/lbesnard/miniforge3/envs/AodnCloudOptimised/lib/python3.12/site-packages/fuzzywuzzy/fuzz.py:11: UserWarning: Using slow pure-python SequenceMatcher. Install python-Levenshtein to remove this warning\n",
      "  warnings.warn('Using slow pure-python SequenceMatcher. Install python-Levenshtein to remove this warning')\n"
     ]
    }
   ],
   "source": [
    "from parquet_queries import create_time_filter, create_bbox_filter, query_unique_value, plot_spatial_extent, get_spatial_extent, get_temporal_extent, get_schema_metadata\n",
    "import pyarrow.parquet as pq\n",
    "import pyarrow.dataset as pds\n",
    "import pyarrow as pa\n",
    "import os\n",
    "import pandas as pd\n",
    "import pyarrow.compute as pc\n",
    "import matplotlib.pyplot as plt\n",
    "from matplotlib.collections import LineCollection\n",
    "import numpy as np"
   ]
  },
  {
   "cell_type": "markdown",
   "metadata": {},
   "source": [
    "## Location of the parquet dataset"
   ]
  },
  {
   "cell_type": "code",
   "execution_count": 3,
   "metadata": {},
   "outputs": [],
   "source": [
    "BUCKET_OPTIMISED_DEFAULT=\"imos-data-lab-optimised\"\n",
    "dname = f\"s3://{BUCKET_OPTIMISED_DEFAULT}/cloud_optimised/cluster_testing/{dataset_name}.parquet/\"\n",
    "parquet_ds = pq.ParquetDataset(dname,partitioning='hive')"
   ]
  },
  {
   "cell_type": "markdown",
   "metadata": {},
   "source": [
    "# Understanding the Dataset"
   ]
  },
  {
   "cell_type": "markdown",
   "metadata": {},
   "source": [
    "## Get partition keys\n",
    "Partitioning in Parquet involves organising data files based on the values of one or more columns, known as partition keys. When data is written to Parquet files with partitioning enabled, the files are physically stored in a directory structure that reflects the partition keys. This directory structure makes it easier to retrieve and process specific subsets of data based on the partition keys."
   ]
  },
  {
   "cell_type": "code",
   "execution_count": 4,
   "metadata": {},
   "outputs": [
    {
     "name": "stdout",
     "output_type": "stream",
     "text": [
      "timestamp: int32\n",
      "polygon: string\n",
      "platform_code: string\n"
     ]
    }
   ],
   "source": [
    "dataset = pds.dataset(dname, format=\"parquet\", partitioning=\"hive\")\n",
    "\n",
    "partition_keys = dataset.partitioning.schema\n",
    "print(partition_keys)"
   ]
  },
  {
   "cell_type": "markdown",
   "metadata": {},
   "source": [
    "## List unique partition values"
   ]
  },
  {
   "cell_type": "code",
   "execution_count": 5,
   "metadata": {},
   "outputs": [
    {
     "name": "stdout",
     "output_type": "stream",
     "text": [
      "['VHW5167', '9V2768']\n",
      "CPU times: user 43 ms, sys: 0 ns, total: 43 ms\n",
      "Wall time: 42.9 ms\n"
     ]
    }
   ],
   "source": [
    "%%time\n",
    "unique_partition_value = query_unique_value(parquet_ds, 'platform_code')\n",
    "print(list(unique_partition_value)[0:2])  # showing a subset only"
   ]
  },
  {
   "cell_type": "markdown",
   "metadata": {},
   "source": [
    "## Visualise Spatial Extent of the dataset\n",
    "In this section, we're plotting the polygons where data exists. This helps then with creating a bounding box where there is data"
   ]
  },
  {
   "cell_type": "code",
   "execution_count": 6,
   "metadata": {},
   "outputs": [
    {
     "data": {
      "image/png": "[encoded data removed]",
      "text/plain": [
       "<Figure size 640x480 with 1 Axes>"
      ]
     },
     "metadata": {},
     "output_type": "display_data"
    }
   ],
   "source": [
    "plot_spatial_extent(parquet_ds)"
   ]
  },
  {
   "cell_type": "markdown",
   "metadata": {},
   "source": [
    "## Get Temporal Extent of the dataset"
   ]
  },
  {
   "cell_type": "markdown",
   "metadata": {},
   "source": [
    "Similary to the spatial extent, we're retrieving the minimum and maximum timestamp partition values of the dataset. This is not necessarely accurately representative of the TIME values, as the timestamp partition can be yearly/monthly... but is here to give an idea"
   ]
  },
  {
   "cell_type": "code",
   "execution_count": 7,
   "metadata": {},
   "outputs": [
    {
     "data": {
      "text/plain": [
       "(datetime.datetime(2008, 4, 1, 11, 0), datetime.datetime(2020, 12, 1, 11, 0))"
      ]
     },
     "execution_count": 7,
     "metadata": {},
     "output_type": "execute_result"
    }
   ],
   "source": [
    "get_temporal_extent(parquet_ds)"
   ]
  },
  {
   "cell_type": "markdown",
   "metadata": {},
   "source": [
    "## Read Metadata\n",
    "\n",
    "For all parquet dataset, we create a sidecar file in the root of the dataset named **_common_matadata**. This contains the variable attributes."
   ]
  },
  {
   "cell_type": "code",
   "execution_count": 8,
   "metadata": {},
   "outputs": [
    {
     "data": {
      "text/plain": [
       "{'TIME': {'type': 'timestamp[ns]',\n",
       "  'standard_name': 'time',\n",
       "  'long_name': 'time',\n",
       "  'axis': 'T',\n",
       "  'valid_min': 0,\n",
       "  'valid_max': 90000.0,\n",
       "  'comment': 'Relative julian days with decimal part as parts of the day',\n",
       "  'ancillary_variables': 'TIME_quality_control'},\n",
       " 'LATITUDE': {'type': 'double',\n",
       "  'long_name': 'latitude',\n",
       "  'units': 'degrees_north',\n",
       "  'instrument': 'unknown',\n",
       "  'observation_type': 'measured',\n",
       "  'standard_name': 'latitude',\n",
       "  'axis': 'Y',\n",
       "  'valid_min': -90,\n",
       "  'valid_max': 90,\n",
       "  'reference_datum': 'geographical coordinates, WGS84',\n",
       "  'ancillary_variables': 'LATITUDE_quality_control'},\n",
       " 'LONGITUDE': {'type': 'double',\n",
       "  'long_name': 'longitude',\n",
       "  'units': 'degrees_east',\n",
       "  'instrument': 'unknown',\n",
       "  'observation_type': 'measured',\n",
       "  'standard_name': 'longitude',\n",
       "  'axis': 'X',\n",
       "  'valid_min': -180,\n",
       "  'valid_max': 180,\n",
       "  'reference_datum': 'geographical coordinates, WGS84',\n",
       "  'ancillary_variables': 'LONGITUDE_quality_control'},\n",
       " 'TEMP': {'type': 'float',\n",
       "  'long_name': 'sea temperature',\n",
       "  'units': 'celsius',\n",
       "  'instrument': 'Seabird SBE 38',\n",
       "  'observation_type': 'measured',\n",
       "  'distance_from_bow': -9999.0,\n",
       "  'centerline_offset': -9999.0,\n",
       "  'sensor_depth': 1.899999976158142,\n",
       "  'standard_name': 'sea_surface_temperature',\n",
       "  'ancillary_variables': 'TEMP_quality_control'},\n",
       " 'TEMP_2': {'type': 'float',\n",
       "  'long_name': 'sea temperature',\n",
       "  'units': 'celsius',\n",
       "  'instrument': 'Seabird SBE38 (s/n 0434)',\n",
       "  'observation_type': 'measured',\n",
       "  'distance_from_bow': 29.0,\n",
       "  'centerline_offset': 4.099999904632568,\n",
       "  'sensor_depth': 0.800000011920929,\n",
       "  'standard_name': 'sea_surface_temperature',\n",
       "  'ancillary_variables': 'TEMP_2_quality_control'},\n",
       " 'TEMP_2_quality_control': {'type': 'string',\n",
       "  'standard_name': 'sea_surface_temperature status_flag',\n",
       "  'long_name': 'quality flags for sea_surface_temperature',\n",
       "  'quality_control_conventions': 'IMOS Reference Table F',\n",
       "  'quality_control_set': 3,\n",
       "  'quality_control_flag_values': 'B, C, D, E, F, G, H, J, K, L, M, Q, S, T, U, V, X, Z',\n",
       "  'quality_control_flag_meanings': 'Value_out_of_bounds Time_not_sequential Failed_T_Tw_Td_test Failed_true_wind_recomputation_test Platform_velocity_unrealistic Value_exceeds_threshold Discontinuity Erroneous_value Suspect_value_(visual) Value_located_over_land Instrument_malfunction Pre-flagged_as_suspect Spike_in_data_(visual) Time_duplicate Suspect_value_(statistical) Step_in_data_(statistical) Spike_in_data_(statistical) Value_passed_all_tests'},\n",
       " 'PSAL': {'type': 'float',\n",
       "  'long_name': 'sea salinity',\n",
       "  'units': '1e-3',\n",
       "  'instrument': 'Seabird SBE 21',\n",
       "  'observation_type': 'calculated',\n",
       "  'distance_from_bow': -9999.0,\n",
       "  'centerline_offset': -9999.0,\n",
       "  'sensor_depth': 1.899999976158142,\n",
       "  'standard_name': 'sea_water_salinity',\n",
       "  'ancillary_variables': 'PSAL_quality_control'},\n",
       " 'history': {'type': 'string', 'long_name': 'file history information'},\n",
       " 'TIME_quality_control': {'type': 'string',\n",
       "  'standard_name': 'time status_flag',\n",
       "  'long_name': 'quality flags for time',\n",
       "  'quality_control_conventions': 'IMOS Reference Table F',\n",
       "  'quality_control_set': 3,\n",
       "  'quality_control_flag_values': 'B, C, D, E, F, G, H, J, K, L, M, Q, S, T, U, V, X, Z',\n",
       "  'quality_control_flag_meanings': 'Value_out_of_bounds Time_not_sequential Failed_T_Tw_Td_test Failed_true_wind_recomputation_test Platform_velocity_unrealistic Value_exceeds_threshold Discontinuity Erroneous_value Suspect_value_(visual) Value_located_over_land Instrument_malfunction Pre-flagged_as_suspect Spike_in_data_(visual) Time_duplicate Suspect_value_(statistical) Step_in_data_(statistical) Spike_in_data_(statistical) Value_passed_all_tests'},\n",
       " 'LATITUDE_quality_control': {'type': 'string',\n",
       "  'standard_name': 'latitude status_flag',\n",
       "  'long_name': 'quality flags for latitude',\n",
       "  'quality_control_conventions': 'IMOS Reference Table F',\n",
       "  'quality_control_set': 3,\n",
       "  'quality_control_flag_values': 'B, C, D, E, F, G, H, J, K, L, M, Q, S, T, U, V, X, Z',\n",
       "  'quality_control_flag_meanings': 'Value_out_of_bounds Time_not_sequential Failed_T_Tw_Td_test Failed_true_wind_recomputation_test Platform_velocity_unrealistic Value_exceeds_threshold Discontinuity Erroneous_value Suspect_value_(visual) Value_located_over_land Instrument_malfunction Pre-flagged_as_suspect Spike_in_data_(visual) Time_duplicate Suspect_value_(statistical) Step_in_data_(statistical) Spike_in_data_(statistical) Value_passed_all_tests'},\n",
       " 'LONGITUDE_quality_control': {'type': 'string',\n",
       "  'standard_name': 'longitude status_flag',\n",
       "  'long_name': 'quality flags for longitude',\n",
       "  'quality_control_conventions': 'IMOS Reference Table F',\n",
       "  'quality_control_set': 3,\n",
       "  'quality_control_flag_values': 'B, C, D, E, F, G, H, J, K, L, M, Q, S, T, U, V, X, Z',\n",
       "  'quality_control_flag_meanings': 'Value_out_of_bounds Time_not_sequential Failed_T_Tw_Td_test Failed_true_wind_recomputation_test Platform_velocity_unrealistic Value_exceeds_threshold Discontinuity Erroneous_value Suspect_value_(visual) Value_located_over_land Instrument_malfunction Pre-flagged_as_suspect Spike_in_data_(visual) Time_duplicate Suspect_value_(statistical) Step_in_data_(statistical) Spike_in_data_(statistical) Value_passed_all_tests'},\n",
       " 'TEMP_quality_control': {'type': 'string',\n",
       "  'standard_name': 'sea_surface_temperature status_flag',\n",
       "  'long_name': 'quality flags for sea_surface_temperature',\n",
       "  'quality_control_conventions': 'IMOS Reference Table F',\n",
       "  'quality_control_set': 3,\n",
       "  'quality_control_flag_values': 'B, C, D, E, F, G, H, J, K, L, M, Q, S, T, U, V, X, Z',\n",
       "  'quality_control_flag_meanings': 'Value_out_of_bounds Time_not_sequential Failed_T_Tw_Td_test Failed_true_wind_recomputation_test Platform_velocity_unrealistic Value_exceeds_threshold Discontinuity Erroneous_value Suspect_value_(visual) Value_located_over_land Instrument_malfunction Pre-flagged_as_suspect Spike_in_data_(visual) Time_duplicate Suspect_value_(statistical) Step_in_data_(statistical) Spike_in_data_(statistical) Value_passed_all_tests'},\n",
       " 'PSAL_quality_control': {'type': 'string',\n",
       "  'standard_name': 'sea_water_salinity status_flag',\n",
       "  'long_name': 'quality flags for sea_water_salinity',\n",
       "  'quality_control_conventions': 'IMOS Reference Table F',\n",
       "  'quality_control_set': 3,\n",
       "  'quality_control_flag_values': 'B, C, D, E, F, G, H, J, K, L, M, Q, S, T, U, V, X, Z',\n",
       "  'quality_control_flag_meanings': 'Value_out_of_bounds Time_not_sequential Failed_T_Tw_Td_test Failed_true_wind_recomputation_test Platform_velocity_unrealistic Value_exceeds_threshold Discontinuity Erroneous_value Suspect_value_(visual) Value_located_over_land Instrument_malfunction Pre-flagged_as_suspect Spike_in_data_(visual) Time_duplicate Suspect_value_(statistical) Step_in_data_(statistical) Spike_in_data_(statistical) Value_passed_all_tests'},\n",
       " 'AIRT_quality_control': {'type': 'string',\n",
       "  'standard_name': 'air_temperature status_flag',\n",
       "  'long_name': 'quality flags for air_temperature',\n",
       "  'quality_control_conventions': 'IMOS Reference Table F',\n",
       "  'quality_control_set': 3,\n",
       "  'quality_control_flag_values': 'B, C, D, E, F, G, H, J, K, L, M, Q, S, T, U, V, X, Z',\n",
       "  'quality_control_flag_meanings': 'Value_out_of_bounds Time_not_sequential Failed_T_Tw_Td_test Failed_true_wind_recomputation_test Platform_velocity_unrealistic Value_exceeds_threshold Discontinuity Erroneous_value Suspect_value_(visual) Value_located_over_land Instrument_malfunction Pre-flagged_as_suspect Spike_in_data_(visual) Time_duplicate Suspect_value_(statistical) Step_in_data_(statistical) Spike_in_data_(statistical) Value_passed_all_tests'},\n",
       " 'WSPD': {'type': 'float',\n",
       "  'long_name': 'earth-relative wind speed',\n",
       "  'units': 'meter second-1',\n",
       "  'instrument': 'Calculated on ship from relative wind and GPS',\n",
       "  'observation_type': 'calculated',\n",
       "  'distance_from_bow': 55.0,\n",
       "  'centerline_offset': 0.0,\n",
       "  'sensor_height': 38.79999923706055,\n",
       "  'standard_name': 'wind_speed',\n",
       "  'ancillary_variables': 'WSPD_quality_control'},\n",
       " 'WSPD_quality_control': {'type': 'string',\n",
       "  'standard_name': 'wind_speed status_flag',\n",
       "  'long_name': 'quality flags for wind_speed',\n",
       "  'quality_control_conventions': 'IMOS Reference Table F',\n",
       "  'quality_control_set': 3,\n",
       "  'quality_control_flag_values': 'B, C, D, E, F, G, H, J, K, L, M, Q, S, T, U, V, X, Z',\n",
       "  'quality_control_flag_meanings': 'Value_out_of_bounds Time_not_sequential Failed_T_Tw_Td_test Failed_true_wind_recomputation_test Platform_velocity_unrealistic Value_exceeds_threshold Discontinuity Erroneous_value Suspect_value_(visual) Value_located_over_land Instrument_malfunction Pre-flagged_as_suspect Spike_in_data_(visual) Time_duplicate Suspect_value_(statistical) Step_in_data_(statistical) Spike_in_data_(statistical) Value_passed_all_tests'},\n",
       " 'WDIR': {'type': 'float',\n",
       "  'long_name': 'earth-relative wind direction',\n",
       "  'units': 'degrees (clockwise from true north)',\n",
       "  'instrument': 'Calculated on ship from relative wind and GPS',\n",
       "  'observation_type': 'calculated',\n",
       "  'distance_from_bow': 55.0,\n",
       "  'centerline_offset': 0.0,\n",
       "  'sensor_height': 38.79999923706055,\n",
       "  'standard_name': 'wind_from_direction',\n",
       "  'ancillary_variables': 'WDIR_quality_control'},\n",
       " 'WDIR_quality_control': {'type': 'string',\n",
       "  'standard_name': 'wind_from_direction status_flag',\n",
       "  'long_name': 'quality flags for wind_from_direction',\n",
       "  'quality_control_conventions': 'IMOS Reference Table F',\n",
       "  'quality_control_set': 3,\n",
       "  'quality_control_flag_values': 'B, C, D, E, F, G, H, J, K, L, M, Q, S, T, U, V, X, Z',\n",
       "  'quality_control_flag_meanings': 'Value_out_of_bounds Time_not_sequential Failed_T_Tw_Td_test Failed_true_wind_recomputation_test Platform_velocity_unrealistic Value_exceeds_threshold Discontinuity Erroneous_value Suspect_value_(visual) Value_located_over_land Instrument_malfunction Pre-flagged_as_suspect Spike_in_data_(visual) Time_duplicate Suspect_value_(statistical) Step_in_data_(statistical) Spike_in_data_(statistical) Value_passed_all_tests'},\n",
       " 'PL_WSPD_quality_control': {'type': 'string',\n",
       "  'standard_name': 'wind_speed status_flag',\n",
       "  'long_name': 'quality flags for wind_speed',\n",
       "  'quality_control_conventions': 'IMOS Reference Table F',\n",
       "  'quality_control_set': 3,\n",
       "  'quality_control_flag_values': 'B, C, D, E, F, G, H, J, K, L, M, Q, S, T, U, V, X, Z',\n",
       "  'quality_control_flag_meanings': 'Value_out_of_bounds Time_not_sequential Failed_T_Tw_Td_test Failed_true_wind_recomputation_test Platform_velocity_unrealistic Value_exceeds_threshold Discontinuity Erroneous_value Suspect_value_(visual) Value_located_over_land Instrument_malfunction Pre-flagged_as_suspect Spike_in_data_(visual) Time_duplicate Suspect_value_(statistical) Step_in_data_(statistical) Spike_in_data_(statistical) Value_passed_all_tests'},\n",
       " 'PL_WDIR': {'type': 'float',\n",
       "  'long_name': 'platform relative wind direction',\n",
       "  'units': 'degrees (clockwise from true north)',\n",
       "  'instrument': 'Vaisala WAV151 (s/n W29135)',\n",
       "  'sensor_height': 21.100000381469727,\n",
       "  'distance_from_bow': 20.5,\n",
       "  'centerline_offset': -9999.0,\n",
       "  'observation_type': 'measured',\n",
       "  'standard_name': 'wind_from_direction',\n",
       "  'ancillary_variables': 'PL_WDIR_quality_control'},\n",
       " 'PL_WDIR_quality_control': {'type': 'string',\n",
       "  'standard_name': 'wind_from_direction status_flag',\n",
       "  'long_name': 'quality flags for wind_from_direction',\n",
       "  'quality_control_conventions': 'IMOS Reference Table F',\n",
       "  'quality_control_set': 3,\n",
       "  'quality_control_flag_values': 'B, C, D, E, F, G, H, J, K, L, M, Q, S, T, U, V, X, Z',\n",
       "  'quality_control_flag_meanings': 'Value_out_of_bounds Time_not_sequential Failed_T_Tw_Td_test Failed_true_wind_recomputation_test Platform_velocity_unrealistic Value_exceeds_threshold Discontinuity Erroneous_value Suspect_value_(visual) Value_located_over_land Instrument_malfunction Pre-flagged_as_suspect Spike_in_data_(visual) Time_duplicate Suspect_value_(statistical) Step_in_data_(statistical) Spike_in_data_(statistical) Value_passed_all_tests'},\n",
       " 'PL_WSPD': {'type': 'float',\n",
       "  'long_name': 'platform relative wind speed',\n",
       "  'units': 'meter second-1',\n",
       "  'instrument': 'Vaisala WAA151 (s/n W42236)',\n",
       "  'sensor_height': 21.100000381469727,\n",
       "  'distance_from_bow': 20.5,\n",
       "  'centerline_offset': -9999.0,\n",
       "  'observation_type': 'measured',\n",
       "  'standard_name': 'wind_speed',\n",
       "  'ancillary_variables': 'PL_WSPD_quality_control'},\n",
       " 'RAD_PAR': {'type': 'float',\n",
       "  'long_name': 'photosynthetically active radiation',\n",
       "  'units': 'microeinstein meter-2',\n",
       "  'instrument': 'unknown',\n",
       "  'rad_direction': 'downwelling',\n",
       "  'observation_type': 'measured',\n",
       "  'distance_from_bow': -9999.0,\n",
       "  'centerline_offset': -9999.0,\n",
       "  'sensor_height': -9999.0,\n",
       "  'standard_name': 'surface_downwelling_photosynthetic_radiative_flux_in_air',\n",
       "  'ancillary_variables': 'RAD_PAR_quality_control'},\n",
       " 'RAD_PAR_quality_control': {'type': 'string',\n",
       "  'standard_name': 'surface_downwelling_photosynthetic_radiative_flux_in_air status_flag',\n",
       "  'long_name': 'quality flags for surface_downwelling_photosynthetic_radiative_flux_in_air',\n",
       "  'quality_control_conventions': 'IMOS Reference Table F',\n",
       "  'quality_control_set': 3,\n",
       "  'quality_control_flag_values': 'B, C, D, E, F, G, H, J, K, L, M, Q, S, T, U, V, X, Z',\n",
       "  'quality_control_flag_meanings': 'Value_out_of_bounds Time_not_sequential Failed_T_Tw_Td_test Failed_true_wind_recomputation_test Platform_velocity_unrealistic Value_exceeds_threshold Discontinuity Erroneous_value Suspect_value_(visual) Value_located_over_land Instrument_malfunction Pre-flagged_as_suspect Spike_in_data_(visual) Time_duplicate Suspect_value_(statistical) Step_in_data_(statistical) Spike_in_data_(statistical) Value_passed_all_tests'},\n",
       " 'RELH': {'type': 'float',\n",
       "  'long_name': 'relative humidity (starboard)',\n",
       "  'units': 'percent',\n",
       "  'instrument': 'Vaisala HMP233 (s/n X20303107)',\n",
       "  'observation_type': 'measured',\n",
       "  'distance_from_bow': -9999.0,\n",
       "  'centerline_offset': -9999.0,\n",
       "  'sensor_height': 11.600000381469727,\n",
       "  'standard_name': 'relative_humidity',\n",
       "  'ancillary_variables': 'RELH_quality_control'},\n",
       " 'RELH_quality_control': {'type': 'string',\n",
       "  'standard_name': 'relative_humidity status_flag',\n",
       "  'long_name': 'quality flags for relative_humidity',\n",
       "  'quality_control_conventions': 'IMOS Reference Table F',\n",
       "  'quality_control_set': 3,\n",
       "  'quality_control_flag_values': 'B, C, D, E, F, G, H, J, K, L, M, Q, S, T, U, V, X, Z',\n",
       "  'quality_control_flag_meanings': 'Value_out_of_bounds Time_not_sequential Failed_T_Tw_Td_test Failed_true_wind_recomputation_test Platform_velocity_unrealistic Value_exceeds_threshold Discontinuity Erroneous_value Suspect_value_(visual) Value_located_over_land Instrument_malfunction Pre-flagged_as_suspect Spike_in_data_(visual) Time_duplicate Suspect_value_(statistical) Step_in_data_(statistical) Spike_in_data_(statistical) Value_passed_all_tests'},\n",
       " 'PL_CRS': {'type': 'float32',\n",
       "  'long_name': 'platform course',\n",
       "  'units': 'degrees (clockwise towards true north)',\n",
       "  'instrument': 'unknown',\n",
       "  'observation_type': 'measured',\n",
       "  'standard_name': 'platform_course',\n",
       "  'ancillary_variables': 'PL_CRS_quality_control'},\n",
       " 'ATMP': {'type': 'float',\n",
       "  'long_name': 'atmospheric pressure',\n",
       "  'units': 'millibar',\n",
       "  'instrument': 'Vaisala PTB220B (s/n V0430002)',\n",
       "  'mslp_indicator': 'adjusted to sea level',\n",
       "  'observation_type': 'measured',\n",
       "  'distance_from_bow': -9999.0,\n",
       "  'centerline_offset': -9999.0,\n",
       "  'sensor_height': 24.600000381469727,\n",
       "  'standard_name': 'air_pressure',\n",
       "  'ancillary_variables': 'ATMP_quality_control'},\n",
       " 'ATMP_quality_control': {'type': 'string',\n",
       "  'standard_name': 'air_pressure status_flag',\n",
       "  'long_name': 'quality flags for air_pressure',\n",
       "  'quality_control_conventions': 'IMOS Reference Table F',\n",
       "  'quality_control_set': 3,\n",
       "  'quality_control_flag_values': 'B, C, D, E, F, G, H, J, K, L, M, Q, S, T, U, V, X, Z',\n",
       "  'quality_control_flag_meanings': 'Value_out_of_bounds Time_not_sequential Failed_T_Tw_Td_test Failed_true_wind_recomputation_test Platform_velocity_unrealistic Value_exceeds_threshold Discontinuity Erroneous_value Suspect_value_(visual) Value_located_over_land Instrument_malfunction Pre-flagged_as_suspect Spike_in_data_(visual) Time_duplicate Suspect_value_(statistical) Step_in_data_(statistical) Spike_in_data_(statistical) Value_passed_all_tests'},\n",
       " 'AIRT': {'type': 'float',\n",
       "  'long_name': 'air temperature',\n",
       "  'units': 'celsius',\n",
       "  'instrument': 'Rosemount ST2401 (s/n 0512)',\n",
       "  'observation_type': 'measured',\n",
       "  'distance_from_bow': -9999.0,\n",
       "  'centerline_offset': -9999.0,\n",
       "  'sensor_height': 31.899999618530273,\n",
       "  'standard_name': 'air_temperature',\n",
       "  'ancillary_variables': 'AIRT_quality_control'},\n",
       " 'PL_SPD': {'type': 'float',\n",
       "  'long_name': 'platform speed over ground',\n",
       "  'units': 'meter second-1',\n",
       "  'instrument': 'unknown',\n",
       "  'observation_type': 'measured',\n",
       "  'standard_name': 'platform_speed_wrt_ground',\n",
       "  'ancillary_variables': 'PL_SPD_quality_control'},\n",
       " 'PL_SPD_quality_control': {'type': 'string',\n",
       "  'standard_name': 'platform_speed_wrt_ground status_flag',\n",
       "  'long_name': 'quality flags for platform_speed_wrt_ground',\n",
       "  'quality_control_conventions': 'IMOS Reference Table F',\n",
       "  'quality_control_set': 3,\n",
       "  'quality_control_flag_values': 'B, C, D, E, F, G, H, J, K, L, M, Q, S, T, U, V, X, Z',\n",
       "  'quality_control_flag_meanings': 'Value_out_of_bounds Time_not_sequential Failed_T_Tw_Td_test Failed_true_wind_recomputation_test Platform_velocity_unrealistic Value_exceeds_threshold Discontinuity Erroneous_value Suspect_value_(visual) Value_located_over_land Instrument_malfunction Pre-flagged_as_suspect Spike_in_data_(visual) Time_duplicate Suspect_value_(statistical) Step_in_data_(statistical) Spike_in_data_(statistical) Value_passed_all_tests'},\n",
       " 'WETT': {'type': 'float',\n",
       "  'long_name': 'wet-bulb temperature',\n",
       "  'units': 'celsius',\n",
       "  'instrument': 'Rosemount ST2401 (s/n 0512) + Vaisala HMP45D (s/n C3640004)',\n",
       "  'observation_type': 'calculated',\n",
       "  'distance_from_bow': -9999.0,\n",
       "  'centerline_offset': -9999.0,\n",
       "  'sensor_height': 31.899999618530273,\n",
       "  'standard_name': 'wet_bulb_temperature',\n",
       "  'ancillary_variables': 'WETT_quality_control'},\n",
       " 'WETT_quality_control': {'type': 'string',\n",
       "  'standard_name': 'wet_bulb_temperature status_flag',\n",
       "  'long_name': 'quality flags for wet_bulb_temperature',\n",
       "  'quality_control_conventions': 'IMOS Reference Table F',\n",
       "  'quality_control_set': 3,\n",
       "  'quality_control_flag_values': 'B, C, D, E, F, G, H, J, K, L, M, Q, S, T, U, V, X, Z',\n",
       "  'quality_control_flag_meanings': 'Value_out_of_bounds Time_not_sequential Failed_T_Tw_Td_test Failed_true_wind_recomputation_test Platform_velocity_unrealistic Value_exceeds_threshold Discontinuity Erroneous_value Suspect_value_(visual) Value_located_over_land Instrument_malfunction Pre-flagged_as_suspect Spike_in_data_(visual) Time_duplicate Suspect_value_(statistical) Step_in_data_(statistical) Spike_in_data_(statistical) Value_passed_all_tests'},\n",
       " 'DEWT': {'type': 'float',\n",
       "  'long_name': 'dew-point temperature',\n",
       "  'units': 'celsius',\n",
       "  'instrument': 'Rosemount ST2401 (s/n 0512) + Vaisala HMP45D (s/n C3640004)',\n",
       "  'observation_type': 'calculated',\n",
       "  'distance_from_bow': -9999.0,\n",
       "  'centerline_offset': -9999.0,\n",
       "  'sensor_height': 31.899999618530273,\n",
       "  'standard_name': 'dew_point_temperature',\n",
       "  'ancillary_variables': 'DEWT_quality_control'},\n",
       " 'DEWT_quality_control': {'type': 'string',\n",
       "  'standard_name': 'dew_point_temperature status_flag',\n",
       "  'long_name': 'quality flags for dew_point_temperature',\n",
       "  'quality_control_conventions': 'IMOS Reference Table F',\n",
       "  'quality_control_set': 3,\n",
       "  'quality_control_flag_values': 'B, C, D, E, F, G, H, J, K, L, M, Q, S, T, U, V, X, Z',\n",
       "  'quality_control_flag_meanings': 'Value_out_of_bounds Time_not_sequential Failed_T_Tw_Td_test Failed_true_wind_recomputation_test Platform_velocity_unrealistic Value_exceeds_threshold Discontinuity Erroneous_value Suspect_value_(visual) Value_located_over_land Instrument_malfunction Pre-flagged_as_suspect Spike_in_data_(visual) Time_duplicate Suspect_value_(statistical) Step_in_data_(statistical) Spike_in_data_(statistical) Value_passed_all_tests'},\n",
       " 'PL_CRS_quality_control': {'type': 'string',\n",
       "  'standard_name': 'platform_course status_flag',\n",
       "  'long_name': 'quality flags for platform_course',\n",
       "  'quality_control_conventions': 'IMOS Reference Table F',\n",
       "  'quality_control_set': 3,\n",
       "  'quality_control_flag_values': 'B, C, D, E, F, G, H, J, K, L, M, Q, S, T, U, V, X, Z',\n",
       "  'quality_control_flag_meanings': 'Value_out_of_bounds Time_not_sequential Failed_T_Tw_Td_test Failed_true_wind_recomputation_test Platform_velocity_unrealistic Value_exceeds_threshold Discontinuity Erroneous_value Suspect_value_(visual) Value_located_over_land Instrument_malfunction Pre-flagged_as_suspect Spike_in_data_(visual) Time_duplicate Suspect_value_(statistical) Step_in_data_(statistical) Spike_in_data_(statistical) Value_passed_all_tests'},\n",
       " 'timestamp': {'type': 'int64'},\n",
       " 'polygon': {'type': 'string'},\n",
       " 'platform_code': {'type': 'string'},\n",
       " 'filename': {'type': 'string'},\n",
       " 'dataset_metadata': {'metadata_uuid': '',\n",
       "  'title': 'Upper Ocean Thermal Data collected using XBT (expendable bathythermographs)',\n",
       "  'principal_investigator': 'Cowley, Rebecca',\n",
       "  'principal_investigator_email': 'rebecca.cowley@csiro.au',\n",
       "  'featureType': 'profile'}}"
      ]
     },
     "execution_count": 8,
     "metadata": {},
     "output_type": "execute_result"
    }
   ],
   "source": [
    "# parquet_meta = pa.parquet.read_schema(os.path.join(dname + '_common_metadata'))  # parquet metadata\n",
    "metadata = get_schema_metadata(dname)  # schema metadata\n",
    "metadata"
   ]
  },
  {
   "cell_type": "markdown",
   "metadata": {},
   "source": [
    "# Data Query and Plot"
   ]
  },
  {
   "cell_type": "markdown",
   "metadata": {},
   "source": [
    "## Create a TIME and BoundingBox filter"
   ]
  },
  {
   "cell_type": "code",
   "execution_count": 9,
   "metadata": {},
   "outputs": [],
   "source": [
    "filter_time = create_time_filter(parquet_ds, date_start='2011-12-23 10:14:00', date_end='2012-01-01 07:50:00')\n",
    "filter_geo = create_bbox_filter(parquet_ds, lat_min=-34, lat_max=-32, lon_min=150, lon_max=155)\n",
    "\n",
    "\n",
    "filter = filter_geo & filter_time"
   ]
  },
  {
   "cell_type": "code",
   "execution_count": 10,
   "metadata": {},
   "outputs": [
    {
     "name": "stdout",
     "output_type": "stream",
     "text": [
      "<class 'pandas.core.frame.DataFrame'>\n",
      "RangeIndex: 620 entries, 0 to 619\n",
      "Data columns (total 41 columns):\n",
      " #   Column                     Non-Null Count  Dtype         \n",
      "---  ------                     --------------  -----         \n",
      " 0   TIME                       620 non-null    datetime64[ns]\n",
      " 1   LATITUDE                   620 non-null    float64       \n",
      " 2   LONGITUDE                  620 non-null    float64       \n",
      " 3   TEMP                       440 non-null    float32       \n",
      " 4   history                    620 non-null    object        \n",
      " 5   TIME_quality_control       620 non-null    object        \n",
      " 6   LATITUDE_quality_control   620 non-null    object        \n",
      " 7   LONGITUDE_quality_control  620 non-null    object        \n",
      " 8   TEMP_quality_control       620 non-null    object        \n",
      " 9   PL_SPD                     620 non-null    float32       \n",
      " 10  PL_SPD_quality_control     620 non-null    object        \n",
      " 11  filename                   620 non-null    object        \n",
      " 12  TEMP_2                     0 non-null      float32       \n",
      " 13  TEMP_2_quality_control     0 non-null      object        \n",
      " 14  PSAL                       0 non-null      float32       \n",
      " 15  PSAL_quality_control       0 non-null      object        \n",
      " 16  AIRT_quality_control       620 non-null    object        \n",
      " 17  WSPD                       620 non-null    float32       \n",
      " 18  WSPD_quality_control       620 non-null    object        \n",
      " 19  WDIR                       620 non-null    float32       \n",
      " 20  WDIR_quality_control       620 non-null    object        \n",
      " 21  PL_WSPD_quality_control    0 non-null      object        \n",
      " 22  PL_WDIR                    0 non-null      float32       \n",
      " 23  PL_WDIR_quality_control    0 non-null      object        \n",
      " 24  PL_WSPD                    0 non-null      float32       \n",
      " 25  RAD_PAR                    0 non-null      float32       \n",
      " 26  RAD_PAR_quality_control    0 non-null      object        \n",
      " 27  RELH                       0 non-null      float32       \n",
      " 28  RELH_quality_control       0 non-null      object        \n",
      " 29  PL_CRS                     620 non-null    float32       \n",
      " 30  ATMP                       620 non-null    float32       \n",
      " 31  ATMP_quality_control       620 non-null    object        \n",
      " 32  AIRT                       620 non-null    float32       \n",
      " 33  WETT                       620 non-null    float32       \n",
      " 34  WETT_quality_control       620 non-null    object        \n",
      " 35  DEWT                       620 non-null    float32       \n",
      " 36  DEWT_quality_control       620 non-null    object        \n",
      " 37  PL_CRS_quality_control     620 non-null    object        \n",
      " 38  timestamp                  620 non-null    category      \n",
      " 39  polygon                    620 non-null    category      \n",
      " 40  platform_code              620 non-null    category      \n",
      "dtypes: category(3), datetime64[ns](1), float32(15), float64(2), object(20)\n",
      "memory usage: 160.0+ KB\n",
      "CPU times: user 1.41 s, sys: 113 ms, total: 1.53 s\n",
      "Wall time: 5.98 s\n"
     ]
    }
   ],
   "source": [
    "%%time\n",
    "# using pandas instead of pyarrow so that filters can directly be applied to the data, and not just the partition\n",
    "df = pd.read_parquet(dname, engine='pyarrow',filters=filter)\n",
    "df.info()"
   ]
  },
  {
   "cell_type": "code",
   "execution_count": 11,
   "metadata": {},
   "outputs": [
    {
     "data": {
      "image/png": "[encoded data removed]",
      "text/plain": [
       "<Figure size 640x480 with 2 Axes>"
      ]
     },
     "metadata": {},
     "output_type": "display_data"
    }
   ],
   "source": [
    "df_sorted = df.sort_values('TIME')\n",
    "\n",
    "# Create a list of segments\n",
    "points = np.array([df_sorted['LONGITUDE'], df_sorted['LATITUDE']]).T.reshape(-1, 1, 2)\n",
    "segments = np.concatenate([points[:-1], points[1:]], axis=1)\n",
    "\n",
    "# Create a LineCollection with segments colored by temperature\n",
    "norm = plt.Normalize(df_sorted['TEMP'].min(), df_sorted['TEMP'].max())\n",
    "lc = LineCollection(segments, cmap='RdYlBu_r', norm=norm)\n",
    "lc.set_array(df_sorted['TEMP'])\n",
    "lc.set_linewidth(2)\n",
    "\n",
    "fig, ax = plt.subplots()\n",
    "ax.add_collection(lc)\n",
    "ax.autoscale()\n",
    "ax.set_xlabel(metadata['LONGITUDE']['standard_name'])\n",
    "ax.set_ylabel(metadata['LATITUDE']['standard_name'])\n",
    "ax.invert_yaxis()\n",
    "\n",
    "# Adding color bar\n",
    "cbar = plt.colorbar(lc, ax=ax)\n",
    "cbar.set_label('Temperature')\n",
    "\n",
    "plt.show()"
   ]
  },
  {
   "cell_type": "markdown",
   "metadata": {},
   "source": [
    "## Create a TIME and scalar/number filter"
   ]
  },
  {
   "cell_type": "code",
   "execution_count": 12,
   "metadata": {},
   "outputs": [],
   "source": [
    "filter_time = create_time_filter(parquet_ds, date_start='2010-01-31 10:14:00', date_end='2010-02-01 07:50:00')\n",
    "\n",
    "expr_1 = pc.field('platform_code') == pa.scalar(\"FHZI\")\n",
    "filter = expr_1 & filter_time"
   ]
  },
  {
   "cell_type": "code",
   "execution_count": 13,
   "metadata": {},
   "outputs": [
    {
     "name": "stdout",
     "output_type": "stream",
     "text": [
      "<class 'pandas.core.frame.DataFrame'>\n",
      "RangeIndex: 26340 entries, 0 to 26339\n",
      "Data columns (total 41 columns):\n",
      " #   Column                     Non-Null Count  Dtype         \n",
      "---  ------                     --------------  -----         \n",
      " 0   TIME                       26340 non-null  datetime64[ns]\n",
      " 1   LATITUDE                   26340 non-null  float64       \n",
      " 2   LONGITUDE                  26340 non-null  float64       \n",
      " 3   TEMP                       26340 non-null  float32       \n",
      " 4   history                    26340 non-null  object        \n",
      " 5   TIME_quality_control       26340 non-null  object        \n",
      " 6   LATITUDE_quality_control   26340 non-null  object        \n",
      " 7   LONGITUDE_quality_control  26340 non-null  object        \n",
      " 8   TEMP_quality_control       26340 non-null  object        \n",
      " 9   PL_SPD                     26340 non-null  float32       \n",
      " 10  PL_SPD_quality_control     26340 non-null  object        \n",
      " 11  filename                   26340 non-null  object        \n",
      " 12  TEMP_2                     0 non-null      float32       \n",
      " 13  TEMP_2_quality_control     0 non-null      object        \n",
      " 14  PSAL                       0 non-null      float32       \n",
      " 15  PSAL_quality_control       0 non-null      object        \n",
      " 16  AIRT_quality_control       26340 non-null  object        \n",
      " 17  WSPD                       26340 non-null  float32       \n",
      " 18  WSPD_quality_control       26340 non-null  object        \n",
      " 19  WDIR                       26320 non-null  float32       \n",
      " 20  WDIR_quality_control       26340 non-null  object        \n",
      " 21  PL_WSPD_quality_control    25920 non-null  object        \n",
      " 22  PL_WDIR                    25900 non-null  float32       \n",
      " 23  PL_WDIR_quality_control    25920 non-null  object        \n",
      " 24  PL_WSPD                    25920 non-null  float32       \n",
      " 25  RAD_PAR                    25920 non-null  float32       \n",
      " 26  RAD_PAR_quality_control    25920 non-null  object        \n",
      " 27  RELH                       25920 non-null  float32       \n",
      " 28  RELH_quality_control       25920 non-null  object        \n",
      " 29  PL_CRS                     26340 non-null  float32       \n",
      " 30  ATMP                       26340 non-null  float32       \n",
      " 31  ATMP_quality_control       26340 non-null  object        \n",
      " 32  AIRT                       26340 non-null  float32       \n",
      " 33  WETT                       420 non-null    float32       \n",
      " 34  WETT_quality_control       420 non-null    object        \n",
      " 35  DEWT                       420 non-null    float32       \n",
      " 36  DEWT_quality_control       420 non-null    object        \n",
      " 37  PL_CRS_quality_control     26340 non-null  object        \n",
      " 38  timestamp                  26340 non-null  category      \n",
      " 39  polygon                    26340 non-null  category      \n",
      " 40  platform_code              26340 non-null  category      \n",
      "dtypes: category(3), datetime64[ns](1), float32(15), float64(2), object(20)\n",
      "memory usage: 6.3+ MB\n",
      "CPU times: user 2.11 s, sys: 171 ms, total: 2.28 s\n",
      "Wall time: 8.66 s\n"
     ]
    }
   ],
   "source": [
    "%%time\n",
    "# using pandas instead of pyarrow so that filters can directly be applied to the data, and not just the partition\n",
    "df = pd.read_parquet(dname, engine='pyarrow',filters=filter)\n",
    "df.info()"
   ]
  },
  {
   "cell_type": "code",
   "execution_count": 14,
   "metadata": {},
   "outputs": [
    {
     "data": {
      "image/png": "[encoded data removed]",
      "text/plain": [
       "<Figure size 640x480 with 2 Axes>"
      ]
     },
     "metadata": {},
     "output_type": "display_data"
    }
   ],
   "source": [
    "df_sorted = df.sort_values('TIME')\n",
    "\n",
    "# Create a list of segments\n",
    "points = np.array([df_sorted['LONGITUDE'], df_sorted['LATITUDE']]).T.reshape(-1, 1, 2)\n",
    "segments = np.concatenate([points[:-1], points[1:]], axis=1)\n",
    "\n",
    "# Create a LineCollection with segments colored by temperature\n",
    "norm = plt.Normalize(df_sorted['TEMP'].min(), df_sorted['TEMP'].max())\n",
    "lc = LineCollection(segments, cmap='RdYlBu_r', norm=norm)\n",
    "lc.set_array(df_sorted['TEMP'])\n",
    "lc.set_linewidth(2)\n",
    "\n",
    "fig, ax = plt.subplots()\n",
    "ax.add_collection(lc)\n",
    "ax.autoscale()\n",
    "ax.set_xlabel(metadata['LONGITUDE']['standard_name'])\n",
    "ax.set_ylabel(metadata['LATITUDE']['standard_name'])\n",
    "ax.invert_yaxis()\n",
    "\n",
    "# Adding color bar\n",
    "cbar = plt.colorbar(lc, ax=ax)\n",
    "cbar.set_label('Temperature')\n",
    "\n",
    "plt.show()"
   ]
  }
 ],
 "metadata": {
  "kernelspec": {
   "display_name": "Python 3 (ipykernel)",
   "language": "python",
   "name": "python3"
  },
  "language_info": {
   "codemirror_mode": {
    "name": "ipython",
    "version": 3
   },
   "file_extension": ".py",
   "mimetype": "text/x-python",
   "name": "python",
   "nbconvert_exporter": "python",
   "pygments_lexer": "ipython3",
   "version": "3.10.14"
  }
 },
 "nbformat": 4,
 "nbformat_minor": 4
}
