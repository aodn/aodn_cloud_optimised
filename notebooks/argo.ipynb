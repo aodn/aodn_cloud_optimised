{
 "cells": [
  {
   "cell_type": "markdown",
   "metadata": {
    "id": "Toi10WECQdzJ"
   },
   "source": [
    "## Access ARGO data in Parquet\n",
    "\n",
    "A jupyter notebook to show how to access and plot ARGO Core data available as a [Parquet](https://parquet.apache.org) dataset on S3"
   ]
  },
  {
   "cell_type": "code",
   "execution_count": 6,
   "metadata": {
    "id": "TJf1YgjtQdzS"
   },
   "outputs": [],
   "source": [
    "dataset_name = \"argo\""
   ]
  },
  {
   "cell_type": "markdown",
   "metadata": {
    "id": "u-FcvQ0UQdzW"
   },
   "source": [
    "## Install/Update packages and Load common functions"
   ]
  },
  {
   "cell_type": "code",
   "execution_count": 2,
   "metadata": {
    "colab": {
     "base_uri": "https://localhost:8080/"
    },
    "id": "YB7J7Y8FQdzY",
    "outputId": "cd691404-a147-4c3d-96f1-55e8d2e66427"
   },
   "outputs": [],
   "source": [
    "# only run once, then restart session and comment the next 3 lines\n",
    "!pip install s3fs -U\n",
    "!pip install pyarrow==16.0.0 -U\n",
    "!pip install zarr xarray[complete]\n",
    "!pip install pandas==2.2.2 -U"
   ]
  },
  {
   "cell_type": "code",
   "execution_count": 7,
   "metadata": {
    "colab": {
     "base_uri": "https://localhost:8080/"
    },
    "id": "zeETrs8zQdza",
    "outputId": "5af2116e-0fd5-46a4-fc2c-d0a26d8fe24c"
   },
   "outputs": [],
   "source": [
    "import requests\n",
    "import os\n",
    "if not os.path.exists('parquet_queries.py'):\n",
    "  print('Downloading parquet_queries.py')\n",
    "  url = 'https://raw.githubusercontent.com/aodn/aodn_cloud_optimised/main/notebooks/parquet_queries.py'\n",
    "  response = requests.get(url)\n",
    "  with open('parquet_queries.py', 'w') as f:\n",
    "      f.write(response.text)"
   ]
  },
  {
   "cell_type": "code",
   "execution_count": 8,
   "metadata": {
    "id": "XzHxvlw8Qdzc"
   },
   "outputs": [],
   "source": [
    "from parquet_queries import create_time_filter, create_bbox_filter, query_unique_value, plot_spatial_extent, get_spatial_extent, get_temporal_extent, get_schema_metadata\n",
    "import pyarrow.parquet as pq\n",
    "import pyarrow.dataset as pds\n",
    "import pyarrow as pa\n",
    "import os\n",
    "import pandas as pd\n",
    "import pyarrow.compute as pc"
   ]
  },
  {
   "cell_type": "markdown",
   "metadata": {
    "id": "AycdabTJQdze"
   },
   "source": [
    "## Location of the parquet dataset"
   ]
  },
  {
   "cell_type": "code",
   "execution_count": 9,
   "metadata": {
    "id": "F5rE3sRuQdzf"
   },
   "outputs": [],
   "source": [
    "BUCKET_OPTIMISED_DEFAULT=\"imos-data-lab-optimised\"\n",
    "dname = f\"s3://{BUCKET_OPTIMISED_DEFAULT}/cloud_optimised/cluster_testing/{dataset_name}.parquet/\"\n",
    "parquet_ds = pq.ParquetDataset(dname,partitioning='hive')"
   ]
  },
  {
   "cell_type": "markdown",
   "metadata": {
    "id": "9IWdsh9NQdzh"
   },
   "source": [
    "# Understanding the Dataset"
   ]
  },
  {
   "cell_type": "markdown",
   "metadata": {
    "id": "DQWJBByXQdzh"
   },
   "source": [
    "## Get partition keys\n",
    "Partitioning in Parquet involves organising data files based on the values of one or more columns, known as partition keys. When data is written to Parquet files with partitioning enabled, the files are physically stored in a directory structure that reflects the partition keys. This directory structure makes it easier to retrieve and process specific subsets of data based on the partition keys."
   ]
  },
  {
   "cell_type": "code",
   "execution_count": 10,
   "metadata": {
    "colab": {
     "base_uri": "https://localhost:8080/"
    },
    "id": "oBVjvC1tQdzi",
    "outputId": "9896acb9-168b-4038-babc-ea4048e1d7fc"
   },
   "outputs": [
    {
     "name": "stdout",
     "output_type": "stream",
     "text": [
      "timestamp: int32\n",
      "PLATFORM_NUMBER: int32\n",
      "polygon: string\n"
     ]
    }
   ],
   "source": [
    "dataset = pds.dataset(dname, format=\"parquet\", partitioning=\"hive\")\n",
    "\n",
    "partition_keys = dataset.partitioning.schema\n",
    "print(partition_keys)"
   ]
  },
  {
   "cell_type": "markdown",
   "metadata": {
    "id": "nsP2odmAQdzk"
   },
   "source": [
    "## List unique partition values"
   ]
  },
  {
   "cell_type": "code",
   "execution_count": 15,
   "metadata": {
    "colab": {
     "base_uri": "https://localhost:8080/"
    },
    "id": "HIZF5O3cQdzl",
    "outputId": "abb16db6-2a9c-49d9-daf2-c00e1afb38ea"
   },
   "outputs": [
    {
     "name": "stdout",
     "output_type": "stream",
     "text": [
      "['5900029', '2902658']\n",
      "CPU times: user 178 ms, sys: 33 µs, total: 178 ms\n",
      "Wall time: 182 ms\n"
     ]
    },
    {
     "data": {
      "text/plain": [
       "3695"
      ]
     },
     "execution_count": 15,
     "metadata": {},
     "output_type": "execute_result"
    }
   ],
   "source": [
    "%%time\n",
    "unique_partition_value = query_unique_value(parquet_ds, 'PLATFORM_NUMBER')\n",
    "print(list(unique_partition_value)[0:2])  # showing a subset only\n",
    "len(unique_partition_value)"
   ]
  },
  {
   "cell_type": "markdown",
   "metadata": {
    "id": "B6mnQtRWQdzm"
   },
   "source": [
    "## Visualise Spatial Extent of the dataset\n",
    "In this section, we're plotting the polygons where data exists. This helps then with creating a bounding box where there is data"
   ]
  },
  {
   "cell_type": "code",
   "execution_count": 12,
   "metadata": {
    "colab": {
     "base_uri": "https://localhost:8080/",
     "height": 318
    },
    "id": "owI5Rx0kQdzn",
    "outputId": "d310299b-a056-4b71-f60f-05bfd25e00bb"
   },
   "outputs": [
    {
     "data": {
      "image/png": "[encoded data removed]",
      "text/plain": [
       "<Figure size 640x480 with 1 Axes>"
      ]
     },
     "metadata": {},
     "output_type": "display_data"
    }
   ],
   "source": [
    "plot_spatial_extent(parquet_ds)"
   ]
  },
  {
   "cell_type": "markdown",
   "metadata": {
    "id": "XqoUU0rSQdzn"
   },
   "source": [
    "## Get Temporal Extent of the dataset"
   ]
  },
  {
   "cell_type": "markdown",
   "metadata": {
    "id": "j8hIUrEiQdzo"
   },
   "source": [
    "Similary to the spatial extent, we're retrieving the minimum and maximum timestamp partition values of the dataset. This is not necessarely accurately representative of the TIME values, as the timestamp partition can be yearly/monthly... but is here to give an idea"
   ]
  },
  {
   "cell_type": "code",
   "execution_count": 13,
   "metadata": {
    "colab": {
     "base_uri": "https://localhost:8080/"
    },
    "id": "dLLrZLPRQdzo",
    "outputId": "4eaebf32-a48c-4ef3-f221-d3ed71f2e269"
   },
   "outputs": [
    {
     "data": {
      "text/plain": [
       "(datetime.datetime(1998, 1, 1, 11, 0), datetime.datetime(2024, 1, 1, 11, 0))"
      ]
     },
     "execution_count": 13,
     "metadata": {},
     "output_type": "execute_result"
    }
   ],
   "source": [
    "get_temporal_extent(parquet_ds)"
   ]
  },
  {
   "cell_type": "markdown",
   "metadata": {
    "id": "MkK9kuQdQdzp"
   },
   "source": [
    "## Read Metadata\n",
    "\n",
    "For all parquet dataset, we create a sidecar file in the root of the dataset named **_common_matadata**. This contains the variable attributes."
   ]
  },
  {
   "cell_type": "code",
   "execution_count": 14,
   "metadata": {
    "colab": {
     "base_uri": "https://localhost:8080/"
    },
    "id": "MYOh_AiLQdzp",
    "outputId": "d9578e1a-7a97-4c68-82b3-92a56e6cd765"
   },
   "outputs": [
    {
     "data": {
      "text/plain": [
       "{'DATA_TYPE': {'type': 'string',\n",
       "  'long_name': 'Data type',\n",
       "  'conventions': 'Argo reference table 1'},\n",
       " 'FORMAT_VERSION': {'type': 'string', 'long_name': 'File format version'},\n",
       " 'HANDBOOK_VERSION': {'type': 'string', 'long_name': 'Data handbook version'},\n",
       " 'REFERENCE_DATE_TIME': {'type': 'string',\n",
       "  'long_name': 'Date of reference for Julian days',\n",
       "  'conventions': 'YYYYMMDDHHMISS'},\n",
       " 'DATE_CREATION': {'type': 'string',\n",
       "  'long_name': 'Date of file creation',\n",
       "  'conventions': 'YYYYMMDDHHMISS'},\n",
       " 'DATE_UPDATE': {'type': 'string',\n",
       "  'long_name': 'Date of update of this file',\n",
       "  'conventions': 'YYYYMMDDHHMISS'},\n",
       " 'PLATFORM_NUMBER': {'type': 'string',\n",
       "  'long_name': 'Float unique identifier',\n",
       "  'conventions': 'WMO float identifier : A9IIIII'},\n",
       " 'PROJECT_NAME': {'type': 'string', 'long_name': 'Name of the project'},\n",
       " 'PI_NAME': {'type': 'string',\n",
       "  'long_name': 'Name of the principal investigator'},\n",
       " 'STATION_PARAMETERS': {'type': 'string',\n",
       "  'long_name': 'List of available parameters for the station',\n",
       "  'conventions': 'Argo reference table 3'},\n",
       " 'CYCLE_NUMBER': {'type': 'double',\n",
       "  'long_name': 'Float cycle number',\n",
       "  'conventions': '0...N, 0 : launch cycle (if exists), 1 : first complete cycle'},\n",
       " 'DIRECTION': {'type': 'string',\n",
       "  'long_name': 'Direction of the station profiles',\n",
       "  'conventions': 'A: ascending profiles, D: descending profiles'},\n",
       " 'DATA_CENTRE': {'type': 'string',\n",
       "  'long_name': 'Data centre in charge of float data processing',\n",
       "  'conventions': 'Argo reference table 4'},\n",
       " 'DC_REFERENCE': {'type': 'string',\n",
       "  'long_name': 'Station unique identifier in data centre',\n",
       "  'conventions': 'Data centre convention'},\n",
       " 'DATA_STATE_INDICATOR': {'type': 'string',\n",
       "  'long_name': 'Degree of processing the data have passed through',\n",
       "  'conventions': 'Argo reference table 6'},\n",
       " 'DATA_MODE': {'type': 'string',\n",
       "  'long_name': 'Delayed mode or real time data',\n",
       "  'conventions': 'R : real time; D : delayed mode; A : real time with adjustment'},\n",
       " 'PLATFORM_TYPE': {'type': 'string',\n",
       "  'long_name': 'Type of float',\n",
       "  'conventions': 'Argo reference table 23'},\n",
       " 'FLOAT_SERIAL_NO': {'type': 'string',\n",
       "  'long_name': 'Serial number of the float'},\n",
       " 'FIRMWARE_VERSION': {'type': 'string',\n",
       "  'long_name': 'Instrument firmware version'},\n",
       " 'WMO_INST_TYPE': {'type': 'string',\n",
       "  'long_name': 'Coded instrument type',\n",
       "  'conventions': 'Argo reference table 8'},\n",
       " 'JULD': {'type': 'timestamp[ns]',\n",
       "  'long_name': 'Julian day (UTC) of the station relative to REFERENCE_DATE_TIME',\n",
       "  'standard_name': 'time',\n",
       "  'conventions': 'Relative julian days with decimal part (as parts of day)',\n",
       "  'resolution': 0.0,\n",
       "  'axis': 'T'},\n",
       " 'JULD_QC': {'type': 'string',\n",
       "  'long_name': 'Quality on date and time',\n",
       "  'conventions': 'Argo reference table 2'},\n",
       " 'JULD_LOCATION': {'type': 'timestamp[ns]',\n",
       "  'long_name': 'Julian day (UTC) of the location relative to REFERENCE_DATE_TIME',\n",
       "  'conventions': 'Relative julian days with decimal part (as parts of day)',\n",
       "  'resolution': 0.0},\n",
       " 'LATITUDE': {'type': 'double',\n",
       "  'long_name': 'Latitude of the station, best estimate',\n",
       "  'standard_name': 'latitude',\n",
       "  'units': 'degree_north',\n",
       "  'valid_min': -90.0,\n",
       "  'valid_max': 90.0,\n",
       "  'axis': 'Y'},\n",
       " 'LONGITUDE': {'type': 'double',\n",
       "  'long_name': 'Longitude of the station, best estimate',\n",
       "  'standard_name': 'longitude',\n",
       "  'units': 'degree_east',\n",
       "  'valid_min': -180.0,\n",
       "  'valid_max': 180.0,\n",
       "  'axis': 'X'},\n",
       " 'POSITION_QC': {'type': 'string',\n",
       "  'long_name': 'Quality on position (latitude and longitude)',\n",
       "  'conventions': 'Argo reference table 2'},\n",
       " 'POSITIONING_SYSTEM': {'type': 'string', 'long_name': 'Positioning system'},\n",
       " 'PROFILE_PRES_QC': {'type': 'string',\n",
       "  'long_name': 'Global quality flag of PRES profile',\n",
       "  'conventions': 'Argo reference table 2a'},\n",
       " 'PROFILE_TEMP_QC': {'type': 'string',\n",
       "  'long_name': 'Global quality flag of TEMP profile',\n",
       "  'conventions': 'Argo reference table 2a'},\n",
       " 'PROFILE_PSAL_QC': {'type': 'string',\n",
       "  'long_name': 'Global quality flag of PSAL profile',\n",
       "  'conventions': 'Argo reference table 2a'},\n",
       " 'VERTICAL_SAMPLING_SCHEME': {'type': 'string',\n",
       "  'long_name': 'Vertical sampling scheme',\n",
       "  'conventions': 'Argo reference table 16'},\n",
       " 'CONFIG_MISSION_NUMBER': {'type': 'double',\n",
       "  'long_name': 'Unique number denoting the missions performed by the float',\n",
       "  'conventions': '1...N, 1 : first complete mission'},\n",
       " 'PRES': {'type': 'float',\n",
       "  'long_name': 'Sea water pressure, equals 0 at sea-level',\n",
       "  'standard_name': 'sea_water_pressure',\n",
       "  'units': 'decibar',\n",
       "  'valid_min': 0.0,\n",
       "  'valid_max': 12000.0,\n",
       "  'C_format': '%7.1f',\n",
       "  'FORTRAN_format': 'F7.1',\n",
       "  'resolution': 1.0,\n",
       "  'axis': 'Z'},\n",
       " 'PRES_QC': {'type': 'string',\n",
       "  'long_name': 'quality flag',\n",
       "  'conventions': 'Argo reference table 2'},\n",
       " 'PRES_ADJUSTED': {'type': 'float',\n",
       "  'long_name': 'Sea water pressure, equals 0 at sea-level',\n",
       "  'standard_name': 'sea_water_pressure',\n",
       "  'units': 'decibar',\n",
       "  'valid_min': 0.0,\n",
       "  'valid_max': 12000.0,\n",
       "  'C_format': '%7.1f',\n",
       "  'FORTRAN_format': 'F7.1',\n",
       "  'resolution': 1.0,\n",
       "  'axis': 'Z'},\n",
       " 'PRES_ADJUSTED_QC': {'type': 'string',\n",
       "  'long_name': 'quality flag',\n",
       "  'conventions': 'Argo reference table 2'},\n",
       " 'PRES_ADJUSTED_ERROR': {'type': 'float',\n",
       "  'long_name': 'Contains the error on the adjusted values as determined by the delayed mode QC process',\n",
       "  'units': 'decibar',\n",
       "  'C_format': '%7.1f',\n",
       "  'FORTRAN_format': 'F7.1',\n",
       "  'resolution': 1.0},\n",
       " 'TEMP': {'type': 'float',\n",
       "  'long_name': 'Sea temperature in-situ ITS-90 scale',\n",
       "  'standard_name': 'sea_water_temperature',\n",
       "  'units': 'degree_Celsius',\n",
       "  'valid_min': -2.5,\n",
       "  'valid_max': 40.0,\n",
       "  'C_format': '%9.3f',\n",
       "  'FORTRAN_format': 'F9.3',\n",
       "  'resolution': 0.0010000000474974513},\n",
       " 'TEMP_QC': {'type': 'string',\n",
       "  'long_name': 'quality flag',\n",
       "  'conventions': 'Argo reference table 2'},\n",
       " 'TEMP_ADJUSTED': {'type': 'float',\n",
       "  'long_name': 'Sea temperature in-situ ITS-90 scale',\n",
       "  'standard_name': 'sea_water_temperature',\n",
       "  'units': 'degree_Celsius',\n",
       "  'valid_min': -2.5,\n",
       "  'valid_max': 40.0,\n",
       "  'C_format': '%9.3f',\n",
       "  'FORTRAN_format': 'F9.3',\n",
       "  'resolution': 0.0010000000474974513},\n",
       " 'TEMP_ADJUSTED_QC': {'type': 'string',\n",
       "  'long_name': 'quality flag',\n",
       "  'conventions': 'Argo reference table 2'},\n",
       " 'TEMP_ADJUSTED_ERROR': {'type': 'float',\n",
       "  'long_name': 'Contains the error on the adjusted values as determined by the delayed mode QC process',\n",
       "  'units': 'degree_Celsius',\n",
       "  'C_format': '%9.3f',\n",
       "  'FORTRAN_format': 'F9.3',\n",
       "  'resolution': 0.0010000000474974513},\n",
       " 'PSAL': {'type': 'float',\n",
       "  'long_name': 'Practical salinity',\n",
       "  'standard_name': 'sea_water_salinity',\n",
       "  'units': 'psu',\n",
       "  'valid_min': 2.0,\n",
       "  'valid_max': 41.0,\n",
       "  'C_format': '%9.3f',\n",
       "  'FORTRAN_format': 'F9.3',\n",
       "  'resolution': 0.0010000000474974513},\n",
       " 'PSAL_QC': {'type': 'string',\n",
       "  'long_name': 'quality flag',\n",
       "  'conventions': 'Argo reference table 2'},\n",
       " 'PSAL_ADJUSTED': {'type': 'float',\n",
       "  'long_name': 'Practical salinity',\n",
       "  'standard_name': 'sea_water_salinity',\n",
       "  'units': 'psu',\n",
       "  'valid_min': 2.0,\n",
       "  'valid_max': 41.0,\n",
       "  'C_format': '%9.3f',\n",
       "  'FORTRAN_format': 'F9.3',\n",
       "  'resolution': 0.0010000000474974513},\n",
       " 'PSAL_ADJUSTED_QC': {'type': 'string',\n",
       "  'long_name': 'quality flag',\n",
       "  'conventions': 'Argo reference table 2'},\n",
       " 'PSAL_ADJUSTED_ERROR': {'type': 'float',\n",
       "  'long_name': 'Contains the error on the adjusted values as determined by the delayed mode QC process',\n",
       "  'units': 'psu',\n",
       "  'C_format': '%9.3f',\n",
       "  'FORTRAN_format': 'F9.3',\n",
       "  'resolution': 0.0010000000474974513},\n",
       " 'PARAMETER': {'type': 'string',\n",
       "  'long_name': 'List of parameters with calibration information',\n",
       "  'conventions': 'Argo reference table 3'},\n",
       " 'SCIENTIFIC_CALIB_EQUATION': {'type': 'string',\n",
       "  'long_name': 'Calibration equation for this parameter'},\n",
       " 'SCIENTIFIC_CALIB_COEFFICIENT': {'type': 'string',\n",
       "  'long_name': 'Calibration coefficients for this equation'},\n",
       " 'SCIENTIFIC_CALIB_COMMENT': {'type': 'string',\n",
       "  'long_name': 'Comment applying to this parameter calibration'},\n",
       " 'SCIENTIFIC_CALIB_DATE': {'type': 'string',\n",
       "  'long_name': 'Date of calibration',\n",
       "  'conventions': 'YYYYMMDDHHMISS'},\n",
       " 'HISTORY_INSTITUTION': {'type': 'string',\n",
       "  'long_name': 'Institution which performed action',\n",
       "  'conventions': 'Argo reference table 4'},\n",
       " 'HISTORY_STEP': {'type': 'string',\n",
       "  'long_name': 'Step in data processing',\n",
       "  'conventions': 'Argo reference table 12'},\n",
       " 'HISTORY_SOFTWARE': {'type': 'string',\n",
       "  'long_name': 'Name of software which performed action',\n",
       "  'conventions': 'Institution dependent'},\n",
       " 'HISTORY_SOFTWARE_RELEASE': {'type': 'string',\n",
       "  'long_name': 'Version/release of software which performed action',\n",
       "  'conventions': 'Institution dependent'},\n",
       " 'HISTORY_REFERENCE': {'type': 'string',\n",
       "  'long_name': 'Reference of database',\n",
       "  'conventions': 'Institution dependent'},\n",
       " 'HISTORY_DATE': {'type': 'string',\n",
       "  'long_name': 'Date the history record was created',\n",
       "  'conventions': 'YYYYMMDDHHMISS'},\n",
       " 'HISTORY_ACTION': {'type': 'string',\n",
       "  'long_name': 'Action performed on data',\n",
       "  'conventions': 'Argo reference table 7'},\n",
       " 'HISTORY_PARAMETER': {'type': 'string',\n",
       "  'long_name': 'Station parameter action is performed on',\n",
       "  'conventions': 'Argo reference table 3'},\n",
       " 'HISTORY_START_PRES': {'type': 'float',\n",
       "  'long_name': 'Start pressure action applied on',\n",
       "  'units': 'decibar'},\n",
       " 'HISTORY_STOP_PRES': {'type': 'float',\n",
       "  'long_name': 'Stop pressure action applied on',\n",
       "  'units': 'decibar'},\n",
       " 'HISTORY_PREVIOUS_VALUE': {'type': 'float',\n",
       "  'long_name': 'Parameter/Flag previous value before action'},\n",
       " 'HISTORY_QCTEST': {'type': 'string',\n",
       "  'long_name': 'Documentation of tests performed, tests failed (in hex form)',\n",
       "  'conventions': 'Write tests performed when ACTION=QCP$; tests failed when ACTION=QCF$'},\n",
       " 'filename': {'type': 'string'},\n",
       " 'timestamp': {'type': 'int64'},\n",
       " 'polygon': {'type': 'string'},\n",
       " 'dataset_metadata': {'metadata_uuid': '4402cb50-e20a-44ee-93e6-4728259250d2',\n",
       "  'title': 'Argo Core'}}"
      ]
     },
     "execution_count": 14,
     "metadata": {},
     "output_type": "execute_result"
    }
   ],
   "source": [
    "# parquet_meta = pa.parquet.read_schema(os.path.join(dname + '_common_metadata'))  # parquet metadata\n",
    "get_schema_metadata(dname)  # schema metadata"
   ]
  },
  {
   "cell_type": "markdown",
   "metadata": {
    "id": "EzmbSF4oQdzq"
   },
   "source": [
    "# Data Query and Plot"
   ]
  },
  {
   "cell_type": "markdown",
   "metadata": {
    "id": "v6QvVVLsQdzq"
   },
   "source": [
    "## Create a TIME and BoundingBox filter"
   ]
  },
  {
   "cell_type": "code",
   "execution_count": 10,
   "metadata": {
    "id": "SQ8m5afVQdzq"
   },
   "outputs": [],
   "source": [
    "filter_time = create_time_filter(parquet_ds, date_start='2018-12-01', date_end='2023-01-01')\n",
    "filter_geo = create_bbox_filter(parquet_ds, lat_min=-34, lat_max=-28, lon_min=151, lon_max=160)\n",
    "\n",
    "\n",
    "filter = filter_geo & filter_time"
   ]
  },
  {
   "cell_type": "code",
   "execution_count": 11,
   "metadata": {
    "colab": {
     "base_uri": "https://localhost:8080/"
    },
    "id": "LYGO9pRwQdzq",
    "outputId": "c889f934-ded6-4c19-d3a3-49580d933bba"
   },
   "outputs": [],
   "source": [
    "%%time\n",
    "# using pandas instead of pyarrow so that filters can directly be applied to the data, and not just the partition\n",
    "df = pd.read_parquet(dname, engine='pyarrow',filters=filter)\n",
    "df.info()"
   ]
  },
  {
   "cell_type": "code",
   "execution_count": 12,
   "metadata": {
    "colab": {
     "base_uri": "https://localhost:8080/",
     "height": 489
    },
    "id": "0VG-PwmIQdzs",
    "outputId": "fc029ab9-94e4-4c34-ba88-2e3241c5bf63"
   },
   "outputs": [],
   "source": [
    "df.plot.scatter(x='TEMP_ADJUSTED', y='PSAL_ADJUSTED', c='PRES_ADJUSTED', marker='+', linestyle=\"None\", cmap='RdYlBu_r', title='Temperature for each location')"
   ]
  },
  {
   "cell_type": "code",
   "execution_count": 13,
   "metadata": {
    "colab": {
     "base_uri": "https://localhost:8080/",
     "height": 472
    },
    "id": "geqOPVHIQdzt",
    "outputId": "b9fc1aea-cb14-417b-b692-5a76563163e7"
   },
   "outputs": [],
   "source": [
    "import matplotlib.pyplot as plt\n",
    "\n",
    "\n",
    "filtered_df = df[df['PLATFORM_NUMBER'] == 5905506]\n",
    "\n",
    "# Get unique values of CYCLE_NUMBER\n",
    "unique_cycle_numbers = filtered_df['CYCLE_NUMBER'].unique()\n",
    "\n",
    "# Define a dictionary to map each unique CYCLE_NUMBER to a color\n",
    "color_mapping = {cycle_number: plt.cm.viridis_r(i / len(unique_cycle_numbers)) for i, cycle_number in enumerate(unique_cycle_numbers)}\n",
    "\n",
    "# Plot TEMP_ADJUSTED vs PRES_ADJUSTED with different colors for each line\n",
    "for cycle_number, color in color_mapping.items():\n",
    "    cycle_df = filtered_df[filtered_df['CYCLE_NUMBER'] == cycle_number]\n",
    "    plt.plot(cycle_df['TEMP_ADJUSTED'], cycle_df['PRES_ADJUSTED'], color=color, label=f'Cycle {cycle_number}')\n",
    "\n",
    "plt.xlabel('Temperature Adjusted')\n",
    "plt.ylabel('Pressure Adjusted')\n",
    "plt.title('Temperature vs Pressure')\n",
    "plt.legend()\n",
    "plt.grid(True)\n",
    "\n",
    "# Reverse the y-axis\n",
    "plt.gca().invert_yaxis()\n",
    "\n",
    "plt.show()"
   ]
  },
  {
   "cell_type": "markdown",
   "metadata": {
    "id": "psp_kOBFQdzt"
   },
   "source": [
    "## Create a TIME and scalar/number filter"
   ]
  },
  {
   "cell_type": "code",
   "execution_count": 14,
   "metadata": {
    "id": "PtlD75nkQdzu"
   },
   "outputs": [],
   "source": [
    "filter_time = create_time_filter(parquet_ds, date_start='2006-07-12', date_end='2023-02-05')\n",
    "\n",
    "expr_1 = pc.field('PLATFORM_NUMBER') == 1901740\n",
    "filter = expr_1 & filter_time"
   ]
  },
  {
   "cell_type": "code",
   "execution_count": 15,
   "metadata": {
    "colab": {
     "base_uri": "https://localhost:8080/"
    },
    "id": "PQF8IgX9Qdzu",
    "outputId": "8930b940-58f5-449d-eb21-3d723bf6c0c8"
   },
   "outputs": [],
   "source": [
    "%%time\n",
    "# using pandas instead of pyarrow so that filters can directly be applied to the data, and not just the partition\n",
    "df = pd.read_parquet(dname, engine='pyarrow',filters=filter)\n",
    "df.info()"
   ]
  },
  {
   "cell_type": "code",
   "execution_count": 16,
   "metadata": {
    "colab": {
     "base_uri": "https://localhost:8080/",
     "height": 489
    },
    "id": "dvO7kLp1Qdzu",
    "outputId": "3624827e-c2ca-4179-e20d-cdf8b2be6529"
   },
   "outputs": [],
   "source": [
    "df.plot.scatter(x='TEMP_ADJUSTED', y='PSAL_ADJUSTED', c='PRES_ADJUSTED', marker='+', linestyle=\"None\", cmap='RdYlBu_r', title='Temperature for each location')"
   ]
  },
  {
   "cell_type": "code",
   "execution_count": null,
   "metadata": {
    "id": "tmq8RiggQdzv"
   },
   "outputs": [],
   "source": []
  }
 ],
 "metadata": {
  "colab": {
   "provenance": []
  },
  "kernelspec": {
   "display_name": "Python 3 (ipykernel)",
   "language": "python",
   "name": "python3"
  },
  "language_info": {
   "codemirror_mode": {
    "name": "ipython",
    "version": 3
   },
   "file_extension": ".py",
   "mimetype": "text/x-python",
   "name": "python",
   "nbconvert_exporter": "python",
   "pygments_lexer": "ipython3",
   "version": "3.12.4"
  }
 },
 "nbformat": 4,
 "nbformat_minor": 4
}
